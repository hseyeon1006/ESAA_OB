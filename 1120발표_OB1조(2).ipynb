{
  "nbformat": 4,
  "nbformat_minor": 0,
  "metadata": {
    "colab": {
      "provenance": [],
      "gpuType": "T4",
      "include_colab_link": true
    },
    "kernelspec": {
      "name": "python3",
      "display_name": "Python 3"
    },
    "language_info": {
      "name": "python"
    },
    "accelerator": "GPU",
    "widgets": {
      "application/vnd.jupyter.widget-state+json": {
        "3e27cf9a1c3c419cae9aeea289659a53": {
          "model_module": "@jupyter-widgets/controls",
          "model_name": "HBoxModel",
          "model_module_version": "1.5.0",
          "state": {
            "_dom_classes": [],
            "_model_module": "@jupyter-widgets/controls",
            "_model_module_version": "1.5.0",
            "_model_name": "HBoxModel",
            "_view_count": null,
            "_view_module": "@jupyter-widgets/controls",
            "_view_module_version": "1.5.0",
            "_view_name": "HBoxView",
            "box_style": "",
            "children": [
              "IPY_MODEL_f56be5188b474ebc957a2e7ec60d3794",
              "IPY_MODEL_9a107f5e6b954a488774d06cd5b0f17e",
              "IPY_MODEL_34f7ad2705f04bc79d6f637a59a489d6"
            ],
            "layout": "IPY_MODEL_b121b9b39abb49c7ba32036af3e990c4"
          }
        },
        "f56be5188b474ebc957a2e7ec60d3794": {
          "model_module": "@jupyter-widgets/controls",
          "model_name": "HTMLModel",
          "model_module_version": "1.5.0",
          "state": {
            "_dom_classes": [],
            "_model_module": "@jupyter-widgets/controls",
            "_model_module_version": "1.5.0",
            "_model_name": "HTMLModel",
            "_view_count": null,
            "_view_module": "@jupyter-widgets/controls",
            "_view_module_version": "1.5.0",
            "_view_name": "HTMLView",
            "description": "",
            "description_tooltip": null,
            "layout": "IPY_MODEL_8e5e87dc93f34fa7b6dd1a49b04e8fee",
            "placeholder": "​",
            "style": "IPY_MODEL_2d88f8e65df541d898c6cfd31e5f3cd3",
            "value": "  0%"
          }
        },
        "9a107f5e6b954a488774d06cd5b0f17e": {
          "model_module": "@jupyter-widgets/controls",
          "model_name": "FloatProgressModel",
          "model_module_version": "1.5.0",
          "state": {
            "_dom_classes": [],
            "_model_module": "@jupyter-widgets/controls",
            "_model_module_version": "1.5.0",
            "_model_name": "FloatProgressModel",
            "_view_count": null,
            "_view_module": "@jupyter-widgets/controls",
            "_view_module_version": "1.5.0",
            "_view_name": "ProgressView",
            "bar_style": "danger",
            "description": "",
            "description_tooltip": null,
            "layout": "IPY_MODEL_a7344aacb37242ac9874d5faa9edd3f8",
            "max": 1400,
            "min": 0,
            "orientation": "horizontal",
            "style": "IPY_MODEL_4a9b170f11844347906f640115d293d6",
            "value": 1
          }
        },
        "34f7ad2705f04bc79d6f637a59a489d6": {
          "model_module": "@jupyter-widgets/controls",
          "model_name": "HTMLModel",
          "model_module_version": "1.5.0",
          "state": {
            "_dom_classes": [],
            "_model_module": "@jupyter-widgets/controls",
            "_model_module_version": "1.5.0",
            "_model_name": "HTMLModel",
            "_view_count": null,
            "_view_module": "@jupyter-widgets/controls",
            "_view_module_version": "1.5.0",
            "_view_name": "HTMLView",
            "description": "",
            "description_tooltip": null,
            "layout": "IPY_MODEL_e9567ad28966444dae2ed4a314212889",
            "placeholder": "​",
            "style": "IPY_MODEL_98a009fd618c4c3da412d3b0e1575d21",
            "value": " 1/1400 [00:01&lt;27:26,  1.18s/it]"
          }
        },
        "b121b9b39abb49c7ba32036af3e990c4": {
          "model_module": "@jupyter-widgets/base",
          "model_name": "LayoutModel",
          "model_module_version": "1.2.0",
          "state": {
            "_model_module": "@jupyter-widgets/base",
            "_model_module_version": "1.2.0",
            "_model_name": "LayoutModel",
            "_view_count": null,
            "_view_module": "@jupyter-widgets/base",
            "_view_module_version": "1.2.0",
            "_view_name": "LayoutView",
            "align_content": null,
            "align_items": null,
            "align_self": null,
            "border": null,
            "bottom": null,
            "display": null,
            "flex": null,
            "flex_flow": null,
            "grid_area": null,
            "grid_auto_columns": null,
            "grid_auto_flow": null,
            "grid_auto_rows": null,
            "grid_column": null,
            "grid_gap": null,
            "grid_row": null,
            "grid_template_areas": null,
            "grid_template_columns": null,
            "grid_template_rows": null,
            "height": null,
            "justify_content": null,
            "justify_items": null,
            "left": null,
            "margin": null,
            "max_height": null,
            "max_width": null,
            "min_height": null,
            "min_width": null,
            "object_fit": null,
            "object_position": null,
            "order": null,
            "overflow": null,
            "overflow_x": null,
            "overflow_y": null,
            "padding": null,
            "right": null,
            "top": null,
            "visibility": null,
            "width": null
          }
        },
        "8e5e87dc93f34fa7b6dd1a49b04e8fee": {
          "model_module": "@jupyter-widgets/base",
          "model_name": "LayoutModel",
          "model_module_version": "1.2.0",
          "state": {
            "_model_module": "@jupyter-widgets/base",
            "_model_module_version": "1.2.0",
            "_model_name": "LayoutModel",
            "_view_count": null,
            "_view_module": "@jupyter-widgets/base",
            "_view_module_version": "1.2.0",
            "_view_name": "LayoutView",
            "align_content": null,
            "align_items": null,
            "align_self": null,
            "border": null,
            "bottom": null,
            "display": null,
            "flex": null,
            "flex_flow": null,
            "grid_area": null,
            "grid_auto_columns": null,
            "grid_auto_flow": null,
            "grid_auto_rows": null,
            "grid_column": null,
            "grid_gap": null,
            "grid_row": null,
            "grid_template_areas": null,
            "grid_template_columns": null,
            "grid_template_rows": null,
            "height": null,
            "justify_content": null,
            "justify_items": null,
            "left": null,
            "margin": null,
            "max_height": null,
            "max_width": null,
            "min_height": null,
            "min_width": null,
            "object_fit": null,
            "object_position": null,
            "order": null,
            "overflow": null,
            "overflow_x": null,
            "overflow_y": null,
            "padding": null,
            "right": null,
            "top": null,
            "visibility": null,
            "width": null
          }
        },
        "2d88f8e65df541d898c6cfd31e5f3cd3": {
          "model_module": "@jupyter-widgets/controls",
          "model_name": "DescriptionStyleModel",
          "model_module_version": "1.5.0",
          "state": {
            "_model_module": "@jupyter-widgets/controls",
            "_model_module_version": "1.5.0",
            "_model_name": "DescriptionStyleModel",
            "_view_count": null,
            "_view_module": "@jupyter-widgets/base",
            "_view_module_version": "1.2.0",
            "_view_name": "StyleView",
            "description_width": ""
          }
        },
        "a7344aacb37242ac9874d5faa9edd3f8": {
          "model_module": "@jupyter-widgets/base",
          "model_name": "LayoutModel",
          "model_module_version": "1.2.0",
          "state": {
            "_model_module": "@jupyter-widgets/base",
            "_model_module_version": "1.2.0",
            "_model_name": "LayoutModel",
            "_view_count": null,
            "_view_module": "@jupyter-widgets/base",
            "_view_module_version": "1.2.0",
            "_view_name": "LayoutView",
            "align_content": null,
            "align_items": null,
            "align_self": null,
            "border": null,
            "bottom": null,
            "display": null,
            "flex": null,
            "flex_flow": null,
            "grid_area": null,
            "grid_auto_columns": null,
            "grid_auto_flow": null,
            "grid_auto_rows": null,
            "grid_column": null,
            "grid_gap": null,
            "grid_row": null,
            "grid_template_areas": null,
            "grid_template_columns": null,
            "grid_template_rows": null,
            "height": null,
            "justify_content": null,
            "justify_items": null,
            "left": null,
            "margin": null,
            "max_height": null,
            "max_width": null,
            "min_height": null,
            "min_width": null,
            "object_fit": null,
            "object_position": null,
            "order": null,
            "overflow": null,
            "overflow_x": null,
            "overflow_y": null,
            "padding": null,
            "right": null,
            "top": null,
            "visibility": null,
            "width": null
          }
        },
        "4a9b170f11844347906f640115d293d6": {
          "model_module": "@jupyter-widgets/controls",
          "model_name": "ProgressStyleModel",
          "model_module_version": "1.5.0",
          "state": {
            "_model_module": "@jupyter-widgets/controls",
            "_model_module_version": "1.5.0",
            "_model_name": "ProgressStyleModel",
            "_view_count": null,
            "_view_module": "@jupyter-widgets/base",
            "_view_module_version": "1.2.0",
            "_view_name": "StyleView",
            "bar_color": null,
            "description_width": ""
          }
        },
        "e9567ad28966444dae2ed4a314212889": {
          "model_module": "@jupyter-widgets/base",
          "model_name": "LayoutModel",
          "model_module_version": "1.2.0",
          "state": {
            "_model_module": "@jupyter-widgets/base",
            "_model_module_version": "1.2.0",
            "_model_name": "LayoutModel",
            "_view_count": null,
            "_view_module": "@jupyter-widgets/base",
            "_view_module_version": "1.2.0",
            "_view_name": "LayoutView",
            "align_content": null,
            "align_items": null,
            "align_self": null,
            "border": null,
            "bottom": null,
            "display": null,
            "flex": null,
            "flex_flow": null,
            "grid_area": null,
            "grid_auto_columns": null,
            "grid_auto_flow": null,
            "grid_auto_rows": null,
            "grid_column": null,
            "grid_gap": null,
            "grid_row": null,
            "grid_template_areas": null,
            "grid_template_columns": null,
            "grid_template_rows": null,
            "height": null,
            "justify_content": null,
            "justify_items": null,
            "left": null,
            "margin": null,
            "max_height": null,
            "max_width": null,
            "min_height": null,
            "min_width": null,
            "object_fit": null,
            "object_position": null,
            "order": null,
            "overflow": null,
            "overflow_x": null,
            "overflow_y": null,
            "padding": null,
            "right": null,
            "top": null,
            "visibility": null,
            "width": null
          }
        },
        "98a009fd618c4c3da412d3b0e1575d21": {
          "model_module": "@jupyter-widgets/controls",
          "model_name": "DescriptionStyleModel",
          "model_module_version": "1.5.0",
          "state": {
            "_model_module": "@jupyter-widgets/controls",
            "_model_module_version": "1.5.0",
            "_model_name": "DescriptionStyleModel",
            "_view_count": null,
            "_view_module": "@jupyter-widgets/base",
            "_view_module_version": "1.2.0",
            "_view_name": "StyleView",
            "description_width": ""
          }
        }
      }
    }
  },
  "cells": [
    {
      "cell_type": "markdown",
      "metadata": {
        "id": "view-in-github",
        "colab_type": "text"
      },
      "source": [
        "<a href=\"https://colab.research.google.com/github/hseyeon1006/ESAA_OB/blob/main/1120%EB%B0%9C%ED%91%9C_OB1%EC%A1%B0(2).ipynb\" target=\"_parent\"><img src=\"https://colab.research.google.com/assets/colab-badge.svg\" alt=\"Open In Colab\"/></a>"
      ]
    },
    {
      "cell_type": "markdown",
      "source": [
        "[데이터 설명]\n",
        "\n",
        "1. train_data.csv\n",
        "\n",
        "├ Index : train data index\n",
        "\n",
        "├ Premise : 실제 Text\n",
        "\n",
        "├ Hypothesis : 가설 Text\n",
        "\n",
        "└ Label : 참(Entailment) 또는 거짓(Contradiction) 또는 중립(Neutral)\n",
        "\n",
        "\n",
        "\n",
        "*Premise와 Hypothesis의 관계를 추론\n",
        "\n",
        "\n",
        "\n",
        "2. test_data.csv\n",
        "├ Index : test data index\n",
        "\n",
        "├ Premise : 실제 Text\n",
        "\n",
        "├Hypothesis : 가설 Text\n",
        "\n",
        "└Label : 추론해야 하는 Label 값\n",
        "\n",
        "\n",
        "\n",
        "3. sample_submission.csv\n",
        "├ Index : test data index\n",
        "\n",
        "└Label : 추론해야 하는 Label 값"
      ],
      "metadata": {
        "id": "U3Ltcv058pMf"
      }
    },
    {
      "cell_type": "markdown",
      "source": [
        "KoBERT\n",
        "- 한국어에 대한 많은 사전학습이 이루어져 있음\n",
        "- 감성 분석 시, 긍부정 뿐만 아니라 다중 분류 가능함"
      ],
      "metadata": {
        "id": "ztUDTbZX5JHY"
      }
    },
    {
      "cell_type": "markdown",
      "source": [
        "adamp optimizer\n",
        "- 기울기 최적화 방법과 모멘텀 방법을 결합해서 최적화 성능 향상\n",
        "- 각 매개변수마다 학습률을 조정하여 전역 최적점과 지역 최적점 사이의 균형 유지\n",
        "\n",
        "작동원리\n",
        "1. 모델의 가중치를 무작위로 초기화\n",
        "2. 학습 데이터에서 미니배치 무작위 선택\n",
        "3. 선택한 미니배치 이용해서 손실함수 계산\n",
        "4. 손실함수 기울기 계산\n",
        "5. 기울기 사용해서 가중치 업데이트\n",
        "6. 단계들 반복하면서 전체 학습 데이터에 대해 가중치 업데이트\n",
        "\n",
        "장점\n",
        "- 빠름/ 성능 좋음\n",
        "- 지역 최적점에 잘 안빠지고 전역 최적점 가까이 수렴\n",
        "\n",
        "단점\n",
        "- 메모리 사용 큼"
      ],
      "metadata": {
        "id": "97ipY8pL5LZX"
      }
    },
    {
      "cell_type": "markdown",
      "source": [
        "###0. IMPORT PACKAGES & DATA LOAD"
      ],
      "metadata": {
        "id": "igyYPOwq2aDc"
      }
    },
    {
      "cell_type": "code",
      "source": [
        "# optimizer로 adamp 사용\n",
        "!pip install adamp"
      ],
      "metadata": {
        "colab": {
          "base_uri": "https://localhost:8080/"
        },
        "id": "slou8mD_AVCy",
        "outputId": "89594a59-13e7-424b-a178-f83fed3d123e"
      },
      "execution_count": null,
      "outputs": [
        {
          "output_type": "stream",
          "name": "stdout",
          "text": [
            "Collecting adamp\n",
            "  Downloading adamp-0.3.0.tar.gz (5.1 kB)\n",
            "  Preparing metadata (setup.py) ... \u001b[?25l\u001b[?25hdone\n",
            "Building wheels for collected packages: adamp\n",
            "  Building wheel for adamp (setup.py) ... \u001b[?25l\u001b[?25hdone\n",
            "  Created wheel for adamp: filename=adamp-0.3.0-py3-none-any.whl size=5982 sha256=b96485f9b973e769e4511b28d4cc010ba7aa33ad205b127de2a003de5f714a29\n",
            "  Stored in directory: /root/.cache/pip/wheels/c7/ad/0f/b41b1c45b18c66e5eef5d2254415af8055c7e2b0934145157d\n",
            "Successfully built adamp\n",
            "Installing collected packages: adamp\n",
            "Successfully installed adamp-0.3.0\n"
          ]
        }
      ]
    },
    {
      "cell_type": "code",
      "execution_count": null,
      "metadata": {
        "colab": {
          "base_uri": "https://localhost:8080/"
        },
        "id": "nVDCS5Zp7R_6",
        "outputId": "cc1e6605-8050-4657-dadd-8af64608a95e"
      },
      "outputs": [
        {
          "output_type": "stream",
          "name": "stdout",
          "text": [
            "Requirement already satisfied: transformers in /usr/local/lib/python3.10/dist-packages (4.35.2)\n",
            "Requirement already satisfied: filelock in /usr/local/lib/python3.10/dist-packages (from transformers) (3.13.1)\n",
            "Requirement already satisfied: huggingface-hub<1.0,>=0.16.4 in /usr/local/lib/python3.10/dist-packages (from transformers) (0.19.3)\n",
            "Requirement already satisfied: numpy>=1.17 in /usr/local/lib/python3.10/dist-packages (from transformers) (1.23.5)\n",
            "Requirement already satisfied: packaging>=20.0 in /usr/local/lib/python3.10/dist-packages (from transformers) (23.2)\n",
            "Requirement already satisfied: pyyaml>=5.1 in /usr/local/lib/python3.10/dist-packages (from transformers) (6.0.1)\n",
            "Requirement already satisfied: regex!=2019.12.17 in /usr/local/lib/python3.10/dist-packages (from transformers) (2023.6.3)\n",
            "Requirement already satisfied: requests in /usr/local/lib/python3.10/dist-packages (from transformers) (2.31.0)\n",
            "Requirement already satisfied: tokenizers<0.19,>=0.14 in /usr/local/lib/python3.10/dist-packages (from transformers) (0.15.0)\n",
            "Requirement already satisfied: safetensors>=0.3.1 in /usr/local/lib/python3.10/dist-packages (from transformers) (0.4.0)\n",
            "Requirement already satisfied: tqdm>=4.27 in /usr/local/lib/python3.10/dist-packages (from transformers) (4.66.1)\n",
            "Requirement already satisfied: fsspec>=2023.5.0 in /usr/local/lib/python3.10/dist-packages (from huggingface-hub<1.0,>=0.16.4->transformers) (2023.6.0)\n",
            "Requirement already satisfied: typing-extensions>=3.7.4.3 in /usr/local/lib/python3.10/dist-packages (from huggingface-hub<1.0,>=0.16.4->transformers) (4.5.0)\n",
            "Requirement already satisfied: charset-normalizer<4,>=2 in /usr/local/lib/python3.10/dist-packages (from requests->transformers) (3.3.2)\n",
            "Requirement already satisfied: idna<4,>=2.5 in /usr/local/lib/python3.10/dist-packages (from requests->transformers) (3.4)\n",
            "Requirement already satisfied: urllib3<3,>=1.21.1 in /usr/local/lib/python3.10/dist-packages (from requests->transformers) (2.0.7)\n",
            "Requirement already satisfied: certifi>=2017.4.17 in /usr/local/lib/python3.10/dist-packages (from requests->transformers) (2023.7.22)\n"
          ]
        }
      ],
      "source": [
        "!pip install transformers"
      ]
    },
    {
      "cell_type": "code",
      "source": [
        "#import packages\n",
        "import pandas as pd\n",
        "import numpy as np\n",
        "import os\n",
        "\n",
        "import transformers\n",
        "from transformers import AutoTokenizer, AdamW, RobertaForSequenceClassification\n",
        "from transformers import get_linear_schedule_with_warmup\n",
        "\n",
        "import torch\n",
        "from torch.nn import functional as F\n",
        "from torch.utils.data import DataLoader, Dataset\n",
        "\n",
        "from tqdm.notebook import tqdm, tqdm_notebook\n",
        "\n",
        "import random\n",
        "import torch.backends.cudnn as cudnn\n",
        "\n",
        "from sklearn.model_selection import StratifiedKFold\n",
        "\n",
        "from adamp import AdamP"
      ],
      "metadata": {
        "id": "ODhWeeid8BrP"
      },
      "execution_count": null,
      "outputs": []
    },
    {
      "cell_type": "code",
      "source": [
        "import os\n",
        "import random\n",
        "from tqdm import tqdm\n",
        "import matplotlib.pyplot as plt\n",
        "\n",
        "import torch\n",
        "import torch.nn.functional as F\n",
        "from torch.utils.data import DataLoader\n",
        "from sklearn.metrics import accuracy_score\n",
        "from sklearn.model_selection import train_test_split\n",
        "from transformers import TrainingArguments, Trainer\n",
        "from transformers import AutoModelForSequenceClassification, AutoConfig, AutoTokenizer"
      ],
      "metadata": {
        "id": "3fadgUrA3bFe"
      },
      "execution_count": null,
      "outputs": []
    },
    {
      "cell_type": "code",
      "source": [
        "#drive mount\n",
        "from google.colab import drive\n",
        "drive.mount('/content/mydrive')"
      ],
      "metadata": {
        "colab": {
          "base_uri": "https://localhost:8080/"
        },
        "id": "h2RiQ6hYxqJh",
        "outputId": "a036e455-631a-4804-f057-8d15a5d2c307"
      },
      "execution_count": null,
      "outputs": [
        {
          "output_type": "stream",
          "name": "stdout",
          "text": [
            "Mounted at /content/mydrive\n"
          ]
        }
      ]
    },
    {
      "cell_type": "code",
      "source": [
        "# klue-nli-dev 데이터 추가해서 train데이터셋으로 이용\n",
        "train = pd.read_csv('/content/mydrive/MyDrive/Colab_Notebooks/학회 OB/프로젝트/데이터/한국어 문장 관계 분류/train_data.csv')\n",
        "test = pd.read_csv('/content/mydrive/MyDrive/Colab_Notebooks/학회 OB/프로젝트/데이터/한국어 문장 관계 분류/test_data.csv')\n",
        "submission = pd.read_csv('/content/mydrive/MyDrive/Colab_Notebooks/학회 OB/프로젝트/데이터/한국어 문장 관계 분류/sample_submission.csv')"
      ],
      "metadata": {
        "id": "Nm2D0iOF2_B9"
      },
      "execution_count": null,
      "outputs": []
    },
    {
      "cell_type": "markdown",
      "source": [
        "###1. EDA"
      ],
      "metadata": {
        "id": "eClMOWLT2CgJ"
      }
    },
    {
      "cell_type": "code",
      "source": [
        "print(train.info(), end='\\n\\n')\n",
        "print(test.info())"
      ],
      "metadata": {
        "id": "P_0_g0PI3C4t"
      },
      "execution_count": null,
      "outputs": []
    },
    {
      "cell_type": "code",
      "source": [
        "print('Train Columns: ', train.columns)\n",
        "print('Test Columns: ', test.columns)"
      ],
      "metadata": {
        "id": "HaIa4GnW3Dt1"
      },
      "execution_count": null,
      "outputs": []
    },
    {
      "cell_type": "code",
      "source": [
        "print('Train Label: ', train['label'].value_counts(), sep='\\n', end='\\n\\n')\n",
        "print('Test Label: ', test['label'].value_counts(), sep='\\n')"
      ],
      "metadata": {
        "id": "ZFA1yaHt3EVP"
      },
      "execution_count": null,
      "outputs": []
    },
    {
      "cell_type": "code",
      "source": [
        "print('Train Null: ', train.isnull().sum(), sep='\\n', end='\\n\\n')\n",
        "print('Test Null: ', test.isnull().sum(), sep='\\n')"
      ],
      "metadata": {
        "id": "KMifX-1q3E8F"
      },
      "execution_count": null,
      "outputs": []
    },
    {
      "cell_type": "markdown",
      "source": [
        "LABEL 분포"
      ],
      "metadata": {
        "id": "Uk9vkM1e3GKw"
      }
    },
    {
      "cell_type": "code",
      "source": [
        "#Train Dataset의 Label 분포를 Bar Chart를 사용하여 시각화\n",
        "\n",
        "feature = train['label']\n",
        "\n",
        "plt.figure(figsize=(10,7.5))\n",
        "plt.title('Label Count', fontsize=20)\n",
        "\n",
        "temp = feature.value_counts()\n",
        "plt.bar(temp.keys(), temp.values, width=0.5, color='b', alpha=0.5)\n",
        "plt.text(-0.05, temp.values[0]+20, s=temp.values[0])\n",
        "plt.text(0.95, temp.values[1]+20, s=temp.values[1])\n",
        "plt.text(1.95, temp.values[2]+20, s=temp.values[2])\n",
        "\n",
        "plt.xticks(temp.keys(), fontsize=12) # x축 값, 폰트 크기 설정\n",
        "plt.tight_layout(rect=[0, 0.03, 1, 0.95]) # 레이아웃 설정\n",
        "plt.show() # 그래프 나타내기"
      ],
      "metadata": {
        "id": "LQyDY4hy3Hwe"
      },
      "execution_count": null,
      "outputs": []
    },
    {
      "cell_type": "markdown",
      "source": [
        "전체, 가설 길이 확인"
      ],
      "metadata": {
        "id": "XD9FN7o13JFP"
      }
    },
    {
      "cell_type": "code",
      "source": [
        "# Train에 존재하는 Premise(전제), Hypothesis(가설)의 길이를 확인하고 이를 통해 Tokenizer의 max_length 설정이 가능\n",
        "max_len = np.max(train['premise'].str.len())\n",
        "min_len = np.min(train['premise'].str.len())\n",
        "mean_len = np.mean(train['premise'].str.len())\n",
        "\n",
        "print('Max Premise Length: ', max_len)\n",
        "print('Min Premise Length: ', min_len)\n",
        "print('Mean Premise Lenght: ', mean_len, '\\n')\n",
        "\n",
        "max_len = np.max(train['hypothesis'].str.len())\n",
        "min_len = np.min(train['hypothesis'].str.len())\n",
        "mean_len = np.mean(train['hypothesis'].str.len())\n",
        "\n",
        "print('Max Hypothesis Length: ', max_len)\n",
        "print('Min Hypothesis Length: ', min_len)\n",
        "print('Mean Hypothesis Lenght: ', mean_len)"
      ],
      "metadata": {
        "id": "bOVDnL303KZN"
      },
      "execution_count": null,
      "outputs": []
    },
    {
      "cell_type": "code",
      "source": [
        "from collections import Counter\n",
        "\n",
        "plt.figure(figsize=(10,7.5))\n",
        "plt.title('Premise Length', fontsize=20)\n",
        "\n",
        "plt.hist(train['premise'].str.len(), alpha=0.5, color='orange')\n",
        "plt.tight_layout(rect=[0, 0.03, 1, 0.95]) # 레이아웃 설정\n",
        "\n",
        "plt.show()"
      ],
      "metadata": {
        "id": "4XVyrT1f3LVN"
      },
      "execution_count": null,
      "outputs": []
    },
    {
      "cell_type": "markdown",
      "source": [
        "[###3. MODEL 2](https://)"
      ],
      "metadata": {
        "id": "0hSMC7Ru20L4"
      }
    },
    {
      "cell_type": "code",
      "source": [
        "# klue-nli-dev 데이터 추가해서 train데이터셋으로 이용\n",
        "train_1 = pd.read_csv('/content/mydrive/MyDrive/Colab_Notebooks/학회 OB/프로젝트/데이터/한국어 문장 관계 분류/train_data.csv')\n",
        "train_2 = pd.read_csv('/content/mydrive/MyDrive/Colab_Notebooks/학회 OB/프로젝트/데이터/klue_dev.csv')\n",
        "test = pd.read_csv('/content/mydrive/MyDrive/Colab_Notebooks/학회 OB/프로젝트/데이터/한국어 문장 관계 분류/test_data.csv')\n",
        "submission = pd.read_csv('/content/mydrive/MyDrive/Colab_Notebooks/학회 OB/프로젝트/데이터/한국어 문장 관계 분류/sample_submission.csv')"
      ],
      "metadata": {
        "id": "8qjfaKBy8nlF"
      },
      "execution_count": null,
      "outputs": []
    },
    {
      "cell_type": "code",
      "source": [
        "train=pd.concat([train_1, train_2])"
      ],
      "metadata": {
        "id": "T3TVQkZL9ehm"
      },
      "execution_count": null,
      "outputs": []
    },
    {
      "cell_type": "code",
      "source": [
        "train"
      ],
      "metadata": {
        "colab": {
          "base_uri": "https://localhost:8080/",
          "height": 424
        },
        "id": "mkPn570M_IjO",
        "outputId": "a7b80b58-8941-49ae-a15e-96a80ad147b6"
      },
      "execution_count": null,
      "outputs": [
        {
          "output_type": "execute_result",
          "data": {
            "text/plain": [
              "      index                                            premise  \\\n",
              "0       0.0  씨름은 상고시대로부터 전해져 내려오는 남자들의 대표적인 놀이로서, 소년이나 장정들이...   \n",
              "1       1.0  삼성은 자작극을 벌인 2명에게 형사 고소 등의 법적 대응을 검토 중이라고 하였으나,...   \n",
              "2       2.0                    이를 위해 예측적 범죄예방 시스템을 구축하고 고도화한다.   \n",
              "3       3.0  광주광역시가 재개발 정비사업 원주민들에 대한 종합대책을 마련하는 등 원주민 보호에 ...   \n",
              "4       4.0  진정 소비자와 직원들에게 사랑 받는 기업으로 오래 지속되고 싶으면, 이런 상황에서는...   \n",
              "...     ...                                                ...   \n",
              "2989    NaN  흔히 비자림로라고 불리는 지방도 제1112호선을 넓히는 공사가 1년만에 재개되었다가...   \n",
              "2990    NaN  흔히 비자림로라고 불리는 지방도 제1112호선을 넓히는 공사가 1년만에 재개되었다가...   \n",
              "2991    NaN  흔히 비자림로라고 불리는 지방도 제1112호선을 넓히는 공사가 1년만에 재개되었다가...   \n",
              "2992    NaN                흡연자분들은 발코니가 있는 방이면 발코니에서 흡연이 가능합니다.   \n",
              "2993    NaN                흡연자분들은 발코니가 있는 방이면 발코니에서 흡연이 가능합니다.   \n",
              "\n",
              "                                   hypothesis          label  Unnamed: 0  \n",
              "0                              씨름의 여자들의 놀이이다.  contradiction         NaN  \n",
              "1                            자작극을 벌인 이는 3명이다.  contradiction         NaN  \n",
              "2     예측적 범죄예방 시스템 구축하고 고도화하는 것은 목적이 있기 때문이다.     entailment         NaN  \n",
              "3                           원주민들은 종합대책에 만족했다.        neutral         NaN  \n",
              "4          이런 상황에서 책임 있는 모습을 보여주는 기업은 아주 드물다.        neutral         NaN  \n",
              "...                                       ...            ...         ...  \n",
              "2989       지방도 제1112호선을 넓히는 공사는 중단없이 마무리 되었다.  contradiction      2989.0  \n",
              "2990       지방도 제1112호선을 넓히는 공사가 중단된 건 세 번째이다.        neutral      2990.0  \n",
              "2991              지방도 제1112호선은 흔히 비자림로라고 불린다.     entailment      2991.0  \n",
              "2992                  비흡연자는 발코니 있는 방이 필요없습니다.        neutral      2992.0  \n",
              "2993                흡연하려면 발코니 있는 방을 선택하면 됩니다.     entailment      2993.0  \n",
              "\n",
              "[27992 rows x 5 columns]"
            ],
            "text/html": [
              "\n",
              "  <div id=\"df-48290a7c-4536-495d-84c0-827282201fd6\" class=\"colab-df-container\">\n",
              "    <div>\n",
              "<style scoped>\n",
              "    .dataframe tbody tr th:only-of-type {\n",
              "        vertical-align: middle;\n",
              "    }\n",
              "\n",
              "    .dataframe tbody tr th {\n",
              "        vertical-align: top;\n",
              "    }\n",
              "\n",
              "    .dataframe thead th {\n",
              "        text-align: right;\n",
              "    }\n",
              "</style>\n",
              "<table border=\"1\" class=\"dataframe\">\n",
              "  <thead>\n",
              "    <tr style=\"text-align: right;\">\n",
              "      <th></th>\n",
              "      <th>index</th>\n",
              "      <th>premise</th>\n",
              "      <th>hypothesis</th>\n",
              "      <th>label</th>\n",
              "      <th>Unnamed: 0</th>\n",
              "    </tr>\n",
              "  </thead>\n",
              "  <tbody>\n",
              "    <tr>\n",
              "      <th>0</th>\n",
              "      <td>0.0</td>\n",
              "      <td>씨름은 상고시대로부터 전해져 내려오는 남자들의 대표적인 놀이로서, 소년이나 장정들이...</td>\n",
              "      <td>씨름의 여자들의 놀이이다.</td>\n",
              "      <td>contradiction</td>\n",
              "      <td>NaN</td>\n",
              "    </tr>\n",
              "    <tr>\n",
              "      <th>1</th>\n",
              "      <td>1.0</td>\n",
              "      <td>삼성은 자작극을 벌인 2명에게 형사 고소 등의 법적 대응을 검토 중이라고 하였으나,...</td>\n",
              "      <td>자작극을 벌인 이는 3명이다.</td>\n",
              "      <td>contradiction</td>\n",
              "      <td>NaN</td>\n",
              "    </tr>\n",
              "    <tr>\n",
              "      <th>2</th>\n",
              "      <td>2.0</td>\n",
              "      <td>이를 위해 예측적 범죄예방 시스템을 구축하고 고도화한다.</td>\n",
              "      <td>예측적 범죄예방 시스템 구축하고 고도화하는 것은 목적이 있기 때문이다.</td>\n",
              "      <td>entailment</td>\n",
              "      <td>NaN</td>\n",
              "    </tr>\n",
              "    <tr>\n",
              "      <th>3</th>\n",
              "      <td>3.0</td>\n",
              "      <td>광주광역시가 재개발 정비사업 원주민들에 대한 종합대책을 마련하는 등 원주민 보호에 ...</td>\n",
              "      <td>원주민들은 종합대책에 만족했다.</td>\n",
              "      <td>neutral</td>\n",
              "      <td>NaN</td>\n",
              "    </tr>\n",
              "    <tr>\n",
              "      <th>4</th>\n",
              "      <td>4.0</td>\n",
              "      <td>진정 소비자와 직원들에게 사랑 받는 기업으로 오래 지속되고 싶으면, 이런 상황에서는...</td>\n",
              "      <td>이런 상황에서 책임 있는 모습을 보여주는 기업은 아주 드물다.</td>\n",
              "      <td>neutral</td>\n",
              "      <td>NaN</td>\n",
              "    </tr>\n",
              "    <tr>\n",
              "      <th>...</th>\n",
              "      <td>...</td>\n",
              "      <td>...</td>\n",
              "      <td>...</td>\n",
              "      <td>...</td>\n",
              "      <td>...</td>\n",
              "    </tr>\n",
              "    <tr>\n",
              "      <th>2989</th>\n",
              "      <td>NaN</td>\n",
              "      <td>흔히 비자림로라고 불리는 지방도 제1112호선을 넓히는 공사가 1년만에 재개되었다가...</td>\n",
              "      <td>지방도 제1112호선을 넓히는 공사는 중단없이 마무리 되었다.</td>\n",
              "      <td>contradiction</td>\n",
              "      <td>2989.0</td>\n",
              "    </tr>\n",
              "    <tr>\n",
              "      <th>2990</th>\n",
              "      <td>NaN</td>\n",
              "      <td>흔히 비자림로라고 불리는 지방도 제1112호선을 넓히는 공사가 1년만에 재개되었다가...</td>\n",
              "      <td>지방도 제1112호선을 넓히는 공사가 중단된 건 세 번째이다.</td>\n",
              "      <td>neutral</td>\n",
              "      <td>2990.0</td>\n",
              "    </tr>\n",
              "    <tr>\n",
              "      <th>2991</th>\n",
              "      <td>NaN</td>\n",
              "      <td>흔히 비자림로라고 불리는 지방도 제1112호선을 넓히는 공사가 1년만에 재개되었다가...</td>\n",
              "      <td>지방도 제1112호선은 흔히 비자림로라고 불린다.</td>\n",
              "      <td>entailment</td>\n",
              "      <td>2991.0</td>\n",
              "    </tr>\n",
              "    <tr>\n",
              "      <th>2992</th>\n",
              "      <td>NaN</td>\n",
              "      <td>흡연자분들은 발코니가 있는 방이면 발코니에서 흡연이 가능합니다.</td>\n",
              "      <td>비흡연자는 발코니 있는 방이 필요없습니다.</td>\n",
              "      <td>neutral</td>\n",
              "      <td>2992.0</td>\n",
              "    </tr>\n",
              "    <tr>\n",
              "      <th>2993</th>\n",
              "      <td>NaN</td>\n",
              "      <td>흡연자분들은 발코니가 있는 방이면 발코니에서 흡연이 가능합니다.</td>\n",
              "      <td>흡연하려면 발코니 있는 방을 선택하면 됩니다.</td>\n",
              "      <td>entailment</td>\n",
              "      <td>2993.0</td>\n",
              "    </tr>\n",
              "  </tbody>\n",
              "</table>\n",
              "<p>27992 rows × 5 columns</p>\n",
              "</div>\n",
              "    <div class=\"colab-df-buttons\">\n",
              "\n",
              "  <div class=\"colab-df-container\">\n",
              "    <button class=\"colab-df-convert\" onclick=\"convertToInteractive('df-48290a7c-4536-495d-84c0-827282201fd6')\"\n",
              "            title=\"Convert this dataframe to an interactive table.\"\n",
              "            style=\"display:none;\">\n",
              "\n",
              "  <svg xmlns=\"http://www.w3.org/2000/svg\" height=\"24px\" viewBox=\"0 -960 960 960\">\n",
              "    <path d=\"M120-120v-720h720v720H120Zm60-500h600v-160H180v160Zm220 220h160v-160H400v160Zm0 220h160v-160H400v160ZM180-400h160v-160H180v160Zm440 0h160v-160H620v160ZM180-180h160v-160H180v160Zm440 0h160v-160H620v160Z\"/>\n",
              "  </svg>\n",
              "    </button>\n",
              "\n",
              "  <style>\n",
              "    .colab-df-container {\n",
              "      display:flex;\n",
              "      gap: 12px;\n",
              "    }\n",
              "\n",
              "    .colab-df-convert {\n",
              "      background-color: #E8F0FE;\n",
              "      border: none;\n",
              "      border-radius: 50%;\n",
              "      cursor: pointer;\n",
              "      display: none;\n",
              "      fill: #1967D2;\n",
              "      height: 32px;\n",
              "      padding: 0 0 0 0;\n",
              "      width: 32px;\n",
              "    }\n",
              "\n",
              "    .colab-df-convert:hover {\n",
              "      background-color: #E2EBFA;\n",
              "      box-shadow: 0px 1px 2px rgba(60, 64, 67, 0.3), 0px 1px 3px 1px rgba(60, 64, 67, 0.15);\n",
              "      fill: #174EA6;\n",
              "    }\n",
              "\n",
              "    .colab-df-buttons div {\n",
              "      margin-bottom: 4px;\n",
              "    }\n",
              "\n",
              "    [theme=dark] .colab-df-convert {\n",
              "      background-color: #3B4455;\n",
              "      fill: #D2E3FC;\n",
              "    }\n",
              "\n",
              "    [theme=dark] .colab-df-convert:hover {\n",
              "      background-color: #434B5C;\n",
              "      box-shadow: 0px 1px 3px 1px rgba(0, 0, 0, 0.15);\n",
              "      filter: drop-shadow(0px 1px 2px rgba(0, 0, 0, 0.3));\n",
              "      fill: #FFFFFF;\n",
              "    }\n",
              "  </style>\n",
              "\n",
              "    <script>\n",
              "      const buttonEl =\n",
              "        document.querySelector('#df-48290a7c-4536-495d-84c0-827282201fd6 button.colab-df-convert');\n",
              "      buttonEl.style.display =\n",
              "        google.colab.kernel.accessAllowed ? 'block' : 'none';\n",
              "\n",
              "      async function convertToInteractive(key) {\n",
              "        const element = document.querySelector('#df-48290a7c-4536-495d-84c0-827282201fd6');\n",
              "        const dataTable =\n",
              "          await google.colab.kernel.invokeFunction('convertToInteractive',\n",
              "                                                    [key], {});\n",
              "        if (!dataTable) return;\n",
              "\n",
              "        const docLinkHtml = 'Like what you see? Visit the ' +\n",
              "          '<a target=\"_blank\" href=https://colab.research.google.com/notebooks/data_table.ipynb>data table notebook</a>'\n",
              "          + ' to learn more about interactive tables.';\n",
              "        element.innerHTML = '';\n",
              "        dataTable['output_type'] = 'display_data';\n",
              "        await google.colab.output.renderOutput(dataTable, element);\n",
              "        const docLink = document.createElement('div');\n",
              "        docLink.innerHTML = docLinkHtml;\n",
              "        element.appendChild(docLink);\n",
              "      }\n",
              "    </script>\n",
              "  </div>\n",
              "\n",
              "\n",
              "<div id=\"df-f43c708c-9a77-4a32-9351-98de99f58ffb\">\n",
              "  <button class=\"colab-df-quickchart\" onclick=\"quickchart('df-f43c708c-9a77-4a32-9351-98de99f58ffb')\"\n",
              "            title=\"Suggest charts\"\n",
              "            style=\"display:none;\">\n",
              "\n",
              "<svg xmlns=\"http://www.w3.org/2000/svg\" height=\"24px\"viewBox=\"0 0 24 24\"\n",
              "     width=\"24px\">\n",
              "    <g>\n",
              "        <path d=\"M19 3H5c-1.1 0-2 .9-2 2v14c0 1.1.9 2 2 2h14c1.1 0 2-.9 2-2V5c0-1.1-.9-2-2-2zM9 17H7v-7h2v7zm4 0h-2V7h2v10zm4 0h-2v-4h2v4z\"/>\n",
              "    </g>\n",
              "</svg>\n",
              "  </button>\n",
              "\n",
              "<style>\n",
              "  .colab-df-quickchart {\n",
              "      --bg-color: #E8F0FE;\n",
              "      --fill-color: #1967D2;\n",
              "      --hover-bg-color: #E2EBFA;\n",
              "      --hover-fill-color: #174EA6;\n",
              "      --disabled-fill-color: #AAA;\n",
              "      --disabled-bg-color: #DDD;\n",
              "  }\n",
              "\n",
              "  [theme=dark] .colab-df-quickchart {\n",
              "      --bg-color: #3B4455;\n",
              "      --fill-color: #D2E3FC;\n",
              "      --hover-bg-color: #434B5C;\n",
              "      --hover-fill-color: #FFFFFF;\n",
              "      --disabled-bg-color: #3B4455;\n",
              "      --disabled-fill-color: #666;\n",
              "  }\n",
              "\n",
              "  .colab-df-quickchart {\n",
              "    background-color: var(--bg-color);\n",
              "    border: none;\n",
              "    border-radius: 50%;\n",
              "    cursor: pointer;\n",
              "    display: none;\n",
              "    fill: var(--fill-color);\n",
              "    height: 32px;\n",
              "    padding: 0;\n",
              "    width: 32px;\n",
              "  }\n",
              "\n",
              "  .colab-df-quickchart:hover {\n",
              "    background-color: var(--hover-bg-color);\n",
              "    box-shadow: 0 1px 2px rgba(60, 64, 67, 0.3), 0 1px 3px 1px rgba(60, 64, 67, 0.15);\n",
              "    fill: var(--button-hover-fill-color);\n",
              "  }\n",
              "\n",
              "  .colab-df-quickchart-complete:disabled,\n",
              "  .colab-df-quickchart-complete:disabled:hover {\n",
              "    background-color: var(--disabled-bg-color);\n",
              "    fill: var(--disabled-fill-color);\n",
              "    box-shadow: none;\n",
              "  }\n",
              "\n",
              "  .colab-df-spinner {\n",
              "    border: 2px solid var(--fill-color);\n",
              "    border-color: transparent;\n",
              "    border-bottom-color: var(--fill-color);\n",
              "    animation:\n",
              "      spin 1s steps(1) infinite;\n",
              "  }\n",
              "\n",
              "  @keyframes spin {\n",
              "    0% {\n",
              "      border-color: transparent;\n",
              "      border-bottom-color: var(--fill-color);\n",
              "      border-left-color: var(--fill-color);\n",
              "    }\n",
              "    20% {\n",
              "      border-color: transparent;\n",
              "      border-left-color: var(--fill-color);\n",
              "      border-top-color: var(--fill-color);\n",
              "    }\n",
              "    30% {\n",
              "      border-color: transparent;\n",
              "      border-left-color: var(--fill-color);\n",
              "      border-top-color: var(--fill-color);\n",
              "      border-right-color: var(--fill-color);\n",
              "    }\n",
              "    40% {\n",
              "      border-color: transparent;\n",
              "      border-right-color: var(--fill-color);\n",
              "      border-top-color: var(--fill-color);\n",
              "    }\n",
              "    60% {\n",
              "      border-color: transparent;\n",
              "      border-right-color: var(--fill-color);\n",
              "    }\n",
              "    80% {\n",
              "      border-color: transparent;\n",
              "      border-right-color: var(--fill-color);\n",
              "      border-bottom-color: var(--fill-color);\n",
              "    }\n",
              "    90% {\n",
              "      border-color: transparent;\n",
              "      border-bottom-color: var(--fill-color);\n",
              "    }\n",
              "  }\n",
              "</style>\n",
              "\n",
              "  <script>\n",
              "    async function quickchart(key) {\n",
              "      const quickchartButtonEl =\n",
              "        document.querySelector('#' + key + ' button');\n",
              "      quickchartButtonEl.disabled = true;  // To prevent multiple clicks.\n",
              "      quickchartButtonEl.classList.add('colab-df-spinner');\n",
              "      try {\n",
              "        const charts = await google.colab.kernel.invokeFunction(\n",
              "            'suggestCharts', [key], {});\n",
              "      } catch (error) {\n",
              "        console.error('Error during call to suggestCharts:', error);\n",
              "      }\n",
              "      quickchartButtonEl.classList.remove('colab-df-spinner');\n",
              "      quickchartButtonEl.classList.add('colab-df-quickchart-complete');\n",
              "    }\n",
              "    (() => {\n",
              "      let quickchartButtonEl =\n",
              "        document.querySelector('#df-f43c708c-9a77-4a32-9351-98de99f58ffb button');\n",
              "      quickchartButtonEl.style.display =\n",
              "        google.colab.kernel.accessAllowed ? 'block' : 'none';\n",
              "    })();\n",
              "  </script>\n",
              "</div>\n",
              "    </div>\n",
              "  </div>\n"
            ]
          },
          "metadata": {},
          "execution_count": 8
        }
      ]
    },
    {
      "cell_type": "code",
      "source": [
        "# train, test데이터에 들어가는 변수들 다시 설정\n",
        "list1 = [(train['label']== \"entailment\"), (train['label']== \"contradiction\"), (train['label']== \"neutral\")]\n",
        "choicelist1 = [0,1,2]\n",
        "train['label'] = np.select(list1, choicelist1)\n",
        "\n",
        "train = train[['premise','hypothesis','label']]\n",
        "test = test[['premise','hypothesis']]"
      ],
      "metadata": {
        "id": "tbjcEGl1_J3Q"
      },
      "execution_count": null,
      "outputs": []
    },
    {
      "cell_type": "code",
      "source": [
        "# AutoTokenizer 클래스는 라이브러리에서 체크포인트 이름에 해당하는 토크나이저 클래스를 가져옴\n",
        "# 라이브러리 내의 다른 모든 체크포인트와 함께 직접 사용가능\n",
        "\n",
        "# 데이터가 bert모델의 입력으로 들어갈 수 있게 하기\n",
        "\n",
        "class TRAINDataset(Dataset):\n",
        "\n",
        "  # __init__ : 클래스를 생성할 때 실행되는 생성자\n",
        "  def __init__(self, data):\n",
        "    self.dataset = data\n",
        "    self.tokenizer = AutoTokenizer.from_pretrained(\"klue/roberta-large\")\n",
        "\n",
        "    print(self.dataset)\n",
        "\n",
        "  def __len__(self):\n",
        "    return len(self.dataset)\n",
        "\n",
        "  # __getitem__ : 클래스의 인덱스에 접근할 때 자동으로 호출되는 메서드\n",
        "  def __getitem__(self, idx):\n",
        "    row = self.dataset.iloc[idx, 0:3].values\n",
        "    sentence1 = row[0]\n",
        "    sentence2 = row[1]\n",
        "    y = row[2]\n",
        "    inputs = self.tokenizer(\n",
        "        sentence1,\n",
        "        sentence2,\n",
        "        truncation=True,\n",
        "        return_token_type_ids=False,\n",
        "        pad_to_max_length=True,\n",
        "        add_special_tokens=True,\n",
        "        max_length=100\n",
        "    )\n",
        "\n",
        "    input_ids = torch.from_numpy(np.asarray(inputs['input_ids']))\n",
        "    attention_mask = torch.from_numpy(np.asarray(inputs['attention_mask']))\n",
        "\n",
        "    return input_ids, attention_mask, y"
      ],
      "metadata": {
        "id": "GCteFEPe_8zZ"
      },
      "execution_count": null,
      "outputs": []
    },
    {
      "cell_type": "code",
      "source": [
        "class TESTDataset(Dataset):\n",
        "\n",
        "  def __init__(self, data):\n",
        "    self.dataset = data\n",
        "    self.tokenizer = AutoTokenizer.from_pretrained(\"klue/roberta-large\")\n",
        "\n",
        "    print(self.dataset)\n",
        "\n",
        "  def __len__(self):\n",
        "    return len(self.dataset)\n",
        "\n",
        "  def __getitem__(self, idx):\n",
        "    row = self.dataset.iloc[idx, 0:2].values\n",
        "    sentence1 = row[0]\n",
        "    sentence2 = row[1]\n",
        "    inputs = self.tokenizer(\n",
        "        sentence1,\n",
        "        sentence2,\n",
        "        truncation=True,\n",
        "        return_token_type_ids=False,\n",
        "        pad_to_max_length=True,\n",
        "        add_special_tokens=True,\n",
        "        max_length=100\n",
        "    )\n",
        "\n",
        "    input_ids = torch.from_numpy(np.asarray(inputs['input_ids']))\n",
        "    attention_mask = torch.from_numpy(np.asarray(inputs['attention_mask']))\n",
        "\n",
        "    return input_ids, attention_mask"
      ],
      "metadata": {
        "id": "a8koCDogAAIg"
      },
      "execution_count": null,
      "outputs": []
    },
    {
      "cell_type": "markdown",
      "source": [
        "![image.png](data:image/png;base64,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)"
      ],
      "metadata": {
        "id": "ZpLsRZIf5kA3"
      }
    },
    {
      "cell_type": "code",
      "source": [
        "# 정확도 계산 함수\n",
        "def calc_accuracy(X,Y):\n",
        "    max_vals, max_indices = torch.max(X, 1)\n",
        "\n",
        "    # .data : 변수에서 값을 찾아줌\n",
        "    # .cpu : gpu 메모리에 올라와있는 텐서를 cpu메모리로 복사해줌\n",
        "    # .numpy : tensor를 numpy로 변환해줌\n",
        "    # 가장 큰 값을 가지고 있는 인덱스가 레이블이랑 일치하는지 확인\n",
        "    train_acc = (max_indices == Y).sum().data.cpu().numpy()/max_indices.size()[0]\n",
        "    return train_acc"
      ],
      "metadata": {
        "id": "MEQeoTcIACUy"
      },
      "execution_count": null,
      "outputs": []
    },
    {
      "cell_type": "code",
      "source": [
        "# 파이토치에서 gpu 사용하기 위해서...\n",
        "device = torch.device(\"cuda\")"
      ],
      "metadata": {
        "id": "0oCETChmAFAm"
      },
      "execution_count": null,
      "outputs": []
    },
    {
      "cell_type": "code",
      "source": [
        "# 파라미터\n",
        "epochs = 20\n",
        "batch_size = 16"
      ],
      "metadata": {
        "id": "oiVP_RXIAHd1"
      },
      "execution_count": null,
      "outputs": []
    },
    {
      "cell_type": "code",
      "source": [
        "# 모델 학습 및 검증\n",
        "def training(train_dataset,val_dataset, fold):\n",
        "  best_acc = 0\n",
        "\n",
        "  model = RobertaForSequenceClassification.from_pretrained(\"klue/roberta-large\", num_labels=3).to(device)\n",
        "\n",
        "  dataset_train = TRAINDataset(train_dataset)\n",
        "  dataset_val = TRAINDataset(val_dataset)\n",
        "\n",
        "  train_loader = DataLoader(dataset_train, batch_size=batch_size, shuffle=True)\n",
        "  valid_loader = DataLoader(dataset_val, batch_size=batch_size, shuffle=False)\n",
        "\n",
        "  optimizer = AdamP(model.parameters(), lr=1e-5, betas=(0.9, 0.999), weight_decay=1e-2)\n",
        "\n",
        "  total_steps = len(train_loader) * epochs\n",
        "\n",
        "  # 스케줄러\n",
        "  scheduler = get_linear_schedule_with_warmup(optimizer,\n",
        "                                              num_warmup_steps = 0,\n",
        "                                              num_training_steps = total_steps)\n",
        "\n",
        "  for e in range(epochs):\n",
        "    train_acc = 0.0\n",
        "    valid_acc = 0.0\n",
        "    model.train()\n",
        "    for batch_id, (token_ids, attention_masks, label) in tqdm(enumerate(train_loader), total=len(train_loader)):\n",
        "      optimizer.zero_grad()\n",
        "      token_ids = token_ids.to(device)\n",
        "      attention_masks = attention_masks.to(device)\n",
        "      label = label.to(device)\n",
        "      out = model(token_ids, attention_masks)[0]\n",
        "      loss = F.cross_entropy(out, label)\n",
        "      loss.backward()\n",
        "      optimizer.step()\n",
        "      scheduler.step()\n",
        "      train_acc += calc_accuracy(out, label)\n",
        "\n",
        "    print(\"epoch {} train acc {}\".format(e+1, train_acc / (batch_id+1)))\n",
        "\n",
        "    model.eval()\n",
        "    for batch_id, (token_ids, attention_masks, label) in tqdm(enumerate(valid_loader), total=len(valid_loader)):\n",
        "      token_ids = token_ids.to(device)\n",
        "      attention_masks = attention_masks.to(device)\n",
        "      label = label.to(device)\n",
        "      out = model(token_ids, attention_masks)[0]\n",
        "      valid_acc += calc_accuracy(out, label)\n",
        "    print(\"epoch {} valid acc {}\".format(e+1, valid_acc / (batch_id+1)))\n",
        "#    if valid_acc > best_acc:\n",
        "#      torch.save(model, '/content/drive/MyDrive/open/model'+str(fold)+'.pt')\n",
        "    torch.save(model, '/content/mydrive/MyDrive/Colab_Notebooks/학회 OB/프로젝트/데이터/한국어 문장 관계 분류/model'+str(fold)+'.pt')"
      ],
      "metadata": {
        "id": "bg7b_rVlAJHP"
      },
      "execution_count": null,
      "outputs": []
    },
    {
      "cell_type": "code",
      "source": [
        "# 교차검증\n",
        "def main():\n",
        "    seed= 2021 # 재현성을 위한 시드값 고정\n",
        "    random.seed(seed)\n",
        "    np.random.seed(seed)\n",
        "    os.environ[\"PYTHONHASHSEED\"] = str(seed)\n",
        "    torch.manual_seed(seed)\n",
        "    torch.manual_seed(seed)  # type: ignore\n",
        "    torch.backends.deterministic = True  # type: ignore\n",
        "    torch.backends.benchmark = False  # type: ignore\n",
        "\n",
        "    # kfold\n",
        "    kfold=[]\n",
        "\n",
        "    splitter = StratifiedKFold(n_splits=5, shuffle=True, random_state=2021)\n",
        "    for train_idx, val_idx in splitter.split(train.iloc[:, 0:2],train.iloc[:, 2]):\n",
        "        kfold.append((train.iloc[train_idx,:],train.iloc[val_idx,:]))\n",
        "\n",
        "    for fold,(train_datasets, valid_datasets) in enumerate(kfold):\n",
        "        print(f'fold{fold} 학습중...')\n",
        "        training(train_dataset=train_datasets,val_dataset=valid_datasets,fold=fold)"
      ],
      "metadata": {
        "id": "9JBZBXzqAqZD"
      },
      "execution_count": null,
      "outputs": []
    },
    {
      "cell_type": "code",
      "source": [
        "main() #학습 시작"
      ],
      "metadata": {
        "colab": {
          "base_uri": "https://localhost:8080/",
          "height": 1000,
          "referenced_widgets": [
            "3e27cf9a1c3c419cae9aeea289659a53",
            "f56be5188b474ebc957a2e7ec60d3794",
            "9a107f5e6b954a488774d06cd5b0f17e",
            "34f7ad2705f04bc79d6f637a59a489d6",
            "b121b9b39abb49c7ba32036af3e990c4",
            "8e5e87dc93f34fa7b6dd1a49b04e8fee",
            "2d88f8e65df541d898c6cfd31e5f3cd3",
            "a7344aacb37242ac9874d5faa9edd3f8",
            "4a9b170f11844347906f640115d293d6",
            "e9567ad28966444dae2ed4a314212889",
            "98a009fd618c4c3da412d3b0e1575d21"
          ]
        },
        "id": "xuZweVe3AtAx",
        "outputId": "ce570b0b-a36b-4345-83f1-2d17d80f6db8"
      },
      "execution_count": null,
      "outputs": [
        {
          "output_type": "stream",
          "name": "stdout",
          "text": [
            "fold0 학습중...\n"
          ]
        },
        {
          "output_type": "stream",
          "name": "stderr",
          "text": [
            "Some weights of RobertaForSequenceClassification were not initialized from the model checkpoint at klue/roberta-large and are newly initialized: ['classifier.out_proj.bias', 'classifier.dense.bias', 'classifier.dense.weight', 'classifier.out_proj.weight']\n",
            "You should probably TRAIN this model on a down-stream task to be able to use it for predictions and inference.\n"
          ]
        },
        {
          "output_type": "stream",
          "name": "stdout",
          "text": [
            "                                                premise  \\\n",
            "0     씨름은 상고시대로부터 전해져 내려오는 남자들의 대표적인 놀이로서, 소년이나 장정들이...   \n",
            "1     삼성은 자작극을 벌인 2명에게 형사 고소 등의 법적 대응을 검토 중이라고 하였으나,...   \n",
            "2                       이를 위해 예측적 범죄예방 시스템을 구축하고 고도화한다.   \n",
            "4     진정 소비자와 직원들에게 사랑 받는 기업으로 오래 지속되고 싶으면, 이런 상황에서는...   \n",
            "5     이번 증설로 코오롱인더스트리는 기존 생산량 7만7000톤에서 1만6800톤이 늘어나...   \n",
            "...                                                 ...   \n",
            "2988                 후반부에 피클 통조림 따라고 따개를 챙겨준 독일 장교의 세심함   \n",
            "2989  흔히 비자림로라고 불리는 지방도 제1112호선을 넓히는 공사가 1년만에 재개되었다가...   \n",
            "2990  흔히 비자림로라고 불리는 지방도 제1112호선을 넓히는 공사가 1년만에 재개되었다가...   \n",
            "2992                흡연자분들은 발코니가 있는 방이면 발코니에서 흡연이 가능합니다.   \n",
            "2993                흡연자분들은 발코니가 있는 방이면 발코니에서 흡연이 가능합니다.   \n",
            "\n",
            "                                   hypothesis  label  \n",
            "0                              씨름의 여자들의 놀이이다.      1  \n",
            "1                            자작극을 벌인 이는 3명이다.      1  \n",
            "2     예측적 범죄예방 시스템 구축하고 고도화하는 것은 목적이 있기 때문이다.      0  \n",
            "4          이런 상황에서 책임 있는 모습을 보여주는 기업은 아주 드물다.      2  \n",
            "5         코오롱 인더스트리는 총 9만 3800톤의 생산 능력을 확보했다.      0  \n",
            "...                                       ...    ...  \n",
            "2988       후반부에 피클 통조림 따라고 따개를 챙겨준 건 독일 장교였다.      0  \n",
            "2989       지방도 제1112호선을 넓히는 공사는 중단없이 마무리 되었다.      1  \n",
            "2990       지방도 제1112호선을 넓히는 공사가 중단된 건 세 번째이다.      2  \n",
            "2992                  비흡연자는 발코니 있는 방이 필요없습니다.      2  \n",
            "2993                흡연하려면 발코니 있는 방을 선택하면 됩니다.      0  \n",
            "\n",
            "[22393 rows x 3 columns]\n",
            "                                                premise  \\\n",
            "3     광주광역시가 재개발 정비사업 원주민들에 대한 종합대책을 마련하는 등 원주민 보호에 ...   \n",
            "6            자신뿐만 아니라 남을 돕고자 하는 청년의 꿈과 열정에 모두가 주목하고 있다.   \n",
            "7                            시대상황을 고려하는 현명한 시청태도가 요구되다.   \n",
            "9                            빠른 답장과 간편한 체크인, 깨끗한 집 좋았어요   \n",
            "10                       대부분 도보로 이동하기 충분하다는 점이 매력적이었어요.   \n",
            "...                                                 ...   \n",
            "2963                            화장실 욕실 주방 다 깨끗하고 깔끔합니다.   \n",
            "2980                            회고할수있는 추억같지않은 추억이 있다는것도   \n",
            "2983       후뢰시맨 실제 촬영 의상 낙찰로 화제가 된 팬이 후뢰시맨 사인회 후기를 올렸다.   \n",
            "2985       후뢰시맨 실제 촬영 의상 낙찰로 화제가 된 팬이 후뢰시맨 사인회 후기를 올렸다.   \n",
            "2991  흔히 비자림로라고 불리는 지방도 제1112호선을 넓히는 공사가 1년만에 재개되었다가...   \n",
            "\n",
            "                       hypothesis  label  \n",
            "3               원주민들은 종합대책에 만족했다.      2  \n",
            "6           모든 청년은 꿈과 열정을 가지고 있다.      2  \n",
            "7              시청태도에 특별한 주의점은 없다.      1  \n",
            "9                     체크인이 복잡했어요.      1  \n",
            "10                대부분 걸어서 갈수 있어요.      0  \n",
            "...                           ...    ...  \n",
            "2963                  화장실도 깨끗합니다.      0  \n",
            "2980                  추억은 아픈 것이다.      2  \n",
            "2983       후뢰시맨의 팬은 촬영 의상을 선물받았다.      1  \n",
            "2985    후뢰시맨 촬영 의상은 1600만원에 낙찰됐다.      2  \n",
            "2991  지방도 제1112호선은 흔히 비자림로라고 불린다.      0  \n",
            "\n",
            "[5599 rows x 3 columns]\n"
          ]
        },
        {
          "output_type": "display_data",
          "data": {
            "text/plain": [
              "  0%|          | 0/1400 [00:00<?, ?it/s]"
            ],
            "application/vnd.jupyter.widget-view+json": {
              "version_major": 2,
              "version_minor": 0,
              "model_id": "3e27cf9a1c3c419cae9aeea289659a53"
            }
          },
          "metadata": {}
        },
        {
          "output_type": "stream",
          "name": "stderr",
          "text": [
            "/usr/local/lib/python3.10/dist-packages/transformers/tokenization_utils_base.py:2614: FutureWarning: The `pad_to_max_length` argument is deprecated and will be removed in a future version, use `padding=True` or `padding='longest'` to pad to the longest sequence in the batch, or use `padding='max_length'` to pad to a max length. In this case, you can give a specific length with `max_length` (e.g. `max_length=45`) or leave max_length to None to pad to the maximal input size of the model (e.g. 512 for Bert).\n",
            "  warnings.warn(\n"
          ]
        },
        {
          "output_type": "error",
          "ename": "OutOfMemoryError",
          "evalue": "ignored",
          "traceback": [
            "\u001b[0;31m---------------------------------------------------------------------------\u001b[0m",
            "\u001b[0;31mOutOfMemoryError\u001b[0m                          Traceback (most recent call last)",
            "\u001b[0;32m<ipython-input-18-7f676c1ba082>\u001b[0m in \u001b[0;36m<cell line: 1>\u001b[0;34m()\u001b[0m\n\u001b[0;32m----> 1\u001b[0;31m \u001b[0mmain\u001b[0m\u001b[0;34m(\u001b[0m\u001b[0;34m)\u001b[0m \u001b[0;31m#학습 시작\u001b[0m\u001b[0;34m\u001b[0m\u001b[0;34m\u001b[0m\u001b[0m\n\u001b[0m",
            "\u001b[0;32m<ipython-input-17-35ca7a663179>\u001b[0m in \u001b[0;36mmain\u001b[0;34m()\u001b[0m\n\u001b[1;32m     19\u001b[0m     \u001b[0;32mfor\u001b[0m \u001b[0mfold\u001b[0m\u001b[0;34m,\u001b[0m\u001b[0;34m(\u001b[0m\u001b[0mtrain_datasets\u001b[0m\u001b[0;34m,\u001b[0m \u001b[0mvalid_datasets\u001b[0m\u001b[0;34m)\u001b[0m \u001b[0;32min\u001b[0m \u001b[0menumerate\u001b[0m\u001b[0;34m(\u001b[0m\u001b[0mkfold\u001b[0m\u001b[0;34m)\u001b[0m\u001b[0;34m:\u001b[0m\u001b[0;34m\u001b[0m\u001b[0;34m\u001b[0m\u001b[0m\n\u001b[1;32m     20\u001b[0m         \u001b[0mprint\u001b[0m\u001b[0;34m(\u001b[0m\u001b[0;34mf'fold{fold} 학습중...'\u001b[0m\u001b[0;34m)\u001b[0m\u001b[0;34m\u001b[0m\u001b[0;34m\u001b[0m\u001b[0m\n\u001b[0;32m---> 21\u001b[0;31m         \u001b[0mtraining\u001b[0m\u001b[0;34m(\u001b[0m\u001b[0mtrain_dataset\u001b[0m\u001b[0;34m=\u001b[0m\u001b[0mtrain_datasets\u001b[0m\u001b[0;34m,\u001b[0m\u001b[0mval_dataset\u001b[0m\u001b[0;34m=\u001b[0m\u001b[0mvalid_datasets\u001b[0m\u001b[0;34m,\u001b[0m\u001b[0mfold\u001b[0m\u001b[0;34m=\u001b[0m\u001b[0mfold\u001b[0m\u001b[0;34m)\u001b[0m\u001b[0;34m\u001b[0m\u001b[0;34m\u001b[0m\u001b[0m\n\u001b[0m",
            "\u001b[0;32m<ipython-input-16-a4052338351b>\u001b[0m in \u001b[0;36mtraining\u001b[0;34m(train_dataset, val_dataset, fold)\u001b[0m\n\u001b[1;32m     29\u001b[0m       \u001b[0mattention_masks\u001b[0m \u001b[0;34m=\u001b[0m \u001b[0mattention_masks\u001b[0m\u001b[0;34m.\u001b[0m\u001b[0mto\u001b[0m\u001b[0;34m(\u001b[0m\u001b[0mdevice\u001b[0m\u001b[0;34m)\u001b[0m\u001b[0;34m\u001b[0m\u001b[0;34m\u001b[0m\u001b[0m\n\u001b[1;32m     30\u001b[0m       \u001b[0mlabel\u001b[0m \u001b[0;34m=\u001b[0m \u001b[0mlabel\u001b[0m\u001b[0;34m.\u001b[0m\u001b[0mto\u001b[0m\u001b[0;34m(\u001b[0m\u001b[0mdevice\u001b[0m\u001b[0;34m)\u001b[0m\u001b[0;34m\u001b[0m\u001b[0;34m\u001b[0m\u001b[0m\n\u001b[0;32m---> 31\u001b[0;31m       \u001b[0mout\u001b[0m \u001b[0;34m=\u001b[0m \u001b[0mmodel\u001b[0m\u001b[0;34m(\u001b[0m\u001b[0mtoken_ids\u001b[0m\u001b[0;34m,\u001b[0m \u001b[0mattention_masks\u001b[0m\u001b[0;34m)\u001b[0m\u001b[0;34m[\u001b[0m\u001b[0;36m0\u001b[0m\u001b[0;34m]\u001b[0m\u001b[0;34m\u001b[0m\u001b[0;34m\u001b[0m\u001b[0m\n\u001b[0m\u001b[1;32m     32\u001b[0m       \u001b[0mloss\u001b[0m \u001b[0;34m=\u001b[0m \u001b[0mF\u001b[0m\u001b[0;34m.\u001b[0m\u001b[0mcross_entropy\u001b[0m\u001b[0;34m(\u001b[0m\u001b[0mout\u001b[0m\u001b[0;34m,\u001b[0m \u001b[0mlabel\u001b[0m\u001b[0;34m)\u001b[0m\u001b[0;34m\u001b[0m\u001b[0;34m\u001b[0m\u001b[0m\n\u001b[1;32m     33\u001b[0m       \u001b[0mloss\u001b[0m\u001b[0;34m.\u001b[0m\u001b[0mbackward\u001b[0m\u001b[0;34m(\u001b[0m\u001b[0;34m)\u001b[0m\u001b[0;34m\u001b[0m\u001b[0;34m\u001b[0m\u001b[0m\n",
            "\u001b[0;32m/usr/local/lib/python3.10/dist-packages/torch/nn/modules/module.py\u001b[0m in \u001b[0;36m_wrapped_call_impl\u001b[0;34m(self, *args, **kwargs)\u001b[0m\n\u001b[1;32m   1516\u001b[0m             \u001b[0;32mreturn\u001b[0m \u001b[0mself\u001b[0m\u001b[0;34m.\u001b[0m\u001b[0m_compiled_call_impl\u001b[0m\u001b[0;34m(\u001b[0m\u001b[0;34m*\u001b[0m\u001b[0margs\u001b[0m\u001b[0;34m,\u001b[0m \u001b[0;34m**\u001b[0m\u001b[0mkwargs\u001b[0m\u001b[0;34m)\u001b[0m  \u001b[0;31m# type: ignore[misc]\u001b[0m\u001b[0;34m\u001b[0m\u001b[0;34m\u001b[0m\u001b[0m\n\u001b[1;32m   1517\u001b[0m         \u001b[0;32melse\u001b[0m\u001b[0;34m:\u001b[0m\u001b[0;34m\u001b[0m\u001b[0;34m\u001b[0m\u001b[0m\n\u001b[0;32m-> 1518\u001b[0;31m             \u001b[0;32mreturn\u001b[0m \u001b[0mself\u001b[0m\u001b[0;34m.\u001b[0m\u001b[0m_call_impl\u001b[0m\u001b[0;34m(\u001b[0m\u001b[0;34m*\u001b[0m\u001b[0margs\u001b[0m\u001b[0;34m,\u001b[0m \u001b[0;34m**\u001b[0m\u001b[0mkwargs\u001b[0m\u001b[0;34m)\u001b[0m\u001b[0;34m\u001b[0m\u001b[0;34m\u001b[0m\u001b[0m\n\u001b[0m\u001b[1;32m   1519\u001b[0m \u001b[0;34m\u001b[0m\u001b[0m\n\u001b[1;32m   1520\u001b[0m     \u001b[0;32mdef\u001b[0m \u001b[0m_call_impl\u001b[0m\u001b[0;34m(\u001b[0m\u001b[0mself\u001b[0m\u001b[0;34m,\u001b[0m \u001b[0;34m*\u001b[0m\u001b[0margs\u001b[0m\u001b[0;34m,\u001b[0m \u001b[0;34m**\u001b[0m\u001b[0mkwargs\u001b[0m\u001b[0;34m)\u001b[0m\u001b[0;34m:\u001b[0m\u001b[0;34m\u001b[0m\u001b[0;34m\u001b[0m\u001b[0m\n",
            "\u001b[0;32m/usr/local/lib/python3.10/dist-packages/torch/nn/modules/module.py\u001b[0m in \u001b[0;36m_call_impl\u001b[0;34m(self, *args, **kwargs)\u001b[0m\n\u001b[1;32m   1525\u001b[0m                 \u001b[0;32mor\u001b[0m \u001b[0m_global_backward_pre_hooks\u001b[0m \u001b[0;32mor\u001b[0m \u001b[0m_global_backward_hooks\u001b[0m\u001b[0;34m\u001b[0m\u001b[0;34m\u001b[0m\u001b[0m\n\u001b[1;32m   1526\u001b[0m                 or _global_forward_hooks or _global_forward_pre_hooks):\n\u001b[0;32m-> 1527\u001b[0;31m             \u001b[0;32mreturn\u001b[0m \u001b[0mforward_call\u001b[0m\u001b[0;34m(\u001b[0m\u001b[0;34m*\u001b[0m\u001b[0margs\u001b[0m\u001b[0;34m,\u001b[0m \u001b[0;34m**\u001b[0m\u001b[0mkwargs\u001b[0m\u001b[0;34m)\u001b[0m\u001b[0;34m\u001b[0m\u001b[0;34m\u001b[0m\u001b[0m\n\u001b[0m\u001b[1;32m   1528\u001b[0m \u001b[0;34m\u001b[0m\u001b[0m\n\u001b[1;32m   1529\u001b[0m         \u001b[0;32mtry\u001b[0m\u001b[0;34m:\u001b[0m\u001b[0;34m\u001b[0m\u001b[0;34m\u001b[0m\u001b[0m\n",
            "\u001b[0;32m/usr/local/lib/python3.10/dist-packages/transformers/models/roberta/modeling_roberta.py\u001b[0m in \u001b[0;36mforward\u001b[0;34m(self, input_ids, attention_mask, token_type_ids, position_ids, head_mask, inputs_embeds, labels, output_attentions, output_hidden_states, return_dict)\u001b[0m\n\u001b[1;32m   1196\u001b[0m         \u001b[0mreturn_dict\u001b[0m \u001b[0;34m=\u001b[0m \u001b[0mreturn_dict\u001b[0m \u001b[0;32mif\u001b[0m \u001b[0mreturn_dict\u001b[0m \u001b[0;32mis\u001b[0m \u001b[0;32mnot\u001b[0m \u001b[0;32mNone\u001b[0m \u001b[0;32melse\u001b[0m \u001b[0mself\u001b[0m\u001b[0;34m.\u001b[0m\u001b[0mconfig\u001b[0m\u001b[0;34m.\u001b[0m\u001b[0muse_return_dict\u001b[0m\u001b[0;34m\u001b[0m\u001b[0;34m\u001b[0m\u001b[0m\n\u001b[1;32m   1197\u001b[0m \u001b[0;34m\u001b[0m\u001b[0m\n\u001b[0;32m-> 1198\u001b[0;31m         outputs = self.roberta(\n\u001b[0m\u001b[1;32m   1199\u001b[0m             \u001b[0minput_ids\u001b[0m\u001b[0;34m,\u001b[0m\u001b[0;34m\u001b[0m\u001b[0;34m\u001b[0m\u001b[0m\n\u001b[1;32m   1200\u001b[0m             \u001b[0mattention_mask\u001b[0m\u001b[0;34m=\u001b[0m\u001b[0mattention_mask\u001b[0m\u001b[0;34m,\u001b[0m\u001b[0;34m\u001b[0m\u001b[0;34m\u001b[0m\u001b[0m\n",
            "\u001b[0;32m/usr/local/lib/python3.10/dist-packages/torch/nn/modules/module.py\u001b[0m in \u001b[0;36m_wrapped_call_impl\u001b[0;34m(self, *args, **kwargs)\u001b[0m\n\u001b[1;32m   1516\u001b[0m             \u001b[0;32mreturn\u001b[0m \u001b[0mself\u001b[0m\u001b[0;34m.\u001b[0m\u001b[0m_compiled_call_impl\u001b[0m\u001b[0;34m(\u001b[0m\u001b[0;34m*\u001b[0m\u001b[0margs\u001b[0m\u001b[0;34m,\u001b[0m \u001b[0;34m**\u001b[0m\u001b[0mkwargs\u001b[0m\u001b[0;34m)\u001b[0m  \u001b[0;31m# type: ignore[misc]\u001b[0m\u001b[0;34m\u001b[0m\u001b[0;34m\u001b[0m\u001b[0m\n\u001b[1;32m   1517\u001b[0m         \u001b[0;32melse\u001b[0m\u001b[0;34m:\u001b[0m\u001b[0;34m\u001b[0m\u001b[0;34m\u001b[0m\u001b[0m\n\u001b[0;32m-> 1518\u001b[0;31m             \u001b[0;32mreturn\u001b[0m \u001b[0mself\u001b[0m\u001b[0;34m.\u001b[0m\u001b[0m_call_impl\u001b[0m\u001b[0;34m(\u001b[0m\u001b[0;34m*\u001b[0m\u001b[0margs\u001b[0m\u001b[0;34m,\u001b[0m \u001b[0;34m**\u001b[0m\u001b[0mkwargs\u001b[0m\u001b[0;34m)\u001b[0m\u001b[0;34m\u001b[0m\u001b[0;34m\u001b[0m\u001b[0m\n\u001b[0m\u001b[1;32m   1519\u001b[0m \u001b[0;34m\u001b[0m\u001b[0m\n\u001b[1;32m   1520\u001b[0m     \u001b[0;32mdef\u001b[0m \u001b[0m_call_impl\u001b[0m\u001b[0;34m(\u001b[0m\u001b[0mself\u001b[0m\u001b[0;34m,\u001b[0m \u001b[0;34m*\u001b[0m\u001b[0margs\u001b[0m\u001b[0;34m,\u001b[0m \u001b[0;34m**\u001b[0m\u001b[0mkwargs\u001b[0m\u001b[0;34m)\u001b[0m\u001b[0;34m:\u001b[0m\u001b[0;34m\u001b[0m\u001b[0;34m\u001b[0m\u001b[0m\n",
            "\u001b[0;32m/usr/local/lib/python3.10/dist-packages/torch/nn/modules/module.py\u001b[0m in \u001b[0;36m_call_impl\u001b[0;34m(self, *args, **kwargs)\u001b[0m\n\u001b[1;32m   1525\u001b[0m                 \u001b[0;32mor\u001b[0m \u001b[0m_global_backward_pre_hooks\u001b[0m \u001b[0;32mor\u001b[0m \u001b[0m_global_backward_hooks\u001b[0m\u001b[0;34m\u001b[0m\u001b[0;34m\u001b[0m\u001b[0m\n\u001b[1;32m   1526\u001b[0m                 or _global_forward_hooks or _global_forward_pre_hooks):\n\u001b[0;32m-> 1527\u001b[0;31m             \u001b[0;32mreturn\u001b[0m \u001b[0mforward_call\u001b[0m\u001b[0;34m(\u001b[0m\u001b[0;34m*\u001b[0m\u001b[0margs\u001b[0m\u001b[0;34m,\u001b[0m \u001b[0;34m**\u001b[0m\u001b[0mkwargs\u001b[0m\u001b[0;34m)\u001b[0m\u001b[0;34m\u001b[0m\u001b[0;34m\u001b[0m\u001b[0m\n\u001b[0m\u001b[1;32m   1528\u001b[0m \u001b[0;34m\u001b[0m\u001b[0m\n\u001b[1;32m   1529\u001b[0m         \u001b[0;32mtry\u001b[0m\u001b[0;34m:\u001b[0m\u001b[0;34m\u001b[0m\u001b[0;34m\u001b[0m\u001b[0m\n",
            "\u001b[0;32m/usr/local/lib/python3.10/dist-packages/transformers/models/roberta/modeling_roberta.py\u001b[0m in \u001b[0;36mforward\u001b[0;34m(self, input_ids, attention_mask, token_type_ids, position_ids, head_mask, inputs_embeds, encoder_hidden_states, encoder_attention_mask, past_key_values, use_cache, output_attentions, output_hidden_states, return_dict)\u001b[0m\n\u001b[1;32m    833\u001b[0m             \u001b[0mpast_key_values_length\u001b[0m\u001b[0;34m=\u001b[0m\u001b[0mpast_key_values_length\u001b[0m\u001b[0;34m,\u001b[0m\u001b[0;34m\u001b[0m\u001b[0;34m\u001b[0m\u001b[0m\n\u001b[1;32m    834\u001b[0m         )\n\u001b[0;32m--> 835\u001b[0;31m         encoder_outputs = self.encoder(\n\u001b[0m\u001b[1;32m    836\u001b[0m             \u001b[0membedding_output\u001b[0m\u001b[0;34m,\u001b[0m\u001b[0;34m\u001b[0m\u001b[0;34m\u001b[0m\u001b[0m\n\u001b[1;32m    837\u001b[0m             \u001b[0mattention_mask\u001b[0m\u001b[0;34m=\u001b[0m\u001b[0mextended_attention_mask\u001b[0m\u001b[0;34m,\u001b[0m\u001b[0;34m\u001b[0m\u001b[0;34m\u001b[0m\u001b[0m\n",
            "\u001b[0;32m/usr/local/lib/python3.10/dist-packages/torch/nn/modules/module.py\u001b[0m in \u001b[0;36m_wrapped_call_impl\u001b[0;34m(self, *args, **kwargs)\u001b[0m\n\u001b[1;32m   1516\u001b[0m             \u001b[0;32mreturn\u001b[0m \u001b[0mself\u001b[0m\u001b[0;34m.\u001b[0m\u001b[0m_compiled_call_impl\u001b[0m\u001b[0;34m(\u001b[0m\u001b[0;34m*\u001b[0m\u001b[0margs\u001b[0m\u001b[0;34m,\u001b[0m \u001b[0;34m**\u001b[0m\u001b[0mkwargs\u001b[0m\u001b[0;34m)\u001b[0m  \u001b[0;31m# type: ignore[misc]\u001b[0m\u001b[0;34m\u001b[0m\u001b[0;34m\u001b[0m\u001b[0m\n\u001b[1;32m   1517\u001b[0m         \u001b[0;32melse\u001b[0m\u001b[0;34m:\u001b[0m\u001b[0;34m\u001b[0m\u001b[0;34m\u001b[0m\u001b[0m\n\u001b[0;32m-> 1518\u001b[0;31m             \u001b[0;32mreturn\u001b[0m \u001b[0mself\u001b[0m\u001b[0;34m.\u001b[0m\u001b[0m_call_impl\u001b[0m\u001b[0;34m(\u001b[0m\u001b[0;34m*\u001b[0m\u001b[0margs\u001b[0m\u001b[0;34m,\u001b[0m \u001b[0;34m**\u001b[0m\u001b[0mkwargs\u001b[0m\u001b[0;34m)\u001b[0m\u001b[0;34m\u001b[0m\u001b[0;34m\u001b[0m\u001b[0m\n\u001b[0m\u001b[1;32m   1519\u001b[0m \u001b[0;34m\u001b[0m\u001b[0m\n\u001b[1;32m   1520\u001b[0m     \u001b[0;32mdef\u001b[0m \u001b[0m_call_impl\u001b[0m\u001b[0;34m(\u001b[0m\u001b[0mself\u001b[0m\u001b[0;34m,\u001b[0m \u001b[0;34m*\u001b[0m\u001b[0margs\u001b[0m\u001b[0;34m,\u001b[0m \u001b[0;34m**\u001b[0m\u001b[0mkwargs\u001b[0m\u001b[0;34m)\u001b[0m\u001b[0;34m:\u001b[0m\u001b[0;34m\u001b[0m\u001b[0;34m\u001b[0m\u001b[0m\n",
            "\u001b[0;32m/usr/local/lib/python3.10/dist-packages/torch/nn/modules/module.py\u001b[0m in \u001b[0;36m_call_impl\u001b[0;34m(self, *args, **kwargs)\u001b[0m\n\u001b[1;32m   1525\u001b[0m                 \u001b[0;32mor\u001b[0m \u001b[0m_global_backward_pre_hooks\u001b[0m \u001b[0;32mor\u001b[0m \u001b[0m_global_backward_hooks\u001b[0m\u001b[0;34m\u001b[0m\u001b[0;34m\u001b[0m\u001b[0m\n\u001b[1;32m   1526\u001b[0m                 or _global_forward_hooks or _global_forward_pre_hooks):\n\u001b[0;32m-> 1527\u001b[0;31m             \u001b[0;32mreturn\u001b[0m \u001b[0mforward_call\u001b[0m\u001b[0;34m(\u001b[0m\u001b[0;34m*\u001b[0m\u001b[0margs\u001b[0m\u001b[0;34m,\u001b[0m \u001b[0;34m**\u001b[0m\u001b[0mkwargs\u001b[0m\u001b[0;34m)\u001b[0m\u001b[0;34m\u001b[0m\u001b[0;34m\u001b[0m\u001b[0m\n\u001b[0m\u001b[1;32m   1528\u001b[0m \u001b[0;34m\u001b[0m\u001b[0m\n\u001b[1;32m   1529\u001b[0m         \u001b[0;32mtry\u001b[0m\u001b[0;34m:\u001b[0m\u001b[0;34m\u001b[0m\u001b[0;34m\u001b[0m\u001b[0m\n",
            "\u001b[0;32m/usr/local/lib/python3.10/dist-packages/transformers/models/roberta/modeling_roberta.py\u001b[0m in \u001b[0;36mforward\u001b[0;34m(self, hidden_states, attention_mask, head_mask, encoder_hidden_states, encoder_attention_mask, past_key_values, use_cache, output_attentions, output_hidden_states, return_dict)\u001b[0m\n\u001b[1;32m    522\u001b[0m                 )\n\u001b[1;32m    523\u001b[0m             \u001b[0;32melse\u001b[0m\u001b[0;34m:\u001b[0m\u001b[0;34m\u001b[0m\u001b[0;34m\u001b[0m\u001b[0m\n\u001b[0;32m--> 524\u001b[0;31m                 layer_outputs = layer_module(\n\u001b[0m\u001b[1;32m    525\u001b[0m                     \u001b[0mhidden_states\u001b[0m\u001b[0;34m,\u001b[0m\u001b[0;34m\u001b[0m\u001b[0;34m\u001b[0m\u001b[0m\n\u001b[1;32m    526\u001b[0m                     \u001b[0mattention_mask\u001b[0m\u001b[0;34m,\u001b[0m\u001b[0;34m\u001b[0m\u001b[0;34m\u001b[0m\u001b[0m\n",
            "\u001b[0;32m/usr/local/lib/python3.10/dist-packages/torch/nn/modules/module.py\u001b[0m in \u001b[0;36m_wrapped_call_impl\u001b[0;34m(self, *args, **kwargs)\u001b[0m\n\u001b[1;32m   1516\u001b[0m             \u001b[0;32mreturn\u001b[0m \u001b[0mself\u001b[0m\u001b[0;34m.\u001b[0m\u001b[0m_compiled_call_impl\u001b[0m\u001b[0;34m(\u001b[0m\u001b[0;34m*\u001b[0m\u001b[0margs\u001b[0m\u001b[0;34m,\u001b[0m \u001b[0;34m**\u001b[0m\u001b[0mkwargs\u001b[0m\u001b[0;34m)\u001b[0m  \u001b[0;31m# type: ignore[misc]\u001b[0m\u001b[0;34m\u001b[0m\u001b[0;34m\u001b[0m\u001b[0m\n\u001b[1;32m   1517\u001b[0m         \u001b[0;32melse\u001b[0m\u001b[0;34m:\u001b[0m\u001b[0;34m\u001b[0m\u001b[0;34m\u001b[0m\u001b[0m\n\u001b[0;32m-> 1518\u001b[0;31m             \u001b[0;32mreturn\u001b[0m \u001b[0mself\u001b[0m\u001b[0;34m.\u001b[0m\u001b[0m_call_impl\u001b[0m\u001b[0;34m(\u001b[0m\u001b[0;34m*\u001b[0m\u001b[0margs\u001b[0m\u001b[0;34m,\u001b[0m \u001b[0;34m**\u001b[0m\u001b[0mkwargs\u001b[0m\u001b[0;34m)\u001b[0m\u001b[0;34m\u001b[0m\u001b[0;34m\u001b[0m\u001b[0m\n\u001b[0m\u001b[1;32m   1519\u001b[0m \u001b[0;34m\u001b[0m\u001b[0m\n\u001b[1;32m   1520\u001b[0m     \u001b[0;32mdef\u001b[0m \u001b[0m_call_impl\u001b[0m\u001b[0;34m(\u001b[0m\u001b[0mself\u001b[0m\u001b[0;34m,\u001b[0m \u001b[0;34m*\u001b[0m\u001b[0margs\u001b[0m\u001b[0;34m,\u001b[0m \u001b[0;34m**\u001b[0m\u001b[0mkwargs\u001b[0m\u001b[0;34m)\u001b[0m\u001b[0;34m:\u001b[0m\u001b[0;34m\u001b[0m\u001b[0;34m\u001b[0m\u001b[0m\n",
            "\u001b[0;32m/usr/local/lib/python3.10/dist-packages/torch/nn/modules/module.py\u001b[0m in \u001b[0;36m_call_impl\u001b[0;34m(self, *args, **kwargs)\u001b[0m\n\u001b[1;32m   1525\u001b[0m                 \u001b[0;32mor\u001b[0m \u001b[0m_global_backward_pre_hooks\u001b[0m \u001b[0;32mor\u001b[0m \u001b[0m_global_backward_hooks\u001b[0m\u001b[0;34m\u001b[0m\u001b[0;34m\u001b[0m\u001b[0m\n\u001b[1;32m   1526\u001b[0m                 or _global_forward_hooks or _global_forward_pre_hooks):\n\u001b[0;32m-> 1527\u001b[0;31m             \u001b[0;32mreturn\u001b[0m \u001b[0mforward_call\u001b[0m\u001b[0;34m(\u001b[0m\u001b[0;34m*\u001b[0m\u001b[0margs\u001b[0m\u001b[0;34m,\u001b[0m \u001b[0;34m**\u001b[0m\u001b[0mkwargs\u001b[0m\u001b[0;34m)\u001b[0m\u001b[0;34m\u001b[0m\u001b[0;34m\u001b[0m\u001b[0m\n\u001b[0m\u001b[1;32m   1528\u001b[0m \u001b[0;34m\u001b[0m\u001b[0m\n\u001b[1;32m   1529\u001b[0m         \u001b[0;32mtry\u001b[0m\u001b[0;34m:\u001b[0m\u001b[0;34m\u001b[0m\u001b[0;34m\u001b[0m\u001b[0m\n",
            "\u001b[0;32m/usr/local/lib/python3.10/dist-packages/transformers/models/roberta/modeling_roberta.py\u001b[0m in \u001b[0;36mforward\u001b[0;34m(self, hidden_states, attention_mask, head_mask, encoder_hidden_states, encoder_attention_mask, past_key_value, output_attentions)\u001b[0m\n\u001b[1;32m    453\u001b[0m             \u001b[0mpresent_key_value\u001b[0m \u001b[0;34m=\u001b[0m \u001b[0mpresent_key_value\u001b[0m \u001b[0;34m+\u001b[0m \u001b[0mcross_attn_present_key_value\u001b[0m\u001b[0;34m\u001b[0m\u001b[0;34m\u001b[0m\u001b[0m\n\u001b[1;32m    454\u001b[0m \u001b[0;34m\u001b[0m\u001b[0m\n\u001b[0;32m--> 455\u001b[0;31m         layer_output = apply_chunking_to_forward(\n\u001b[0m\u001b[1;32m    456\u001b[0m             \u001b[0mself\u001b[0m\u001b[0;34m.\u001b[0m\u001b[0mfeed_forward_chunk\u001b[0m\u001b[0;34m,\u001b[0m \u001b[0mself\u001b[0m\u001b[0;34m.\u001b[0m\u001b[0mchunk_size_feed_forward\u001b[0m\u001b[0;34m,\u001b[0m \u001b[0mself\u001b[0m\u001b[0;34m.\u001b[0m\u001b[0mseq_len_dim\u001b[0m\u001b[0;34m,\u001b[0m \u001b[0mattention_output\u001b[0m\u001b[0;34m\u001b[0m\u001b[0;34m\u001b[0m\u001b[0m\n\u001b[1;32m    457\u001b[0m         )\n",
            "\u001b[0;32m/usr/local/lib/python3.10/dist-packages/transformers/pytorch_utils.py\u001b[0m in \u001b[0;36mapply_chunking_to_forward\u001b[0;34m(forward_fn, chunk_size, chunk_dim, *input_tensors)\u001b[0m\n\u001b[1;32m    239\u001b[0m         \u001b[0;32mreturn\u001b[0m \u001b[0mtorch\u001b[0m\u001b[0;34m.\u001b[0m\u001b[0mcat\u001b[0m\u001b[0;34m(\u001b[0m\u001b[0moutput_chunks\u001b[0m\u001b[0;34m,\u001b[0m \u001b[0mdim\u001b[0m\u001b[0;34m=\u001b[0m\u001b[0mchunk_dim\u001b[0m\u001b[0;34m)\u001b[0m\u001b[0;34m\u001b[0m\u001b[0;34m\u001b[0m\u001b[0m\n\u001b[1;32m    240\u001b[0m \u001b[0;34m\u001b[0m\u001b[0m\n\u001b[0;32m--> 241\u001b[0;31m     \u001b[0;32mreturn\u001b[0m \u001b[0mforward_fn\u001b[0m\u001b[0;34m(\u001b[0m\u001b[0;34m*\u001b[0m\u001b[0minput_tensors\u001b[0m\u001b[0;34m)\u001b[0m\u001b[0;34m\u001b[0m\u001b[0;34m\u001b[0m\u001b[0m\n\u001b[0m\u001b[1;32m    242\u001b[0m \u001b[0;34m\u001b[0m\u001b[0m\n\u001b[1;32m    243\u001b[0m \u001b[0;34m\u001b[0m\u001b[0m\n",
            "\u001b[0;32m/usr/local/lib/python3.10/dist-packages/transformers/models/roberta/modeling_roberta.py\u001b[0m in \u001b[0;36mfeed_forward_chunk\u001b[0;34m(self, attention_output)\u001b[0m\n\u001b[1;32m    465\u001b[0m \u001b[0;34m\u001b[0m\u001b[0m\n\u001b[1;32m    466\u001b[0m     \u001b[0;32mdef\u001b[0m \u001b[0mfeed_forward_chunk\u001b[0m\u001b[0;34m(\u001b[0m\u001b[0mself\u001b[0m\u001b[0;34m,\u001b[0m \u001b[0mattention_output\u001b[0m\u001b[0;34m)\u001b[0m\u001b[0;34m:\u001b[0m\u001b[0;34m\u001b[0m\u001b[0;34m\u001b[0m\u001b[0m\n\u001b[0;32m--> 467\u001b[0;31m         \u001b[0mintermediate_output\u001b[0m \u001b[0;34m=\u001b[0m \u001b[0mself\u001b[0m\u001b[0;34m.\u001b[0m\u001b[0mintermediate\u001b[0m\u001b[0;34m(\u001b[0m\u001b[0mattention_output\u001b[0m\u001b[0;34m)\u001b[0m\u001b[0;34m\u001b[0m\u001b[0;34m\u001b[0m\u001b[0m\n\u001b[0m\u001b[1;32m    468\u001b[0m         \u001b[0mlayer_output\u001b[0m \u001b[0;34m=\u001b[0m \u001b[0mself\u001b[0m\u001b[0;34m.\u001b[0m\u001b[0moutput\u001b[0m\u001b[0;34m(\u001b[0m\u001b[0mintermediate_output\u001b[0m\u001b[0;34m,\u001b[0m \u001b[0mattention_output\u001b[0m\u001b[0;34m)\u001b[0m\u001b[0;34m\u001b[0m\u001b[0;34m\u001b[0m\u001b[0m\n\u001b[1;32m    469\u001b[0m         \u001b[0;32mreturn\u001b[0m \u001b[0mlayer_output\u001b[0m\u001b[0;34m\u001b[0m\u001b[0;34m\u001b[0m\u001b[0m\n",
            "\u001b[0;32m/usr/local/lib/python3.10/dist-packages/torch/nn/modules/module.py\u001b[0m in \u001b[0;36m_wrapped_call_impl\u001b[0;34m(self, *args, **kwargs)\u001b[0m\n\u001b[1;32m   1516\u001b[0m             \u001b[0;32mreturn\u001b[0m \u001b[0mself\u001b[0m\u001b[0;34m.\u001b[0m\u001b[0m_compiled_call_impl\u001b[0m\u001b[0;34m(\u001b[0m\u001b[0;34m*\u001b[0m\u001b[0margs\u001b[0m\u001b[0;34m,\u001b[0m \u001b[0;34m**\u001b[0m\u001b[0mkwargs\u001b[0m\u001b[0;34m)\u001b[0m  \u001b[0;31m# type: ignore[misc]\u001b[0m\u001b[0;34m\u001b[0m\u001b[0;34m\u001b[0m\u001b[0m\n\u001b[1;32m   1517\u001b[0m         \u001b[0;32melse\u001b[0m\u001b[0;34m:\u001b[0m\u001b[0;34m\u001b[0m\u001b[0;34m\u001b[0m\u001b[0m\n\u001b[0;32m-> 1518\u001b[0;31m             \u001b[0;32mreturn\u001b[0m \u001b[0mself\u001b[0m\u001b[0;34m.\u001b[0m\u001b[0m_call_impl\u001b[0m\u001b[0;34m(\u001b[0m\u001b[0;34m*\u001b[0m\u001b[0margs\u001b[0m\u001b[0;34m,\u001b[0m \u001b[0;34m**\u001b[0m\u001b[0mkwargs\u001b[0m\u001b[0;34m)\u001b[0m\u001b[0;34m\u001b[0m\u001b[0;34m\u001b[0m\u001b[0m\n\u001b[0m\u001b[1;32m   1519\u001b[0m \u001b[0;34m\u001b[0m\u001b[0m\n\u001b[1;32m   1520\u001b[0m     \u001b[0;32mdef\u001b[0m \u001b[0m_call_impl\u001b[0m\u001b[0;34m(\u001b[0m\u001b[0mself\u001b[0m\u001b[0;34m,\u001b[0m \u001b[0;34m*\u001b[0m\u001b[0margs\u001b[0m\u001b[0;34m,\u001b[0m \u001b[0;34m**\u001b[0m\u001b[0mkwargs\u001b[0m\u001b[0;34m)\u001b[0m\u001b[0;34m:\u001b[0m\u001b[0;34m\u001b[0m\u001b[0;34m\u001b[0m\u001b[0m\n",
            "\u001b[0;32m/usr/local/lib/python3.10/dist-packages/torch/nn/modules/module.py\u001b[0m in \u001b[0;36m_call_impl\u001b[0;34m(self, *args, **kwargs)\u001b[0m\n\u001b[1;32m   1525\u001b[0m                 \u001b[0;32mor\u001b[0m \u001b[0m_global_backward_pre_hooks\u001b[0m \u001b[0;32mor\u001b[0m \u001b[0m_global_backward_hooks\u001b[0m\u001b[0;34m\u001b[0m\u001b[0;34m\u001b[0m\u001b[0m\n\u001b[1;32m   1526\u001b[0m                 or _global_forward_hooks or _global_forward_pre_hooks):\n\u001b[0;32m-> 1527\u001b[0;31m             \u001b[0;32mreturn\u001b[0m \u001b[0mforward_call\u001b[0m\u001b[0;34m(\u001b[0m\u001b[0;34m*\u001b[0m\u001b[0margs\u001b[0m\u001b[0;34m,\u001b[0m \u001b[0;34m**\u001b[0m\u001b[0mkwargs\u001b[0m\u001b[0;34m)\u001b[0m\u001b[0;34m\u001b[0m\u001b[0;34m\u001b[0m\u001b[0m\n\u001b[0m\u001b[1;32m   1528\u001b[0m \u001b[0;34m\u001b[0m\u001b[0m\n\u001b[1;32m   1529\u001b[0m         \u001b[0;32mtry\u001b[0m\u001b[0;34m:\u001b[0m\u001b[0;34m\u001b[0m\u001b[0;34m\u001b[0m\u001b[0m\n",
            "\u001b[0;32m/usr/local/lib/python3.10/dist-packages/transformers/models/roberta/modeling_roberta.py\u001b[0m in \u001b[0;36mforward\u001b[0;34m(self, hidden_states)\u001b[0m\n\u001b[1;32m    363\u001b[0m \u001b[0;34m\u001b[0m\u001b[0m\n\u001b[1;32m    364\u001b[0m     \u001b[0;32mdef\u001b[0m \u001b[0mforward\u001b[0m\u001b[0;34m(\u001b[0m\u001b[0mself\u001b[0m\u001b[0;34m,\u001b[0m \u001b[0mhidden_states\u001b[0m\u001b[0;34m:\u001b[0m \u001b[0mtorch\u001b[0m\u001b[0;34m.\u001b[0m\u001b[0mTensor\u001b[0m\u001b[0;34m)\u001b[0m \u001b[0;34m->\u001b[0m \u001b[0mtorch\u001b[0m\u001b[0;34m.\u001b[0m\u001b[0mTensor\u001b[0m\u001b[0;34m:\u001b[0m\u001b[0;34m\u001b[0m\u001b[0;34m\u001b[0m\u001b[0m\n\u001b[0;32m--> 365\u001b[0;31m         \u001b[0mhidden_states\u001b[0m \u001b[0;34m=\u001b[0m \u001b[0mself\u001b[0m\u001b[0;34m.\u001b[0m\u001b[0mdense\u001b[0m\u001b[0;34m(\u001b[0m\u001b[0mhidden_states\u001b[0m\u001b[0;34m)\u001b[0m\u001b[0;34m\u001b[0m\u001b[0;34m\u001b[0m\u001b[0m\n\u001b[0m\u001b[1;32m    366\u001b[0m         \u001b[0mhidden_states\u001b[0m \u001b[0;34m=\u001b[0m \u001b[0mself\u001b[0m\u001b[0;34m.\u001b[0m\u001b[0mintermediate_act_fn\u001b[0m\u001b[0;34m(\u001b[0m\u001b[0mhidden_states\u001b[0m\u001b[0;34m)\u001b[0m\u001b[0;34m\u001b[0m\u001b[0;34m\u001b[0m\u001b[0m\n\u001b[1;32m    367\u001b[0m         \u001b[0;32mreturn\u001b[0m \u001b[0mhidden_states\u001b[0m\u001b[0;34m\u001b[0m\u001b[0;34m\u001b[0m\u001b[0m\n",
            "\u001b[0;32m/usr/local/lib/python3.10/dist-packages/torch/nn/modules/module.py\u001b[0m in \u001b[0;36m_wrapped_call_impl\u001b[0;34m(self, *args, **kwargs)\u001b[0m\n\u001b[1;32m   1516\u001b[0m             \u001b[0;32mreturn\u001b[0m \u001b[0mself\u001b[0m\u001b[0;34m.\u001b[0m\u001b[0m_compiled_call_impl\u001b[0m\u001b[0;34m(\u001b[0m\u001b[0;34m*\u001b[0m\u001b[0margs\u001b[0m\u001b[0;34m,\u001b[0m \u001b[0;34m**\u001b[0m\u001b[0mkwargs\u001b[0m\u001b[0;34m)\u001b[0m  \u001b[0;31m# type: ignore[misc]\u001b[0m\u001b[0;34m\u001b[0m\u001b[0;34m\u001b[0m\u001b[0m\n\u001b[1;32m   1517\u001b[0m         \u001b[0;32melse\u001b[0m\u001b[0;34m:\u001b[0m\u001b[0;34m\u001b[0m\u001b[0;34m\u001b[0m\u001b[0m\n\u001b[0;32m-> 1518\u001b[0;31m             \u001b[0;32mreturn\u001b[0m \u001b[0mself\u001b[0m\u001b[0;34m.\u001b[0m\u001b[0m_call_impl\u001b[0m\u001b[0;34m(\u001b[0m\u001b[0;34m*\u001b[0m\u001b[0margs\u001b[0m\u001b[0;34m,\u001b[0m \u001b[0;34m**\u001b[0m\u001b[0mkwargs\u001b[0m\u001b[0;34m)\u001b[0m\u001b[0;34m\u001b[0m\u001b[0;34m\u001b[0m\u001b[0m\n\u001b[0m\u001b[1;32m   1519\u001b[0m \u001b[0;34m\u001b[0m\u001b[0m\n\u001b[1;32m   1520\u001b[0m     \u001b[0;32mdef\u001b[0m \u001b[0m_call_impl\u001b[0m\u001b[0;34m(\u001b[0m\u001b[0mself\u001b[0m\u001b[0;34m,\u001b[0m \u001b[0;34m*\u001b[0m\u001b[0margs\u001b[0m\u001b[0;34m,\u001b[0m \u001b[0;34m**\u001b[0m\u001b[0mkwargs\u001b[0m\u001b[0;34m)\u001b[0m\u001b[0;34m:\u001b[0m\u001b[0;34m\u001b[0m\u001b[0;34m\u001b[0m\u001b[0m\n",
            "\u001b[0;32m/usr/local/lib/python3.10/dist-packages/torch/nn/modules/module.py\u001b[0m in \u001b[0;36m_call_impl\u001b[0;34m(self, *args, **kwargs)\u001b[0m\n\u001b[1;32m   1525\u001b[0m                 \u001b[0;32mor\u001b[0m \u001b[0m_global_backward_pre_hooks\u001b[0m \u001b[0;32mor\u001b[0m \u001b[0m_global_backward_hooks\u001b[0m\u001b[0;34m\u001b[0m\u001b[0;34m\u001b[0m\u001b[0m\n\u001b[1;32m   1526\u001b[0m                 or _global_forward_hooks or _global_forward_pre_hooks):\n\u001b[0;32m-> 1527\u001b[0;31m             \u001b[0;32mreturn\u001b[0m \u001b[0mforward_call\u001b[0m\u001b[0;34m(\u001b[0m\u001b[0;34m*\u001b[0m\u001b[0margs\u001b[0m\u001b[0;34m,\u001b[0m \u001b[0;34m**\u001b[0m\u001b[0mkwargs\u001b[0m\u001b[0;34m)\u001b[0m\u001b[0;34m\u001b[0m\u001b[0;34m\u001b[0m\u001b[0m\n\u001b[0m\u001b[1;32m   1528\u001b[0m \u001b[0;34m\u001b[0m\u001b[0m\n\u001b[1;32m   1529\u001b[0m         \u001b[0;32mtry\u001b[0m\u001b[0;34m:\u001b[0m\u001b[0;34m\u001b[0m\u001b[0;34m\u001b[0m\u001b[0m\n",
            "\u001b[0;32m/usr/local/lib/python3.10/dist-packages/torch/nn/modules/linear.py\u001b[0m in \u001b[0;36mforward\u001b[0;34m(self, input)\u001b[0m\n\u001b[1;32m    112\u001b[0m \u001b[0;34m\u001b[0m\u001b[0m\n\u001b[1;32m    113\u001b[0m     \u001b[0;32mdef\u001b[0m \u001b[0mforward\u001b[0m\u001b[0;34m(\u001b[0m\u001b[0mself\u001b[0m\u001b[0;34m,\u001b[0m \u001b[0minput\u001b[0m\u001b[0;34m:\u001b[0m \u001b[0mTensor\u001b[0m\u001b[0;34m)\u001b[0m \u001b[0;34m->\u001b[0m \u001b[0mTensor\u001b[0m\u001b[0;34m:\u001b[0m\u001b[0;34m\u001b[0m\u001b[0;34m\u001b[0m\u001b[0m\n\u001b[0;32m--> 114\u001b[0;31m         \u001b[0;32mreturn\u001b[0m \u001b[0mF\u001b[0m\u001b[0;34m.\u001b[0m\u001b[0mlinear\u001b[0m\u001b[0;34m(\u001b[0m\u001b[0minput\u001b[0m\u001b[0;34m,\u001b[0m \u001b[0mself\u001b[0m\u001b[0;34m.\u001b[0m\u001b[0mweight\u001b[0m\u001b[0;34m,\u001b[0m \u001b[0mself\u001b[0m\u001b[0;34m.\u001b[0m\u001b[0mbias\u001b[0m\u001b[0;34m)\u001b[0m\u001b[0;34m\u001b[0m\u001b[0;34m\u001b[0m\u001b[0m\n\u001b[0m\u001b[1;32m    115\u001b[0m \u001b[0;34m\u001b[0m\u001b[0m\n\u001b[1;32m    116\u001b[0m     \u001b[0;32mdef\u001b[0m \u001b[0mextra_repr\u001b[0m\u001b[0;34m(\u001b[0m\u001b[0mself\u001b[0m\u001b[0;34m)\u001b[0m \u001b[0;34m->\u001b[0m \u001b[0mstr\u001b[0m\u001b[0;34m:\u001b[0m\u001b[0;34m\u001b[0m\u001b[0;34m\u001b[0m\u001b[0m\n",
            "\u001b[0;31mOutOfMemoryError\u001b[0m: CUDA out of memory. Tried to allocate 26.00 MiB. GPU 0 has a total capacty of 14.75 GiB of which 24.81 MiB is free. Process 2171 has 14.72 GiB memory in use. Of the allocated memory 13.59 GiB is allocated by PyTorch, and 1.00 GiB is reserved by PyTorch but unallocated. If reserved but unallocated memory is large try setting max_split_size_mb to avoid fragmentation.  See documentation for Memory Management and PYTORCH_CUDA_ALLOC_CONF"
          ]
        }
      ]
    },
    {
      "cell_type": "code",
      "source": [
        "# 예측\n",
        "def inference(model, dataset_test):\n",
        "    test_dataset = TESTDataset(dataset_test)\n",
        "    test_loader = DataLoader(test_dataset, batch_size=batch_size, shuffle=False)\n",
        "    model.eval()\n",
        "    output_pred = []\n",
        "    with torch.no_grad():\n",
        "      for batch_id, (token_ids, attention_masks) in tqdm(enumerate(test_loader), total=len(test_loader)):\n",
        "        token_ids = token_ids.long().to(device)\n",
        "        attention_masks = attention_masks.long().to(device)\n",
        "        output=model(token_ids, attention_masks)[0]\n",
        "        logits = torch.nn.functional.softmax(output, dim=1).detach().cpu().numpy()\n",
        "        output_pred.extend(logits)\n",
        "    return output_pred"
      ],
      "metadata": {
        "id": "ganJbtpSAuWn"
      },
      "execution_count": null,
      "outputs": []
    },
    {
      "cell_type": "code",
      "source": [
        "label_dict = {\"entailment\" : 0, \"contradiction\" : 1, \"neutral\" : 2}"
      ],
      "metadata": {
        "id": "BdbhnexHBRkb"
      },
      "execution_count": null,
      "outputs": []
    },
    {
      "cell_type": "code",
      "source": [
        "# 결과 도출\n",
        "def inference_main():\n",
        "  res = np.zeros((len(test),3))\n",
        "  for i in range(5):\n",
        "    print(f'fold{i} 모델 추론중...')\n",
        "    # load my model\n",
        "    model = torch.load('/content/drive/MyDrive/open/model'+str(i)+'.pt')\n",
        "\n",
        "    pred_answer = inference(model, test)\n",
        "\n",
        "    res += np.array(pred_answer) / 5\n",
        "\n",
        "  ans= np.argmax(res, axis=-1)\n",
        "  out = [list(label_dict.keys())[_] for _ in ans]\n",
        "  submission[\"label\"] = out"
      ],
      "metadata": {
        "id": "7iwVlqPzBShN"
      },
      "execution_count": null,
      "outputs": []
    },
    {
      "cell_type": "code",
      "source": [
        "inference_main()"
      ],
      "metadata": {
        "id": "zLu3eLd7BTlE"
      },
      "execution_count": null,
      "outputs": []
    },
    {
      "cell_type": "code",
      "source": [
        "submission.to_csv(\"FOLD5(20)_submission.csv\", index = False)"
      ],
      "metadata": {
        "id": "JPxxtbnaBW61"
      },
      "execution_count": null,
      "outputs": []
    }
  ]
}