{
  "nbformat": 4,
  "nbformat_minor": 0,
  "metadata": {
    "colab": {
      "provenance": [],
      "authorship_tag": "ABX9TyOYRYXWnKOHDRoz+rQywZbu",
      "include_colab_link": true
    },
    "kernelspec": {
      "name": "python3",
      "display_name": "Python 3"
    },
    "language_info": {
      "name": "python"
    }
  },
  "cells": [
    {
      "cell_type": "markdown",
      "metadata": {
        "id": "view-in-github",
        "colab_type": "text"
      },
      "source": [
        "<a href=\"https://colab.research.google.com/github/hseyeon1006/ESAA_OB/blob/%ED%95%84%EC%82%AC/CH08_6%2C8%2C9_HW1103.ipynb\" target=\"_parent\"><img src=\"https://colab.research.google.com/assets/colab-badge.svg\" alt=\"Open In Colab\"/></a>"
      ]
    },
    {
      "cell_type": "markdown",
      "source": [
        "##8.6. 토픽 모델링(Topic Modeling) - 20 뉴스그룹"
      ],
      "metadata": {
        "id": "mc514i0pWTqg"
      }
    },
    {
      "cell_type": "markdown",
      "source": [
        "토픽 모델링 : 문서 집합에 숨어 있는 주제를 찾아내는 것"
      ],
      "metadata": {
        "id": "Q90b_AlmWYS6"
      }
    },
    {
      "cell_type": "code",
      "execution_count": 1,
      "metadata": {
        "id": "hxwaokobVX7s"
      },
      "outputs": [],
      "source": [
        "from sklearn.datasets import fetch_20newsgroups\n",
        "from sklearn.feature_extraction.text import CountVectorizer\n",
        "from sklearn.decomposition import LatentDirichletAllocation"
      ]
    },
    {
      "cell_type": "code",
      "source": [
        "# 모토사이클, 야구, 그래픽스, 윈도우즈, 중동, 기독교, 전자공학, 의학 9개 주제를 추출\n",
        "cats = ['rec.motorcycles', 'rec.sport.baseball', 'comp.graphics', 'comp.windows.x', 'talk.politics.mideast', 'soc.religion.christian', 'sci.electronics', 'sci.med']\n",
        "\n",
        "# 위에서 cats 변수로 기재된 카테고리만 추출. featch_20newsgroups( ) 의 categories에 cats 입력\n",
        "news_df = fetch_20newsgroups(subset='all', remove = ('headers', 'footers', 'quotes'), categories=cats, random_state=0)\n",
        "\n",
        "# LDA는 count기반의 벡터화만 적용\n",
        "count_vect = CountVectorizer(max_df=0.95, max_features=1000, min_df=2, stop_words='english', ngram_range=(1,2))\n",
        "\n",
        "feat_vect = count_vect.fit_transform(news_df.data)\n",
        "print('CountVectorizer Shape:', feat_vect.shape)"
      ],
      "metadata": {
        "colab": {
          "base_uri": "https://localhost:8080/"
        },
        "id": "cCK7MmAbVbVq",
        "outputId": "1a6395d4-6de1-464c-c6fe-21098d4ca837"
      },
      "execution_count": 2,
      "outputs": [
        {
          "output_type": "stream",
          "name": "stdout",
          "text": [
            "CountVectorizer Shape: (7862, 1000)\n"
          ]
        }
      ]
    },
    {
      "cell_type": "markdown",
      "source": [
        "CountVectorizer 객체 변수인 feat_vect 모두 7862개의 문서가 10000개의 피처로 구성된 행렬 데이터임"
      ],
      "metadata": {
        "id": "tl7h-SkVWjrU"
      }
    },
    {
      "cell_type": "code",
      "source": [
        "lda = LatentDirichletAllocation(n_components=8, random_state=0)\n",
        "lda.fit(feat_vect)"
      ],
      "metadata": {
        "colab": {
          "base_uri": "https://localhost:8080/",
          "height": 74
        },
        "id": "DpAWDEE8VbT0",
        "outputId": "cb0615db-f79d-40e3-f88c-6200fc939cbd"
      },
      "execution_count": 3,
      "outputs": [
        {
          "output_type": "execute_result",
          "data": {
            "text/plain": [
              "LatentDirichletAllocation(n_components=8, random_state=0)"
            ],
            "text/html": [
              "<style>#sk-container-id-1 {color: black;background-color: white;}#sk-container-id-1 pre{padding: 0;}#sk-container-id-1 div.sk-toggleable {background-color: white;}#sk-container-id-1 label.sk-toggleable__label {cursor: pointer;display: block;width: 100%;margin-bottom: 0;padding: 0.3em;box-sizing: border-box;text-align: center;}#sk-container-id-1 label.sk-toggleable__label-arrow:before {content: \"▸\";float: left;margin-right: 0.25em;color: #696969;}#sk-container-id-1 label.sk-toggleable__label-arrow:hover:before {color: black;}#sk-container-id-1 div.sk-estimator:hover label.sk-toggleable__label-arrow:before {color: black;}#sk-container-id-1 div.sk-toggleable__content {max-height: 0;max-width: 0;overflow: hidden;text-align: left;background-color: #f0f8ff;}#sk-container-id-1 div.sk-toggleable__content pre {margin: 0.2em;color: black;border-radius: 0.25em;background-color: #f0f8ff;}#sk-container-id-1 input.sk-toggleable__control:checked~div.sk-toggleable__content {max-height: 200px;max-width: 100%;overflow: auto;}#sk-container-id-1 input.sk-toggleable__control:checked~label.sk-toggleable__label-arrow:before {content: \"▾\";}#sk-container-id-1 div.sk-estimator input.sk-toggleable__control:checked~label.sk-toggleable__label {background-color: #d4ebff;}#sk-container-id-1 div.sk-label input.sk-toggleable__control:checked~label.sk-toggleable__label {background-color: #d4ebff;}#sk-container-id-1 input.sk-hidden--visually {border: 0;clip: rect(1px 1px 1px 1px);clip: rect(1px, 1px, 1px, 1px);height: 1px;margin: -1px;overflow: hidden;padding: 0;position: absolute;width: 1px;}#sk-container-id-1 div.sk-estimator {font-family: monospace;background-color: #f0f8ff;border: 1px dotted black;border-radius: 0.25em;box-sizing: border-box;margin-bottom: 0.5em;}#sk-container-id-1 div.sk-estimator:hover {background-color: #d4ebff;}#sk-container-id-1 div.sk-parallel-item::after {content: \"\";width: 100%;border-bottom: 1px solid gray;flex-grow: 1;}#sk-container-id-1 div.sk-label:hover label.sk-toggleable__label {background-color: #d4ebff;}#sk-container-id-1 div.sk-serial::before {content: \"\";position: absolute;border-left: 1px solid gray;box-sizing: border-box;top: 0;bottom: 0;left: 50%;z-index: 0;}#sk-container-id-1 div.sk-serial {display: flex;flex-direction: column;align-items: center;background-color: white;padding-right: 0.2em;padding-left: 0.2em;position: relative;}#sk-container-id-1 div.sk-item {position: relative;z-index: 1;}#sk-container-id-1 div.sk-parallel {display: flex;align-items: stretch;justify-content: center;background-color: white;position: relative;}#sk-container-id-1 div.sk-item::before, #sk-container-id-1 div.sk-parallel-item::before {content: \"\";position: absolute;border-left: 1px solid gray;box-sizing: border-box;top: 0;bottom: 0;left: 50%;z-index: -1;}#sk-container-id-1 div.sk-parallel-item {display: flex;flex-direction: column;z-index: 1;position: relative;background-color: white;}#sk-container-id-1 div.sk-parallel-item:first-child::after {align-self: flex-end;width: 50%;}#sk-container-id-1 div.sk-parallel-item:last-child::after {align-self: flex-start;width: 50%;}#sk-container-id-1 div.sk-parallel-item:only-child::after {width: 0;}#sk-container-id-1 div.sk-dashed-wrapped {border: 1px dashed gray;margin: 0 0.4em 0.5em 0.4em;box-sizing: border-box;padding-bottom: 0.4em;background-color: white;}#sk-container-id-1 div.sk-label label {font-family: monospace;font-weight: bold;display: inline-block;line-height: 1.2em;}#sk-container-id-1 div.sk-label-container {text-align: center;}#sk-container-id-1 div.sk-container {/* jupyter's `normalize.less` sets `[hidden] { display: none; }` but bootstrap.min.css set `[hidden] { display: none !important; }` so we also need the `!important` here to be able to override the default hidden behavior on the sphinx rendered scikit-learn.org. See: https://github.com/scikit-learn/scikit-learn/issues/21755 */display: inline-block !important;position: relative;}#sk-container-id-1 div.sk-text-repr-fallback {display: none;}</style><div id=\"sk-container-id-1\" class=\"sk-top-container\"><div class=\"sk-text-repr-fallback\"><pre>LatentDirichletAllocation(n_components=8, random_state=0)</pre><b>In a Jupyter environment, please rerun this cell to show the HTML representation or trust the notebook. <br />On GitHub, the HTML representation is unable to render, please try loading this page with nbviewer.org.</b></div><div class=\"sk-container\" hidden><div class=\"sk-item\"><div class=\"sk-estimator sk-toggleable\"><input class=\"sk-toggleable__control sk-hidden--visually\" id=\"sk-estimator-id-1\" type=\"checkbox\" checked><label for=\"sk-estimator-id-1\" class=\"sk-toggleable__label sk-toggleable__label-arrow\">LatentDirichletAllocation</label><div class=\"sk-toggleable__content\"><pre>LatentDirichletAllocation(n_components=8, random_state=0)</pre></div></div></div></div></div>"
            ]
          },
          "metadata": {},
          "execution_count": 3
        }
      ]
    },
    {
      "cell_type": "code",
      "source": [
        "print(lda.components_.shape)\n",
        "lda.components_"
      ],
      "metadata": {
        "colab": {
          "base_uri": "https://localhost:8080/"
        },
        "id": "afT0FkvSVbRr",
        "outputId": "73d071a6-3127-4be5-cc68-b698d39cc1cb"
      },
      "execution_count": 4,
      "outputs": [
        {
          "output_type": "stream",
          "name": "stdout",
          "text": [
            "(8, 1000)\n"
          ]
        },
        {
          "output_type": "execute_result",
          "data": {
            "text/plain": [
              "array([[3.60992018e+01, 1.35626798e+02, 2.15751867e+01, ...,\n",
              "        3.02911688e+01, 8.66830093e+01, 6.79285199e+01],\n",
              "       [1.25199920e-01, 1.44401815e+01, 1.25045596e-01, ...,\n",
              "        1.81506995e+02, 1.25097844e-01, 9.39593286e+01],\n",
              "       [3.34762663e+02, 1.25176265e-01, 1.46743299e+02, ...,\n",
              "        1.25105772e-01, 3.63689741e+01, 1.25025218e-01],\n",
              "       ...,\n",
              "       [3.60204965e+01, 2.08640688e+01, 4.29606813e+00, ...,\n",
              "        1.45056650e+01, 8.33854413e+00, 1.55690009e+01],\n",
              "       [1.25128711e-01, 1.25247756e-01, 1.25005143e-01, ...,\n",
              "        9.17278769e+01, 1.25177668e-01, 3.74575887e+01],\n",
              "       [5.49258690e+01, 4.47009532e+00, 9.88524814e+00, ...,\n",
              "        4.87048440e+01, 1.25034678e-01, 1.25074632e-01]])"
            ]
          },
          "metadata": {},
          "execution_count": 4
        }
      ]
    },
    {
      "cell_type": "code",
      "source": [
        "#토픽별로 연관도가 높은 순으로 word를 나열하는 함수\n",
        "def display_topics(model, feature_names, no_top_words):\n",
        "  for topic_index, topic in enumerate(model.components_):\n",
        "    print('Topic #', topic_index)\n",
        "\n",
        "    # components_ array에서 가장 값이 큰 순으로 정렬했을 때, 그 값의 array 인덱스를 반환.\n",
        "    topic_word_indexes = topic.argsort()[::-1]\n",
        "    top_indexes=topic_word_indexes[:no_top_words]\n",
        "\n",
        "    # top_indexes 대상인 인덱스별로 feature_names에 해당하는 word feature 추출 후 joint으로 concat\n",
        "    feature_concat = ' '.join([feature_names[i] for i in top_indexes])\n",
        "    print(feature_concat)\n",
        "\n",
        "# CountVectorizer객체 내의 전체 word의 명칭을 get_features_names()를 통해 추출\n",
        "feature_names = count_vect.get_feature_names_out()\n",
        "\n",
        "# 토픽별 가장 연관도가 높은 word를 15개만 추출\n",
        "display_topics(lda, feature_names, 15)"
      ],
      "metadata": {
        "colab": {
          "base_uri": "https://localhost:8080/"
        },
        "id": "tVv3voT0VbPt",
        "outputId": "fb3f86c2-14d5-4736-a2cd-554bd5a1a69e"
      },
      "execution_count": 5,
      "outputs": [
        {
          "output_type": "stream",
          "name": "stdout",
          "text": [
            "Topic # 0\n",
            "year 10 game medical health team 12 20 disease cancer 1993 games years patients good\n",
            "Topic # 1\n",
            "don just like know people said think time ve didn right going say ll way\n",
            "Topic # 2\n",
            "image file jpeg program gif images output format files color entry 00 use bit 03\n",
            "Topic # 3\n",
            "like know don think use does just good time book read information people used post\n",
            "Topic # 4\n",
            "armenian israel armenians jews turkish people israeli jewish government war dos dos turkey arab armenia 000\n",
            "Topic # 5\n",
            "edu com available graphics ftp data pub motif mail widget software mit information version sun\n",
            "Topic # 6\n",
            "god people jesus church believe christ does christian say think christians bible faith sin life\n",
            "Topic # 7\n",
            "use dos thanks windows using window does display help like problem server need know run\n"
          ]
        }
      ]
    },
    {
      "cell_type": "markdown",
      "source": [
        "* Topic #0 : 명확하지 않고 일반적인 단어가 주를 이룸\n",
        "* Topic #1 : 명확하게 컴퓨터 그래픽스 영역의 주제어가 추출됨\n",
        "* Topic #2 : 기독교와 관련된 주제어\n",
        "* Topic #3 : 의학에 관련된 주제어\n",
        "* Topic #4 : 윈도우 운영체제와 관련된 주제어\n",
        "* Topic #5 : 일반적인 단어로 주제어가 추출됨\n",
        "* Topic #6 : 중동 분쟁 등에 관련된 주제어\n",
        "* Topic #7 : 애매하지만 윈도우 운영체제와 관련된 주제어가 일부 추출됨"
      ],
      "metadata": {
        "id": "19GtpoKyW6NS"
      }
    },
    {
      "cell_type": "markdown",
      "source": [
        "##8.8. 문서 유사도"
      ],
      "metadata": {
        "id": "EL-oCoIvXR7F"
      }
    },
    {
      "cell_type": "markdown",
      "source": [
        "### 문서 유사도 측정 방법 - 코사인 유사도"
      ],
      "metadata": {
        "id": "C7qUMkEFXXBb"
      }
    },
    {
      "cell_type": "markdown",
      "source": [
        "코사인 유사도 : 벡터와 벡터 간의 유사도를 비교할 때 벡터의 크기보다는 벡터의 상호 방향성이 얼마나 유사한지에 기반함. 즉, 두 벡터 사이의 사잇각을 구해서 얼마나 유사한지 수치로 적용한 것임\n",
        "\n",
        "![image.png](data:image/png;base64,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)"
      ],
      "metadata": {
        "id": "ju5PiwMyXZLq"
      }
    },
    {
      "cell_type": "markdown",
      "source": [
        "### 두 벡터 사잇각\n",
        "![image.png](data:image/png;base64,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)"
      ],
      "metadata": {
        "id": "4LsMLK2fXi98"
      }
    },
    {
      "cell_type": "markdown",
      "source": [
        "두 벡터 A와 B의 코사인 값을 구하는 식\n",
        "\n",
        "![image.png](data:image/png;base64,iVBORw0KGgoAAAANSUhEUgAAAOgAAAA3CAYAAAAGwQaCAAAAAXNSR0IArs4c6QAAAARnQU1BAACxjwv8YQUAAAAJcEhZcwAAEnQAABJ0Ad5mH3gAAB/rSURBVHhe7VwHnFXF9f6279JBehVLVJAmJRQpUgQLCEH0L6iIJQLSRNFEiAqKJSbGEo2CqAgiohEsSCAaBSmKQhRQQBQQWHpb+pb39v99577ZvTzewoKY7C+/+63DvXfuzJkzZ845c2bmPuNyCQQIEKBIIj5yDRAgQBFEYKABAhRhBAYaIEARRmCgAQIUYQQGGiBAEUZgoAECFGEEBhogQBFGYKABAhRhBAYaIEARRmCgAQIUYQQGGiBAEUZgoAECFGEEBhogQBFGYKABAhRhBAYaIEARRvB70P8RRA9jXFxc5C7AfxP+cTmVMfnFDFRkw+EQQqFcJCQmIp68xYFNxZ140lZdf0pISPifUDivP0B2bjZyDh9GSkoKJRKHrMxMxjIJSElNQYIExcAmjn8ng9xwLrKyMhEfH+8lyjmO16PIsO2cnCyEeJN56DCKpxVDmEUys44gMSGJck6UFiGLvCUmJZNOIstnU0lCSEpOsXeiHT0WbpzCYXKuV3FhhJXH24S4BHunOnbln96E9VZ0mBLFK8uGSUBlmIlQ9hHyz/vEVIRzckANYnaCNSAVimcv7PmoDv53IJ5DIfFDXjgO8ewdLzh4+IjllyieauMaxzFGHHtiQiocTmwtPwNhcpmbS2ZpqIKG50TwBgjWMTdguv6vQN3bmL4J7S9ph6VffWV5t9/eH6MffIC6Zy7s1EDRhkJhGnsWwrx6OJZaLmW5d18GOnXsiPSfNigH/Qf0xzPPPG33ezMycGmnjpgz6x+mcKNGjsSIu+/Ko1SwcWqcI4aZy35ozDj2opmnwIQbU/5nsHI+qNyWrdvQ8zc9KJ8vkRnKwahRozBtyuvWRyl+Hk5ZWKcX6pP4lpOUvh84sA+PPjoWrVq1Rps2bfHb225Dxt49VvZkWT5tBuoGyp+y6Pl27tiKcPZhPpvPPAbRdRx0f/DgwchTfrnjwZWJTvlKETvP3f/ScLNiVlYW1v74I/bt20dvmoBdO3dix5Z0Tjw55IMFCsmKn/8cyvpBGvnAgQM9I5Kxx6CjaERl169bh6zsbJkPfli3Fju3bad1cMyys7By5Srs3LlD4RW2btmM9I0bbXJws2A0nPzW/rgG9903CsOG3YVhg4fi3uHDMXLkKDz88MMYPXo07r//fowcNRLPP/88tqSnUy9y2OfwUW5bbRw8cBCfzfsMmzaxXf6tXv09ndpPfJtDA6WhGwuq5a/534N4llw1Ie3btx/9buqHeXPnYfLkyXjv/fewdu1avPjCCzYekuPJ4LTPoPIkUoAcXteuX4cWv25GZVhDmcY2UJXPpqJYHSYNtvI++OAD3HUXPTd7pTyX75QhGsp39adOnWqKeuONN6Jv374YMGCAKciDDz5o6b777sPQoUPx0ksvYdeuXZ73i0Hzl4ApOq+ZnOk0qIoq5Hnj6cA0f8YpfivEKIpfpSNHvDDqK87GL094GRtpTApDhejZTjAjs5HID1eTkpKQnZXNMNfjR6FlchKXFaQfz5zkJIa+EcSiqX6IVu0za2HQ4EEoW648Xn9tEraSl9s4e/Tr1w/9+/e3+0u7dMYrr76K9u0uwb/++bGi4TyHJNqOP2UlJyfbjHzo0EGG3OLLk5GHE8voPwlPN0MYOmQI1vzwA8aNexEXXHABqlerht69e2MWIxIXSZ4MTquBOiU3IVPhHh47lh5lL9asXqm3eaJ1yuXKa3DdcyhiqFu3bqUH3RShlWt5usoA80Y0BlS+y2WX4Z5770X65nS8O3066tapizsG3YFBgwaZYcrwL7/8cowlf1decQV++kneWTSPput4Khxc/ROXdyWMNvUslzNXfKQta+44JPw8qa9S4kyuYeV4sjgjac0YHTb6YQYYGR+RkUM4rDWnjJPPpG704+IiiXUy6QROBK2rklOSUKVqVV65XiUPfXr3Qa1atVC9enVUrlwZVapUQcuWrTijPsTIajv+8ucncPjQIdbO77B4U5sK06X0CYwwpB+HDx2w9wkJnsqKM1fLL5NTQWHqu/f+q7+erjNmzMDMD2eaXtWoUZPOJWy8Fy9enFHAakYlO1nQihcap81AJVhBjMqIPv10LmbNnMmcBGzfuoeeMp5KaEViQszL037zzTdUsBykpiR7XpxKopj+kbEPY87sWRwgDeCxhNR+ApVNbRcrVgwVK1VkZggVSpbENT16oGSpUihbpgxK8rkMrx06dMD111+PVd+twPPPPsU2C/ZuoukfkIJTdLkIgSjYvEReVYYNI8T+0v8irD0EU70TQ3XFlxzXtGnTUKPmmYhPSkXG9s2UV4YEolJeYQcjzJkzjjNiLh/4WnNSiIYdCmebvLSxlJCQ4uXT6MRrmdLJeeNbMESPYV4oG4sXf4aS5UrhnDp1vDeRuomJbJeOoEbNWuSBofWab7FvP0NrH2kzUD4ncZzlaKSgcmCH92UiJ8y8XM76EpumXl+9o+VegOCJ6HIFlY1VpqCywt69ezH6gT9wzXkx2ne6FCFtjjFfRnqEMjnEsD2USefp47kwOG0GKubdQCjsGj9+PNq2a2decONGzoTauYoSqN4JZlwcuD179qBnz554bdIklC5TGuXKlcPqVavQo3sPvPXWNNsNLggaNNHR7qVo7d69mzP39zirdm2UJC3jjaGkro7X8uXL2/3KlStN2WNBPKrMiZP6FM/ynuHIWKX+saB3Ct3Coq0M8RZtTMeBF055M8y2bdvw9ttvY8DAAaQTQsa+3YxatCFRQPuRYUiK7NjqSV5eSZ3QOiqL4a74kYxCBcjFDyeDEPu1n+vqJV9+iQoVKqBGrZpGQ3ByVxvpjIzE/zm/Og+lSpe1936obDzHUOPoILds4b8fxm9s53k8RJeNHnuXL/k6Wbvkh8tTmUnU2a0ciyFDBjOq0W58ApISk6wv639ab87JyeJkcFoN1DEsZps2bYp2XGckkkm+zAu7XDkZkO6dcshYpGhaP376ySd4/LHHsGTJEgwffhf69OmDhYsWoUP79kanQPFTAHIEksPy5cuxd9duNGveHMmpKWwjEsLpH0LXzZs36w4Xt25tChENlXFJPPufo997GZ5y6Sacm+NlRMPKe3XNKAjt3sowCgPXlpRC9V944QWLPGrWqIFKjBq8pYBk5OPLB8dvNsvJq4tHHa/IAExwhLy+TEIpniGl6HlvYkP0TD68/5HrrwMZ+zj27RjqauZV+OtFC6YfDMFfGjeOIXUy+t50K1KKlfSI+CAZ5uSE8wxUyq26EfaOgTMi9d3aYNK+hvKjIT785Zw83L0rc7x3Du69NjNfe+011K9XDy1atLR3xiuTQvX5n81HalqqyflkcdoM1EGbLh999BFuvvlm86ImPHbCvJ9PX1JTU/M66zyLNisaNGyAW2+91QZV69A2bdrgqqu6oVhampWXsGKOE2k4OiK7ePFiK9fl8stkASYwhcCCaMg4tWaoWKkS10q98+pGQ5svI0aMwMiRI3Ev17Vaw9555510HMMt/+6776bXHILBg4fgttsGYODAOzBgQH9MnjyJ7UQrSP4gK6mPalb3sZQpFpwMpLyrGF1s2LABV3AdnUb5VChfGUcO51A5RYt9tXPCaHj9VH+TkpNMVnIQBj0QepefJ3nJaPN5Lwgy7C8Xf8nlTC6aNGli4bJfrurjG6+/jk//9QlG/eF+dO/ek7niMb+MoCZUzRyY7pln4THvKTmvkA9qQ3xpLa71tCI4f75LgnhQUjkZlgzZdMrHp8qqjOgd4hpZV0F5/nLu/vPPP7fNuf+77jpzaCRg8pJjy8jYi3Xr1qJ27TNRpuyx0cKJcPImHQXnXczLkuFnn30GN9xwPUqVKonU5ETkcuG5etVKdi4HcZrmqTgqJwPV1QlDgnr33Xfxt+f/Rqoh9Ly6O5Z++RVn2l3owJj+/669xs4LzzjjDBuifDF5oEi8f6kcOTkhfPnlEpQpUQZnnXVuRJBM5EV/GQylhw8bJrvFxNenoDrXb8dS9AZAmxstWrSwe9dXwTMueXqu38i/nflyjZSUnMDnbNQ+i2tCHUxHw5qhw9IsJVr8T+G5rQsL4S89WbOPWVn442OPY9Adg8xYFbKWLFkCmrcPHdKxVsQpRiE3VyG7z8mpbY6LN1t5H4Qkcv0Xz6R3SprNPHpW4xhILoLamzHjHStXgzP6j2sZ2pEvdVOh+MSJE7mM2Y0Z772Lpk2a2pJFy4JjYE17eqF2zTkkqpxkxtmYd1qX0tRMduvWrsVzz/4VW7Zu4bLoDOxhmN2oYX06zTuQyHW5+BHr0sH3Z7yHD2fOQjx1UxNA3fMvwO9+9zvbo5BDEe19XE+OHTsa6Vu3oUH9hlj743o0qFcXt9x6ixeqegySHmdh8jB1ymQ6pRCXZq/hX4z+vJlSjcZxybEHGbv3oGXDJrZ5Jvong59toBKg51mAFSuWY8eOHejSpTNfhFGOHiMxJQkHDx3ko8p4mw1K5h0JLyTLpZdZh2E0mmuuvgb3jfo9Ppk7G0sWzseYMQ+heas2+N09I1C8eEkrEwsWlnG0cklba9nF9OTVy1XEBq5/N23fRiWMNyewfMUyzOYA1atTx5xJOYbWIRpXgimAhjEf4rM217BKpwdySDLDXCQnco0V780Kmq0SaKDmvE5gpOJJ+Pijj1GREUrDBg1Yn3XYf9lYmF7n2+9WoE79BlQe0o3RJ/sgwgyViU4rkZGLDEKbPNq80dDIsFTT2hOPkfFy7fshpdU4ZlCxv1+9ClWqVcE3y1YA3662L2ikH5rtly5dylmzG+rUvQAJNBCP72PpeQ3TXbBNldHyIzucZZIJs305QxlJDg1u0YIFuPvO4bj3rhHo2v1K6lsqMrNzMHbMA5j+9lv4zbW92UYujlAHR4y4GyXTiuPRRx5FqTPK2FHgfffcy+XUWDtxyM7OxYGDh9GXE0y3Ky/F6IdGUy/SEMoKY8igAVybH8HQYcMjzkIs0gD3Z2Dh/M9Q5/zz8NgTf/KWdITkJZlOmvwqFtBou3S5Qpn27mRw8jWioAFTkvI//fTTuPWWm405ybhUqdIUJrBpUzo7J98uWXkzgIOrLyP44osv8Nhjj6JMmbLYv++QhWtSniuvvAILFy60sNlf1w+SYJua1RJIZzEOZuzBOeeejUVffI75CxdgwYKFdvi9YP4CO36pcWYtlKbXlLfzb0b44XgtKJ2ozPEg7ytokAUzgALq+GlqtlJ4pjWPzhaNd48EIxYdbwC7ufbWCDjaR4N0+Cel15LCOJDwDPntHIXo5yiIJ/G/fv167Ni5E72u6WWbVrf/9rf4LZPOof/yl79gwoQJGP/SS+jVqydnld22n6CNpWjqak7+1n0RpY2qEPXHcalc1dMGYn/Sv3v4Xeh+dU8kpnKGokOYM+efmPjKRHyzZKnxJf5kgDpOe/DhMShb8QwKnNSYeva+FlOnTeUMv4VlczFv3sf4+uuv0OM3V5ux6UxYIeq7783A/Pnz82QtSG7frVzJulvRlTqqSKtx48Zo1qyZhfiNL2psYbRm5xYtW1jH6BojtQuHn22gGkwxuphxeJVKlXFRo4voYOSJEziDlrdrNoVrn39J8FGD7Z7lhRVOyiBN6ejN9+8/jOzMbBOydnR1fFIQFOrYoLKdxTTQ0mkpGDR0MAYNG4IhQ4fYGehd9LTjX3wRQ7mGvJNryD+MHMVQydtsiQXxpplh//79liRsl7Q2OXDgwDFJ5bTlrnXLMYouRAbY5KYrk64uTIwFx4fKaDbSRpqMYcqUKRj7yFg8MvYRhmSPYCPXo1KA/Rn7PMKx2ic8ZwDbcVXbGj/j1UJij688o1V25DbfkI+Gq6+jtSSOY+vWrS3Pn9Rm3bp10bFzB9sfmP2hjuDY5xiiV1mdd0oPWNWeU5KS+cZrXxuBOZTFPffcgwvPr4urr+7F5TYJ8bVm17Llytr5a5cuXUxm8+bNwysvv4L7Rt6HYsWLc1ZMYASThJTkZJSg8Wgs93KtKD5ZHQcPHMKLfxvHGZZRCXX5nHNr21dQ2n/I40F/LD937qfWZtt2l1i+0yW1K12Y9+mn+NV5v0LN2rUshNbfyeDkSseAmJRHHz16DPYy1n7qySfxFL2l0quvvmqhp60l2IlYCqtBcEkePZHCkwg6depMr/e4bWToEFwGbPG/RqwAcFliA7dwwSKUK10CF9a/0AZOayOnJAqZLrv8MlSoXAFvvjnV1i/Hw6xZs+yjBh3/9OjRg7P5lZauuuoqu2qDpmvXrnn5rpy+XFK/Y8E7a5RCaZBNTU8IUx4uE7SWe+edd0zeLVu2RKuWrSLXlri41cXmEE3LKOtjJZUvf9HTp36C1puSrZ07Slbkzy/nY0ftaDjH8fmiRSjLZY2+oLFde5IQHUdLV9HSfsFmRjE6446lgZ6eMKm83eofL0uzv+bcpf9eSkf8Bfre2NecepzpDUN6lmnRvDnmLvgMbTpcYpHds88+i9pn1bZZzT58sD/yRIXZxnXo4UOZyLGTpUR06ngZGjRsij/96UlGALdj7bofKZNcRiu3o3mL5h4fhMdRLp3iJlStUgXn17nAchzUVxnvjm3b0femmxh6y8GcPE7JQCVADYod7nMd8+47b+Hii1viFoYbHS7tjI5Mrdu2xSUdWqNU6dI4knmAxptuZVU3lqEeNZBUkGrVquKi5k1s4N3uq3tfEKjC2LJlM9at/wENG17EELuUJ0m2p5pqNpzLwUlKoCdNQzjrEGeRvTH5cejUqZMZhD4GeOuttzB9+nRLule+NrZc0q6wyumqjQfnTfPBdtiWnFASZwStEG2ThMwp6tD7vD+W8yfP2EN48YW/YgAVRx9atG7bBu07dkAHpkvat0d9hlTq347tOz0apOvq50NjpghHUQubZqFQTtgMVAYRr9mFM4vqW/DJPNWOpmNHORxP8awOHD58BMsYGp59ztmcwSqxbfbL3ntQXX2DvJJr00RWqVWTM4rIH8VbPhiEk6re0dBzU5Cdk4lQREZxuTn46KN/oRSVvl69OgiLoPJleOTf/XIkHJeEfZzFFi2cjy6dOnAJkMYQWB8QiKa37t+8cRtSaeAWncUn2hnmxEkT0bnblfhg5ofo3LEL3pjyJmlzgkigkZG2cUy+j2RlYuV336JalapISytp62M3k6u/b097GzUq1UDXLt0QH9kMOzagPz6iNajQkMJokb1j+3bMnv0PjGC4Ub9BA3qfhpaaNmuKX9OTlS9f0cI972t+ecSjGfQbpiHyrBlVW9YpkeOYPOONLp8HL08fbO/atYOzZwMkyLNG3li7vBHNTRvTmTahRMkSOEObRKb8x0LtaLdZZ7Qydn2FVJoOxyXNFroqX+9dvp5LlCgRoeIHGeB/8uJe+KbBzrXnJPe9q5gl5ADNCfr6/vXXX2PL5i0WuklR/B9uqEyJksVYJ4tOahP7lMl77wghGpSgzXAyGG84vDGRwehWFzkXNStnaZsyEb4cPAP1+FNa9s0y7Nq5g7N4a6SkpLG86nvnn0riQ8cRK1esQLWq1c2Bi6jWmVGkmc2+sV2LpsQDowJ9Aso7e69Nrn8vXYryZ5S3MRBt9cnkybZ01Z/w7Xff8X2IjuMc65N9Qsj+aEdX0d0c6u7Z556FqtUr48DBDOrONlSuVB4vv/yynedLP4YOuxOTJk7M64uB5LOzc5CevgnnnXeeF4FIdipD+mu+/x6zPvwQN/W7JY9HGaf6czI4KQN1DKoxWxNRsbV1fsMNN+atD92s4Qk5kWtH72udTK4lHfSuILh3uqrTFpZGaMaC40nhrUS34LO59JRJaMsZRYan5HjWgOSEcyjs1xDODqF9h86oSmVRWypTEPTe8aH7gpIr4y/rBzk1tdFVazVT4ogiud0/Pxz/MhCd7T355z9j8JDBthQQfcGNRTZjtBIlitGgwLVwBut5xqnk71seR8aIdmw9Z6hQUHlSfr0SfVVTTZtdIzX9tHSrzS7xuGTJUj7H2dLEvhqLlBdvSjrS0JoxLa0YHn/iCVRkWKhZMjH+2H4LiXRYaalpdi8xuv6aTI3veHOeMmQVEF85NBhdteRatmyZSlvbCtsVhlpnmPT7UkoV6zeswz9n04hu7mf0BgzsTwfTHN8u/8bWvJ0ZCc6cOZORYHu8OG6crVW9XnmQ7HT+fGbt2saX3lloz/HSsc+Ztc7ELbffJo9sm3JWN198hULBmn8CiKFVq1fb1rk2BewXGX4hGjtxFEw1CinMzh0hc/7uFQzrbFQ6Hjyl0U5yji3KK1Qoj7p167GeN1O5Mvqb8e4MjH/xJdS9oD7GjHmMypdsShyrjWgeolN0GYdYeQJz7F+1l5mVbYqsMuJNRd17KxvJt6Oh5ctwM5XoQ66H58yezRlyi8lbEC0pzgrOTJMmv0FlTMTGTVvwxedf0Slm2Xs/HE+atT3Dk2y8vQAxIQcmg/MUyZvh9ENyB1dfdMWbfpamtvXTKvdux7adnE13YztDbfE6Z84cW8fLWCZMeAVdLr/CQs2w1ssxdUKNM5GeaIq3vHHkn+TUmOtJrWPtBxV6oX+Y1IZ+CeVFB7moWbMmkhiyH8n0Pl6gqZix5DJcePKpJ7h2/zX69OkLHTKsXrXGjDeTBi5zkvHr44JOnTvbj+td/xyUd+GFFzKq2WxtCfHszz84TjPf/wB/+uMTKFW2DIXLsYxU9ca48CiUgZpyM2lQNHgHDhzE3/8+Hdf3ucF+WvMJjULTt1MGld3LkPaNN6Ziwfz5di419c1pNpiq7zrzc+H4kcf8ce1avE4lWbp0ic3mm7ZsNcEpbd6UjhXLl+PBBx7AkMFD0LZNa0yZ8gbKV65kRuIdN/wnIPWipGhcJiuOlQIfOTY7x7XkyUYyUr6+UNFmW/nyFXDddb3tXHfu3Ll5xi3F1WeNL7/8CoqlFkNvjknzlm0wfcb7FrXofZ5ikbSRZzsaKdm4HXXoIxKW0ZpSs40MV7O2Cmsjx/uli6cDDpr9N2zYiGeeedaMs0nTJuh59bU0jpl49q/P4amnn7HNGf32c9GiRXSGY2zD7VLOSvo/NYiUZiC/zou+5GJXhkQ52d59XII+R+QYqVKYToP866yyOJcS48aPN8esaE51P/74Y/udrTaEJD99i922TTvjS79PFg3JXyHs9wxDn3rmKaQVK8GZsDiu6tYDN97YD40aN2Ux/XAAyMjYwyXcTAwcNNB2gI820lx069oNM2f9wxyFHNaHDGv/cP/9GHHvPWjZ+mLro31JF5m8ThaF+l+eqIiSvJOu48aNx6effIasbHoaTt9yxI/TW1SrWsOEojLaJFmzZo0NtpLq9urVy5Ke3Wx7KnAsi6agTRmtz3T8IYXUmldrQX1yJkjpMvZl2Flr2/aXoE6dOmaUTthHC/0XBPmWaaxe+wNaNmqCD95/H01btUKPrl1x4a/OxGN/fpLeNpUFvdlTOK08Sr8ZCutzTH3g8Pbf30bTXzfDFd26omn9Rhj90EPYuncnmlxYDxPGT0Cny7uh3419kBA+ggmvTyMP+aG73xk73hzPuuq9yurqZmqVO14/VE9jumHTBrRs2BhvTJ6KVl064tre16HJeedg5ANjbNbVj7Z1Zvnvfy/Do48+ajR1rOJmtO7du9u9a1+fdf7+97+3Z+0P6Kov0vSbYR3f6VmOXgb25JNP2rln6TIl7Rhm566ddCqX4orLu7KcNpH0v4Lx6IpX6dpzzz1nZ6T6WZmgj2kaNWpk5fx6diootIGKIVdUV9vOp3cVk54nFBMeIyrrHxiV13vl6SrGXchyKnB8iJ4EK3qi6xeElaGBOuFb2+SThey9yjoe/PV+UZAnGei6jVTAi5pg+jvT0aRlC/To1g31zj/HvkTJjfe248W/k5ugfpwOhDlb7qaB1qtXzxxb4yaNcRlDzmbkZ/SY0djBGaMx3z3/17/hyh6/Qd/reyM3+xAmvfmOyc7J2vEnOB4lYwdXRlflxxqjaKi8xkprwxZ0YFOnTEPrzh3R65prcBHlc/+YhxBiCG+7x7ZDrP+LQRjp6elWr1KlSnkGJN1zbbvxVzSiaKtixYq2ceN40lVty0ClEzrH3r59i61xq1WrZnqjpYOiCtF3dFVeV9VxxqrNQbWn9nV15U8VCQ/ql74ngBsIweuQBO0JX8zxSW+so4KufgPUveuIe/45TDuIhkuCX2G8ZE+2c2uDYfcJdu94FVz9/wTsXJhTWRId3CXt2qEYPXrmkUw0bNQQtc86V8LzpBnF0+ni0TaP2H4oHEKHDu1RvARniqQUhqjNUJ3rNX0/nJqcijZt29mXVjqOkhHXPtvbBY2WW6zk4J5N9pF8//toSEeUZBAKvTt07Gg/FTy8/yAuatwQNWufRc7FA2myvPYYJCzNgoqYZAzSLT+ffh70O2AZsWZXp4OxyqWlpaJCBRmxZleVs9by6ihJ18SriwaV3Pfljgd/+VPFSYW4Dl57ngfTzp2tgM1gle919kRkfw7TfkS3o+eCaEe/O108FBpsXwaarXUd11hqnUsquQ0xQy+dP+so+ft2ungNh/M/uRTUtpI2TVyO/enB/n8kipx4S0W1t4Xg41T5dvVCCmF1q/WmPtw3VdOPnXWGSeWXmVKO9sw6/jb8945eXl/5zpWPrufH8d65fEezMCiIVmFQaAM9CmqPAqK7t8dIhndLRDMUq4mfw3Qs+NuIJcTT3d6pwONHYa4kR370bGxRYexfDx6rvwy/4kEpXxy8YePWvm7FkntnmX7O9C7//nTDjZfXrMdIPgua99W2JOfdeaWPhp8///gLehedJ/j1JVaZgvrsL+fqFVT2VFEoAw0QIMB/B24KDBAgQBFEYKABAhRhBAYaIEARRmCgAQIUYQQGGiBAEUZgoAECFGEEBhogQBFGYKABAhRhBAYaIEARRmCgAQIUYQQGGiBAEUZgoAECFGEEBhogQJEF8P/eRxU0ldoDQwAAAABJRU5ErkJggg==)"
      ],
      "metadata": {
        "id": "cv13PXC2XoTl"
      }
    },
    {
      "cell_type": "markdown",
      "source": [
        "유사도 : 두 벡터의 내적을 총 벡터 크기의 합으로 나눈 것\n",
        "\n",
        "![image.png](data:image/png;base64,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)"
      ],
      "metadata": {
        "id": "-dPVCKa5Xudm"
      }
    },
    {
      "cell_type": "code",
      "source": [
        "#두 개의 넘파이 배열에 대한 코사인 유사도를 구하는 함수 작성\n",
        "import numpy as np\n",
        "\n",
        "def cos_similarity(v1, v2):\n",
        "  dot_product = np.dot(v1, v2)\n",
        "  l2_norm = (np.sqrt(sum(np.square(v1))) * np.sqrt(sum(np.square(v2))))\n",
        "  similarity = dot_product / l2_norm\n",
        "\n",
        "  return similarity"
      ],
      "metadata": {
        "id": "QUpFV0_MVbN2"
      },
      "execution_count": 6,
      "outputs": []
    },
    {
      "cell_type": "code",
      "source": [
        "#doc_list로 정의된 3개의 간단한 문서의 유사도를 비교하기 위해 이 문서를 TF-IDF로 벡터화된 행렬로 변환\n",
        "from sklearn.feature_extraction.text import TfidfVectorizer\n",
        "\n",
        "doc_list = ['if you take the blue pill, the story ends',\n",
        "            'if you take the red pill, you stay in Wonderland',\n",
        "            'if you take the red pill, I show you how deep the rabbit hole goes']\n",
        "\n",
        "tfidf_vect_simple = TfidfVectorizer()\n",
        "feature_vect_simple = tfidf_vect_simple.fit_transform(doc_list)\n",
        "print(feature_vect_simple.shape)"
      ],
      "metadata": {
        "colab": {
          "base_uri": "https://localhost:8080/"
        },
        "id": "JQ2wcI4fVbL5",
        "outputId": "6a79a509-7fa0-45f5-c399-a4f793a29b34"
      },
      "execution_count": 7,
      "outputs": [
        {
          "output_type": "stream",
          "name": "stdout",
          "text": [
            "(3, 18)\n"
          ]
        }
      ]
    },
    {
      "cell_type": "code",
      "source": [
        "# TfidfVectorizer로 transform()한 결과는 희소 행렬이므로 밀집 행렬로 변환.\n",
        "feature_vect_dense = feature_vect_simple.todense()\n",
        "\n",
        "# 첫 번째 문장과 두 번째 문장의 피처 벡터 추출\n",
        "vect1 = np.array(feature_vect_dense[0]).reshape(-1,)\n",
        "vect2 = np.array(feature_vect_dense[1]).reshape(-1,)\n",
        "\n",
        "# 첫 번째 문장과 두 번째 문장의 피처 벡터로 두 개 문장의 코사인 유사도 추출\n",
        "similarity_simple = cos_similarity(vect1, vect2)\n",
        "print('문장 1, 문장 2 Cosine 유사도: {0:.3f}'.format(similarity_simple))"
      ],
      "metadata": {
        "colab": {
          "base_uri": "https://localhost:8080/"
        },
        "id": "rQFgqVYOVbJ0",
        "outputId": "5005ccd9-6b89-4c5c-89ef-0605a153e903"
      },
      "execution_count": 8,
      "outputs": [
        {
          "output_type": "stream",
          "name": "stdout",
          "text": [
            "문장 1, 문장 2 Cosine 유사도: 0.402\n"
          ]
        }
      ]
    },
    {
      "cell_type": "code",
      "source": [
        "vect1 = np.array(feature_vect_dense[0]).reshape(-1,)\n",
        "vect3 = np.array(feature_vect_dense[2]).reshape(-1,)\n",
        "similarity_simple = cos_similarity(vect1, vect3)\n",
        "print('문장 1, 문장 3 Cosine 유사도: {0:.3f}'.format(similarity_simple))\n",
        "\n",
        "# 두 번째 문장과 세 번째 문장의 유사도도 측정\n",
        "vect2 = np.array(feature_vect_dense[1]).reshape(-1,)\n",
        "vect3 = np.array(feature_vect_dense[2]).reshape(-1,)\n",
        "similarity_simple = cos_similarity(vect2, vect3)\n",
        "print('문장 2, 문장 3 Cosine 유사도: {0:.3f}'.format(similarity_simple))"
      ],
      "metadata": {
        "colab": {
          "base_uri": "https://localhost:8080/"
        },
        "id": "wrOsuivXVbHv",
        "outputId": "afd3c2f9-48a3-4149-b5ed-37f52c27d62e"
      },
      "execution_count": 9,
      "outputs": [
        {
          "output_type": "stream",
          "name": "stdout",
          "text": [
            "문장 1, 문장 3 Cosine 유사도: 0.404\n",
            "문장 2, 문장 3 Cosine 유사도: 0.456\n"
          ]
        }
      ]
    },
    {
      "cell_type": "code",
      "source": [
        "from sklearn.metrics.pairwise import cosine_similarity\n",
        "\n",
        "similarity_simple_pair = cosine_similarity(feature_vect_simple[0], feature_vect_simple)\n",
        "print(similarity_simple_pair)"
      ],
      "metadata": {
        "colab": {
          "base_uri": "https://localhost:8080/"
        },
        "id": "56rs02hgVbF6",
        "outputId": "ef102538-17a1-4cea-e6cb-2b13b1006efb"
      },
      "execution_count": 10,
      "outputs": [
        {
          "output_type": "stream",
          "name": "stdout",
          "text": [
            "[[1.         0.40207758 0.40425045]]\n"
          ]
        }
      ]
    },
    {
      "cell_type": "code",
      "source": [
        "from sklearn.metrics.pairwise import cosine_similarity\n",
        "\n",
        "similarity_simple_pair = cosine_similarity(feature_vect_simple[0], feature_vect_simple[1:])\n",
        "print(similarity_simple_pair)"
      ],
      "metadata": {
        "colab": {
          "base_uri": "https://localhost:8080/"
        },
        "id": "2yHIXLhpVbD-",
        "outputId": "3ddec9d6-41c0-4925-dfaf-ee0667f7886a"
      },
      "execution_count": 11,
      "outputs": [
        {
          "output_type": "stream",
          "name": "stdout",
          "text": [
            "[[0.40207758 0.40425045]]\n"
          ]
        }
      ]
    },
    {
      "cell_type": "code",
      "source": [
        "similarity_simple_pair = cosine_similarity(feature_vect_simple, feature_vect_simple)\n",
        "print(similarity_simple_pair)\n",
        "print('shape:', similarity_simple_pair.shape)"
      ],
      "metadata": {
        "colab": {
          "base_uri": "https://localhost:8080/"
        },
        "id": "VpLg8OqXVbCB",
        "outputId": "09a1d520-0846-4585-f78e-da4d1c073419"
      },
      "execution_count": 12,
      "outputs": [
        {
          "output_type": "stream",
          "name": "stdout",
          "text": [
            "[[1.         0.40207758 0.40425045]\n",
            " [0.40207758 1.         0.45647296]\n",
            " [0.40425045 0.45647296 1.        ]]\n",
            "shape: (3, 3)\n"
          ]
        }
      ]
    },
    {
      "cell_type": "markdown",
      "source": [
        "### Opinion Review 데이터 세트를 이용한 문서 유사도 측정"
      ],
      "metadata": {
        "id": "mhiWv-3LYSEi"
      }
    },
    {
      "cell_type": "code",
      "source": [
        "from nltk.stem import WordNetLemmatizer\n",
        "import nltk\n",
        "import string\n",
        "\n",
        "remove_punct_dict = dict((ord(punct), None) for punct in string.punctuation)\n",
        "lemmar = WordNetLemmatizer()\n",
        "\n",
        "def LemTokens(tokens):\n",
        "    return [lemmar.lemmatize(token) for token in tokens]\n",
        "\n",
        "def LemNormalize(text):\n",
        "    return LemTokens(nltk.word_tokenize(text.lower().translate(remove_punct_dict)))"
      ],
      "metadata": {
        "id": "HKKLXxZAZeWf"
      },
      "execution_count": 19,
      "outputs": []
    },
    {
      "cell_type": "code",
      "source": [
        "import pandas as pd\n",
        "import glob ,os\n",
        "from sklearn.feature_extraction.text import TfidfVectorizer\n",
        "from sklearn.cluster import KMeans"
      ],
      "metadata": {
        "id": "S3Ca7dAIZfRA"
      },
      "execution_count": 20,
      "outputs": []
    },
    {
      "cell_type": "code",
      "source": [
        "#drive mount\n",
        "from google.colab import drive\n",
        "drive.mount('/content/mydrive')"
      ],
      "metadata": {
        "colab": {
          "base_uri": "https://localhost:8080/"
        },
        "id": "o7uI3rr3Z-o8",
        "outputId": "6e059f3e-34c7-4d84-bda6-c8756232a895"
      },
      "execution_count": 21,
      "outputs": [
        {
          "output_type": "stream",
          "name": "stdout",
          "text": [
            "Mounted at /content/mydrive\n"
          ]
        }
      ]
    },
    {
      "cell_type": "code",
      "source": [
        "path = r'/content/mydrive/MyDrive/Colab_Notebooks/학회 OB/데이터/OpinosisDataset1.0/topics'\n",
        "all_files = glob.glob(os.path.join(path, \"*.data\"))\n",
        "filename_list = []\n",
        "opinion_text = []\n",
        "\n",
        "for file_ in all_files:\n",
        "    df = pd.read_table(file_,index_col = None, header = 0,encoding = 'latin1')\n",
        "    filename_ = file_.split('\\\\')[-1]\n",
        "    filename = filename_.split('.')[0]\n",
        "    filename_list.append(filename)\n",
        "    opinion_text.append(df.to_string())\n",
        "\n",
        "document_df = pd.DataFrame({'filename':filename_list, 'opinion_text':opinion_text})\n",
        "\n",
        "# 피처 벡터화\n",
        "tfidf_vect = TfidfVectorizer(tokenizer = LemNormalize, stop_words = 'english', \\\n",
        "                             ngram_range = (1,2), min_df = 0.05, max_df = 0.85)\n",
        "feature_vect = tfidf_vect.fit_transform(document_df['opinion_text'])"
      ],
      "metadata": {
        "colab": {
          "base_uri": "https://localhost:8080/"
        },
        "id": "UKOQWic4Zg-r",
        "outputId": "5e17aa92-fa51-493b-f713-27a94270501c"
      },
      "execution_count": 22,
      "outputs": [
        {
          "output_type": "stream",
          "name": "stderr",
          "text": [
            "/usr/local/lib/python3.10/dist-packages/sklearn/feature_extraction/text.py:528: UserWarning: The parameter 'token_pattern' will not be used since 'tokenizer' is not None'\n",
            "  warnings.warn(\n",
            "/usr/local/lib/python3.10/dist-packages/sklearn/feature_extraction/text.py:409: UserWarning: Your stop_words may be inconsistent with your preprocessing. Tokenizing the stop words generated tokens ['ha', 'le', 'u', 'wa'] not in stop_words.\n",
            "  warnings.warn(\n"
          ]
        }
      ]
    },
    {
      "cell_type": "code",
      "source": [
        "# 문서 군집화\n",
        "km_cluster = KMeans(n_clusters = 3, max_iter = 10000, random_state = 0)\n",
        "km_cluster.fit(feature_vect)\n",
        "cluster_label = km_cluster.labels_\n",
        "cluster_centers = km_cluster.cluster_centers_\n",
        "document_df['cluster_label'] = cluster_label"
      ],
      "metadata": {
        "colab": {
          "base_uri": "https://localhost:8080/"
        },
        "id": "nYOlrEYKVa6b",
        "outputId": "b1ffd9ca-c358-4915-98ad-6e7ec740ce2a"
      },
      "execution_count": 23,
      "outputs": [
        {
          "output_type": "stream",
          "name": "stderr",
          "text": [
            "/usr/local/lib/python3.10/dist-packages/sklearn/cluster/_kmeans.py:870: FutureWarning: The default value of `n_init` will change from 10 to 'auto' in 1.4. Set the value of `n_init` explicitly to suppress the warning\n",
            "  warnings.warn(\n"
          ]
        }
      ]
    },
    {
      "cell_type": "code",
      "source": [
        "from sklearn.metrics.pairwise import cosine_similarity\n",
        "\n",
        "# cluster_label = 1인 데이터는 호텔로 클러스터링된 데이터임\n",
        "# DataFrame에서 해당 Index를 추출\n",
        "hotel_indexes = document_df[document_df['cluster_label'] == 1].index\n",
        "print('호텔로 클러스터링 된 문서들의 DataFrame Index:', hotel_indexes)\n",
        "\n",
        "# 호텔로 클러스터링 된 데이터 중 첫번째 문서를 추출하여 파일명 표시\n",
        "comparison_docname = document_df.iloc[hotel_indexes[0]]['filename']\n",
        "print('##### 비교 기준 문서명 ',comparison_docname,' 와 타 문서 유사도######')\n",
        "\n",
        "''' document_df에서 추출한 Index 객체를 feature_vect로 입력하여 호텔 클러스터링된 feature_vect 추출\n",
        "이를 이용하여 호텔로 클러스터링 된 문서 중 첫번째 문서와 다른 문서간의 코사인 유사도 측정'''\n",
        "similarity_pair = cosine_similarity(feature_vect[hotel_indexes[0]] , feature_vect[hotel_indexes])\n",
        "print(similarity_pair)"
      ],
      "metadata": {
        "colab": {
          "base_uri": "https://localhost:8080/"
        },
        "id": "4-TDLQbXVa4f",
        "outputId": "de57f5a5-5852-4deb-cdc3-87688dd35f18"
      },
      "execution_count": 28,
      "outputs": [
        {
          "output_type": "stream",
          "name": "stdout",
          "text": [
            "호텔로 클러스터링 된 문서들의 DataFrame Index: Int64Index([4, 5, 16, 18, 19, 22, 27, 35, 39, 48], dtype='int64')\n",
            "##### 비교 기준 문서명  /content/mydrive/MyDrive/Colab_Notebooks/학회 OB/데이터/OpinosisDataset1  와 타 문서 유사도######\n",
            "[[1.         0.83969704 0.25981841 0.33044002 0.15655631 0.27569738\n",
            "  0.16544257 0.18050974 0.65502034 0.06229873]]\n"
          ]
        }
      ]
    },
    {
      "cell_type": "code",
      "source": [
        "import seaborn as sns\n",
        "import numpy as np\n",
        "import matplotlib.pyplot as plt\n",
        "%matplotlib inline\n",
        "\n",
        "# argsort()를 이용하여 앞 예제의 첫번째 문서와 타 문서 간 유사도가 큰 순으로 정렬한 인덱스를 반환하되 자기 자신은 제외.\n",
        "sorted_index = similarity_pair.argsort()[:,::-1]\n",
        "sorted_index = sorted_index[:, 1:]\n",
        "\n",
        "# 유사도가 큰 순으로 hotel_indexes를 추출하여 재정렬\n",
        "hotel_sorted_indexes = hotel_indexes[sorted_index.reshape(-1)]\n",
        "\n",
        "# 유사도가 큰 순으로 유사도 값을 재정렬하되 자기 자신은 제외\n",
        "hotel_1_sim_value = np.sort(similarity_pair.reshape(-1))[::-1]\n",
        "hotel_1_sim_value = hotel_1_sim_value[1:]\n",
        "\n",
        "# 유사도가 큰 순으로 정렬된 Index와 유사도 값을 이용하여 파일명과 유사도값을 Seaborn 막대 그래프로 시각화\n",
        "hotel_1_sim_df = pd.DataFrame()\n",
        "hotel_1_sim_df['filename'] = document_df.iloc[hotel_sorted_indexes]['filename']\n",
        "hotel_1_sim_df['similarity'] = hotel_1_sim_value\n",
        "\n",
        "sns.barplot(x='similarity', y='filename',data=hotel_1_sim_df)\n",
        "plt.title(comparison_docname)"
      ],
      "metadata": {
        "colab": {
          "base_uri": "https://localhost:8080/",
          "height": 1000
        },
        "id": "0g8YXuGUVa2k",
        "outputId": "0859f5e7-452c-4f3b-e8f2-03ad9395a3d7"
      },
      "execution_count": 29,
      "outputs": [
        {
          "output_type": "execute_result",
          "data": {
            "text/plain": [
              "Text(0.5, 1.0, '/content/mydrive/MyDrive/Colab_Notebooks/학회 OB/데이터/OpinosisDataset1')"
            ]
          },
          "metadata": {},
          "execution_count": 29
        },
        {
          "output_type": "stream",
          "name": "stderr",
          "text": [
            "/usr/local/lib/python3.10/dist-packages/IPython/core/events.py:89: UserWarning: Glyph 4370 (\\N{HANGUL CHOSEONG HIEUH}) missing from current font.\n",
            "  func(*args, **kwargs)\n",
            "/usr/local/lib/python3.10/dist-packages/IPython/core/events.py:89: UserWarning: Glyph 4449 (\\N{HANGUL JUNGSEONG A}) missing from current font.\n",
            "  func(*args, **kwargs)\n",
            "/usr/local/lib/python3.10/dist-packages/IPython/core/events.py:89: UserWarning: Glyph 4520 (\\N{HANGUL JONGSEONG KIYEOK}) missing from current font.\n",
            "  func(*args, **kwargs)\n",
            "/usr/local/lib/python3.10/dist-packages/IPython/core/events.py:89: UserWarning: Glyph 4460 (\\N{HANGUL JUNGSEONG OE}) missing from current font.\n",
            "  func(*args, **kwargs)\n",
            "/usr/local/lib/python3.10/dist-packages/IPython/core/events.py:89: UserWarning: Glyph 4355 (\\N{HANGUL CHOSEONG TIKEUT}) missing from current font.\n",
            "  func(*args, **kwargs)\n",
            "/usr/local/lib/python3.10/dist-packages/IPython/core/events.py:89: UserWarning: Glyph 4454 (\\N{HANGUL JUNGSEONG E}) missing from current font.\n",
            "  func(*args, **kwargs)\n",
            "/usr/local/lib/python3.10/dist-packages/IPython/core/events.py:89: UserWarning: Glyph 4363 (\\N{HANGUL CHOSEONG IEUNG}) missing from current font.\n",
            "  func(*args, **kwargs)\n",
            "/usr/local/lib/python3.10/dist-packages/IPython/core/events.py:89: UserWarning: Glyph 4469 (\\N{HANGUL JUNGSEONG I}) missing from current font.\n",
            "  func(*args, **kwargs)\n",
            "/usr/local/lib/python3.10/dist-packages/IPython/core/events.py:89: UserWarning: Glyph 4368 (\\N{HANGUL CHOSEONG THIEUTH}) missing from current font.\n",
            "  func(*args, **kwargs)\n",
            "/usr/local/lib/python3.10/dist-packages/IPython/core/events.py:89: UserWarning: Glyph 4453 (\\N{HANGUL JUNGSEONG EO}) missing from current font.\n",
            "  func(*args, **kwargs)\n",
            "/usr/local/lib/python3.10/dist-packages/IPython/core/pylabtools.py:151: UserWarning: Glyph 4370 (\\N{HANGUL CHOSEONG HIEUH}) missing from current font.\n",
            "  fig.canvas.print_figure(bytes_io, **kw)\n",
            "/usr/local/lib/python3.10/dist-packages/IPython/core/pylabtools.py:151: UserWarning: Glyph 4449 (\\N{HANGUL JUNGSEONG A}) missing from current font.\n",
            "  fig.canvas.print_figure(bytes_io, **kw)\n",
            "/usr/local/lib/python3.10/dist-packages/IPython/core/pylabtools.py:151: UserWarning: Glyph 4520 (\\N{HANGUL JONGSEONG KIYEOK}) missing from current font.\n",
            "  fig.canvas.print_figure(bytes_io, **kw)\n",
            "/usr/local/lib/python3.10/dist-packages/IPython/core/pylabtools.py:151: UserWarning: Glyph 4460 (\\N{HANGUL JUNGSEONG OE}) missing from current font.\n",
            "  fig.canvas.print_figure(bytes_io, **kw)\n",
            "/usr/local/lib/python3.10/dist-packages/IPython/core/pylabtools.py:151: UserWarning: Glyph 4355 (\\N{HANGUL CHOSEONG TIKEUT}) missing from current font.\n",
            "  fig.canvas.print_figure(bytes_io, **kw)\n",
            "/usr/local/lib/python3.10/dist-packages/IPython/core/pylabtools.py:151: UserWarning: Glyph 4454 (\\N{HANGUL JUNGSEONG E}) missing from current font.\n",
            "  fig.canvas.print_figure(bytes_io, **kw)\n",
            "/usr/local/lib/python3.10/dist-packages/IPython/core/pylabtools.py:151: UserWarning: Glyph 4363 (\\N{HANGUL CHOSEONG IEUNG}) missing from current font.\n",
            "  fig.canvas.print_figure(bytes_io, **kw)\n",
            "/usr/local/lib/python3.10/dist-packages/IPython/core/pylabtools.py:151: UserWarning: Glyph 4469 (\\N{HANGUL JUNGSEONG I}) missing from current font.\n",
            "  fig.canvas.print_figure(bytes_io, **kw)\n",
            "/usr/local/lib/python3.10/dist-packages/IPython/core/pylabtools.py:151: UserWarning: Glyph 4368 (\\N{HANGUL CHOSEONG THIEUTH}) missing from current font.\n",
            "  fig.canvas.print_figure(bytes_io, **kw)\n",
            "/usr/local/lib/python3.10/dist-packages/IPython/core/pylabtools.py:151: UserWarning: Glyph 4453 (\\N{HANGUL JUNGSEONG EO}) missing from current font.\n",
            "  fig.canvas.print_figure(bytes_io, **kw)\n"
          ]
        },
        {
          "output_type": "display_data",
          "data": {
            "text/plain": [
              "<Figure size 640x480 with 1 Axes>"
            ],
            "image/png": "[encoded data removed]"
          },
          "metadata": {}
        }
      ]
    },
    {
      "cell_type": "markdown",
      "source": [
        "##8.9. 한글 텍스트 처리 - 네이버 영화 평점 감성 분석"
      ],
      "metadata": {
        "id": "mVbqqxfQbTgN"
      }
    },
    {
      "cell_type": "markdown",
      "source": [
        "###한글 NLP 처리의 어려움"
      ],
      "metadata": {
        "id": "kopJSxiBbW3f"
      }
    },
    {
      "cell_type": "markdown",
      "source": [
        "-> 띄어쓰기와 다양한 조사때문에 라틴어 처리보다 어려움"
      ],
      "metadata": {
        "id": "JlaOh3XubbA9"
      }
    },
    {
      "cell_type": "markdown",
      "source": [
        "###KoNLPy 소개"
      ],
      "metadata": {
        "id": "zt4cX5pFbeto"
      }
    },
    {
      "cell_type": "markdown",
      "source": [
        "KoNLPy : 파이썬의 대표적인 한글 형태소 패키지"
      ],
      "metadata": {
        "id": "DIIM4vSvbhCd"
      }
    },
    {
      "cell_type": "code",
      "source": [
        "!pip install --upgrade pip\n",
        "!pip install JPype1-1.4.0-cp310-cp310-win_amd64.whl"
      ],
      "metadata": {
        "colab": {
          "base_uri": "https://localhost:8080/"
        },
        "id": "ZBQVHxmzVa0u",
        "outputId": "abc8839f-17df-48a2-db8d-af127807c4c0"
      },
      "execution_count": 30,
      "outputs": [
        {
          "output_type": "stream",
          "name": "stdout",
          "text": [
            "Requirement already satisfied: pip in /usr/local/lib/python3.10/dist-packages (23.1.2)\n",
            "Collecting pip\n",
            "  Downloading pip-23.3.1-py3-none-any.whl (2.1 MB)\n",
            "\u001b[2K     \u001b[90m━━━━━━━━━━━━━━━━━━━━━━━━━━━━━━━━━━━━━━━━\u001b[0m \u001b[32m2.1/2.1 MB\u001b[0m \u001b[31m7.3 MB/s\u001b[0m eta \u001b[36m0:00:00\u001b[0m\n",
            "\u001b[?25hInstalling collected packages: pip\n",
            "  Attempting uninstall: pip\n",
            "    Found existing installation: pip 23.1.2\n",
            "    Uninstalling pip-23.1.2:\n",
            "      Successfully uninstalled pip-23.1.2\n",
            "Successfully installed pip-23.3.1\n",
            "\u001b[33mWARNING: Requirement 'JPype1-1.4.0-cp310-cp310-win_amd64.whl' looks like a filename, but the file does not exist\u001b[0m\u001b[33m\n",
            "\u001b[0m\u001b[31mERROR: JPype1-1.4.0-cp310-cp310-win_amd64.whl is not a supported wheel on this platform.\u001b[0m\u001b[31m\n",
            "\u001b[0m"
          ]
        }
      ]
    },
    {
      "cell_type": "code",
      "source": [
        "pip install konlpy"
      ],
      "metadata": {
        "colab": {
          "base_uri": "https://localhost:8080/"
        },
        "id": "z02n5TsYVayz",
        "outputId": "5e33fb60-9417-407c-9f36-dee3ce89a774"
      },
      "execution_count": 31,
      "outputs": [
        {
          "output_type": "stream",
          "name": "stdout",
          "text": [
            "Collecting konlpy\n",
            "  Downloading konlpy-0.6.0-py2.py3-none-any.whl (19.4 MB)\n",
            "\u001b[2K     \u001b[90m━━━━━━━━━━━━━━━━━━━━━━━━━━━━━━━━━━━━━━━━\u001b[0m \u001b[32m19.4/19.4 MB\u001b[0m \u001b[31m70.7 MB/s\u001b[0m eta \u001b[36m0:00:00\u001b[0m\n",
            "\u001b[?25hCollecting JPype1>=0.7.0 (from konlpy)\n",
            "  Downloading JPype1-1.4.1-cp310-cp310-manylinux_2_12_x86_64.manylinux2010_x86_64.whl (465 kB)\n",
            "\u001b[2K     \u001b[90m━━━━━━━━━━━━━━━━━━━━━━━━━━━━━━━━━━━━━━━━\u001b[0m \u001b[32m465.3/465.3 kB\u001b[0m \u001b[31m29.3 MB/s\u001b[0m eta \u001b[36m0:00:00\u001b[0m\n",
            "\u001b[?25hRequirement already satisfied: lxml>=4.1.0 in /usr/local/lib/python3.10/dist-packages (from konlpy) (4.9.3)\n",
            "Requirement already satisfied: numpy>=1.6 in /usr/local/lib/python3.10/dist-packages (from konlpy) (1.23.5)\n",
            "Requirement already satisfied: packaging in /usr/local/lib/python3.10/dist-packages (from JPype1>=0.7.0->konlpy) (23.2)\n",
            "Installing collected packages: JPype1, konlpy\n",
            "Successfully installed JPype1-1.4.1 konlpy-0.6.0\n",
            "\u001b[33mWARNING: Running pip as the 'root' user can result in broken permissions and conflicting behaviour with the system package manager. It is recommended to use a virtual environment instead: https://pip.pypa.io/warnings/venv\u001b[0m\u001b[33m\n",
            "\u001b[0m"
          ]
        }
      ]
    },
    {
      "cell_type": "markdown",
      "source": [
        "###데이터 로딩"
      ],
      "metadata": {
        "id": "qoFtAJNBbsyP"
      }
    },
    {
      "cell_type": "code",
      "source": [
        "import pandas as pd\n",
        "\n",
        "train_df = pd.read_csv('/content/mydrive/MyDrive/Colab_Notebooks/학회 OB/데이터/ratings_train.txt', sep = '\\t')\n",
        "train_df.head(3)"
      ],
      "metadata": {
        "colab": {
          "base_uri": "https://localhost:8080/",
          "height": 143
        },
        "id": "qXBpzYUsVvag",
        "outputId": "bedf604a-2e35-4cc9-ff3a-a357cce26bfd"
      },
      "execution_count": 32,
      "outputs": [
        {
          "output_type": "execute_result",
          "data": {
            "text/plain": [
              "         id                           document  label\n",
              "0   9976970                아 더빙.. 진짜 짜증나네요 목소리      0\n",
              "1   3819312  흠...포스터보고 초딩영화줄....오버연기조차 가볍지 않구나      1\n",
              "2  10265843                  너무재밓었다그래서보는것을추천한다      0"
            ],
            "text/html": [
              "\n",
              "  <div id=\"df-cae7daf0-7a30-4b79-9775-5a7691e2efa7\" class=\"colab-df-container\">\n",
              "    <div>\n",
              "<style scoped>\n",
              "    .dataframe tbody tr th:only-of-type {\n",
              "        vertical-align: middle;\n",
              "    }\n",
              "\n",
              "    .dataframe tbody tr th {\n",
              "        vertical-align: top;\n",
              "    }\n",
              "\n",
              "    .dataframe thead th {\n",
              "        text-align: right;\n",
              "    }\n",
              "</style>\n",
              "<table border=\"1\" class=\"dataframe\">\n",
              "  <thead>\n",
              "    <tr style=\"text-align: right;\">\n",
              "      <th></th>\n",
              "      <th>id</th>\n",
              "      <th>document</th>\n",
              "      <th>label</th>\n",
              "    </tr>\n",
              "  </thead>\n",
              "  <tbody>\n",
              "    <tr>\n",
              "      <th>0</th>\n",
              "      <td>9976970</td>\n",
              "      <td>아 더빙.. 진짜 짜증나네요 목소리</td>\n",
              "      <td>0</td>\n",
              "    </tr>\n",
              "    <tr>\n",
              "      <th>1</th>\n",
              "      <td>3819312</td>\n",
              "      <td>흠...포스터보고 초딩영화줄....오버연기조차 가볍지 않구나</td>\n",
              "      <td>1</td>\n",
              "    </tr>\n",
              "    <tr>\n",
              "      <th>2</th>\n",
              "      <td>10265843</td>\n",
              "      <td>너무재밓었다그래서보는것을추천한다</td>\n",
              "      <td>0</td>\n",
              "    </tr>\n",
              "  </tbody>\n",
              "</table>\n",
              "</div>\n",
              "    <div class=\"colab-df-buttons\">\n",
              "\n",
              "  <div class=\"colab-df-container\">\n",
              "    <button class=\"colab-df-convert\" onclick=\"convertToInteractive('df-cae7daf0-7a30-4b79-9775-5a7691e2efa7')\"\n",
              "            title=\"Convert this dataframe to an interactive table.\"\n",
              "            style=\"display:none;\">\n",
              "\n",
              "  <svg xmlns=\"http://www.w3.org/2000/svg\" height=\"24px\" viewBox=\"0 -960 960 960\">\n",
              "    <path d=\"M120-120v-720h720v720H120Zm60-500h600v-160H180v160Zm220 220h160v-160H400v160Zm0 220h160v-160H400v160ZM180-400h160v-160H180v160Zm440 0h160v-160H620v160ZM180-180h160v-160H180v160Zm440 0h160v-160H620v160Z\"/>\n",
              "  </svg>\n",
              "    </button>\n",
              "\n",
              "  <style>\n",
              "    .colab-df-container {\n",
              "      display:flex;\n",
              "      gap: 12px;\n",
              "    }\n",
              "\n",
              "    .colab-df-convert {\n",
              "      background-color: #E8F0FE;\n",
              "      border: none;\n",
              "      border-radius: 50%;\n",
              "      cursor: pointer;\n",
              "      display: none;\n",
              "      fill: #1967D2;\n",
              "      height: 32px;\n",
              "      padding: 0 0 0 0;\n",
              "      width: 32px;\n",
              "    }\n",
              "\n",
              "    .colab-df-convert:hover {\n",
              "      background-color: #E2EBFA;\n",
              "      box-shadow: 0px 1px 2px rgba(60, 64, 67, 0.3), 0px 1px 3px 1px rgba(60, 64, 67, 0.15);\n",
              "      fill: #174EA6;\n",
              "    }\n",
              "\n",
              "    .colab-df-buttons div {\n",
              "      margin-bottom: 4px;\n",
              "    }\n",
              "\n",
              "    [theme=dark] .colab-df-convert {\n",
              "      background-color: #3B4455;\n",
              "      fill: #D2E3FC;\n",
              "    }\n",
              "\n",
              "    [theme=dark] .colab-df-convert:hover {\n",
              "      background-color: #434B5C;\n",
              "      box-shadow: 0px 1px 3px 1px rgba(0, 0, 0, 0.15);\n",
              "      filter: drop-shadow(0px 1px 2px rgba(0, 0, 0, 0.3));\n",
              "      fill: #FFFFFF;\n",
              "    }\n",
              "  </style>\n",
              "\n",
              "    <script>\n",
              "      const buttonEl =\n",
              "        document.querySelector('#df-cae7daf0-7a30-4b79-9775-5a7691e2efa7 button.colab-df-convert');\n",
              "      buttonEl.style.display =\n",
              "        google.colab.kernel.accessAllowed ? 'block' : 'none';\n",
              "\n",
              "      async function convertToInteractive(key) {\n",
              "        const element = document.querySelector('#df-cae7daf0-7a30-4b79-9775-5a7691e2efa7');\n",
              "        const dataTable =\n",
              "          await google.colab.kernel.invokeFunction('convertToInteractive',\n",
              "                                                    [key], {});\n",
              "        if (!dataTable) return;\n",
              "\n",
              "        const docLinkHtml = 'Like what you see? Visit the ' +\n",
              "          '<a target=\"_blank\" href=https://colab.research.google.com/notebooks/data_table.ipynb>data table notebook</a>'\n",
              "          + ' to learn more about interactive tables.';\n",
              "        element.innerHTML = '';\n",
              "        dataTable['output_type'] = 'display_data';\n",
              "        await google.colab.output.renderOutput(dataTable, element);\n",
              "        const docLink = document.createElement('div');\n",
              "        docLink.innerHTML = docLinkHtml;\n",
              "        element.appendChild(docLink);\n",
              "      }\n",
              "    </script>\n",
              "  </div>\n",
              "\n",
              "\n",
              "<div id=\"df-4d7d3757-2804-4a4f-b4ae-91c3e7cf7628\">\n",
              "  <button class=\"colab-df-quickchart\" onclick=\"quickchart('df-4d7d3757-2804-4a4f-b4ae-91c3e7cf7628')\"\n",
              "            title=\"Suggest charts.\"\n",
              "            style=\"display:none;\">\n",
              "\n",
              "<svg xmlns=\"http://www.w3.org/2000/svg\" height=\"24px\"viewBox=\"0 0 24 24\"\n",
              "     width=\"24px\">\n",
              "    <g>\n",
              "        <path d=\"M19 3H5c-1.1 0-2 .9-2 2v14c0 1.1.9 2 2 2h14c1.1 0 2-.9 2-2V5c0-1.1-.9-2-2-2zM9 17H7v-7h2v7zm4 0h-2V7h2v10zm4 0h-2v-4h2v4z\"/>\n",
              "    </g>\n",
              "</svg>\n",
              "  </button>\n",
              "\n",
              "<style>\n",
              "  .colab-df-quickchart {\n",
              "      --bg-color: #E8F0FE;\n",
              "      --fill-color: #1967D2;\n",
              "      --hover-bg-color: #E2EBFA;\n",
              "      --hover-fill-color: #174EA6;\n",
              "      --disabled-fill-color: #AAA;\n",
              "      --disabled-bg-color: #DDD;\n",
              "  }\n",
              "\n",
              "  [theme=dark] .colab-df-quickchart {\n",
              "      --bg-color: #3B4455;\n",
              "      --fill-color: #D2E3FC;\n",
              "      --hover-bg-color: #434B5C;\n",
              "      --hover-fill-color: #FFFFFF;\n",
              "      --disabled-bg-color: #3B4455;\n",
              "      --disabled-fill-color: #666;\n",
              "  }\n",
              "\n",
              "  .colab-df-quickchart {\n",
              "    background-color: var(--bg-color);\n",
              "    border: none;\n",
              "    border-radius: 50%;\n",
              "    cursor: pointer;\n",
              "    display: none;\n",
              "    fill: var(--fill-color);\n",
              "    height: 32px;\n",
              "    padding: 0;\n",
              "    width: 32px;\n",
              "  }\n",
              "\n",
              "  .colab-df-quickchart:hover {\n",
              "    background-color: var(--hover-bg-color);\n",
              "    box-shadow: 0 1px 2px rgba(60, 64, 67, 0.3), 0 1px 3px 1px rgba(60, 64, 67, 0.15);\n",
              "    fill: var(--button-hover-fill-color);\n",
              "  }\n",
              "\n",
              "  .colab-df-quickchart-complete:disabled,\n",
              "  .colab-df-quickchart-complete:disabled:hover {\n",
              "    background-color: var(--disabled-bg-color);\n",
              "    fill: var(--disabled-fill-color);\n",
              "    box-shadow: none;\n",
              "  }\n",
              "\n",
              "  .colab-df-spinner {\n",
              "    border: 2px solid var(--fill-color);\n",
              "    border-color: transparent;\n",
              "    border-bottom-color: var(--fill-color);\n",
              "    animation:\n",
              "      spin 1s steps(1) infinite;\n",
              "  }\n",
              "\n",
              "  @keyframes spin {\n",
              "    0% {\n",
              "      border-color: transparent;\n",
              "      border-bottom-color: var(--fill-color);\n",
              "      border-left-color: var(--fill-color);\n",
              "    }\n",
              "    20% {\n",
              "      border-color: transparent;\n",
              "      border-left-color: var(--fill-color);\n",
              "      border-top-color: var(--fill-color);\n",
              "    }\n",
              "    30% {\n",
              "      border-color: transparent;\n",
              "      border-left-color: var(--fill-color);\n",
              "      border-top-color: var(--fill-color);\n",
              "      border-right-color: var(--fill-color);\n",
              "    }\n",
              "    40% {\n",
              "      border-color: transparent;\n",
              "      border-right-color: var(--fill-color);\n",
              "      border-top-color: var(--fill-color);\n",
              "    }\n",
              "    60% {\n",
              "      border-color: transparent;\n",
              "      border-right-color: var(--fill-color);\n",
              "    }\n",
              "    80% {\n",
              "      border-color: transparent;\n",
              "      border-right-color: var(--fill-color);\n",
              "      border-bottom-color: var(--fill-color);\n",
              "    }\n",
              "    90% {\n",
              "      border-color: transparent;\n",
              "      border-bottom-color: var(--fill-color);\n",
              "    }\n",
              "  }\n",
              "</style>\n",
              "\n",
              "  <script>\n",
              "    async function quickchart(key) {\n",
              "      const quickchartButtonEl =\n",
              "        document.querySelector('#' + key + ' button');\n",
              "      quickchartButtonEl.disabled = true;  // To prevent multiple clicks.\n",
              "      quickchartButtonEl.classList.add('colab-df-spinner');\n",
              "      try {\n",
              "        const charts = await google.colab.kernel.invokeFunction(\n",
              "            'suggestCharts', [key], {});\n",
              "      } catch (error) {\n",
              "        console.error('Error during call to suggestCharts:', error);\n",
              "      }\n",
              "      quickchartButtonEl.classList.remove('colab-df-spinner');\n",
              "      quickchartButtonEl.classList.add('colab-df-quickchart-complete');\n",
              "    }\n",
              "    (() => {\n",
              "      let quickchartButtonEl =\n",
              "        document.querySelector('#df-4d7d3757-2804-4a4f-b4ae-91c3e7cf7628 button');\n",
              "      quickchartButtonEl.style.display =\n",
              "        google.colab.kernel.accessAllowed ? 'block' : 'none';\n",
              "    })();\n",
              "  </script>\n",
              "</div>\n",
              "    </div>\n",
              "  </div>\n"
            ]
          },
          "metadata": {},
          "execution_count": 32
        }
      ]
    },
    {
      "cell_type": "markdown",
      "source": [
        "1 : 긍정 / 0 : 부정 감성"
      ],
      "metadata": {
        "id": "61SPmgw5cNIb"
      }
    },
    {
      "cell_type": "code",
      "source": [
        "# label 값 비율 살펴보기\n",
        "train_df['label'].value_counts( )"
      ],
      "metadata": {
        "colab": {
          "base_uri": "https://localhost:8080/"
        },
        "id": "KGqQ-tFAVwkW",
        "outputId": "ee8369cf-612a-4702-cae4-539947ab6a84"
      },
      "execution_count": 33,
      "outputs": [
        {
          "output_type": "execute_result",
          "data": {
            "text/plain": [
              "0    75173\n",
              "1    74827\n",
              "Name: label, dtype: int64"
            ]
          },
          "metadata": {},
          "execution_count": 33
        }
      ]
    },
    {
      "cell_type": "markdown",
      "source": [
        "0과 1이 균등한 분포를 가짐"
      ],
      "metadata": {
        "id": "YneJ9abicRnk"
      }
    },
    {
      "cell_type": "code",
      "source": [
        "import re\n",
        "\n",
        "# 공백 처리\n",
        "train_df = train_df.fillna(' ')\n",
        "\n",
        "# 정규 표현식을 이용하여 숫자를 공백으로 변경(정규 표현식으로 \\d는 숫자를 의미)\n",
        "train_df['document'] = train_df['document'].apply(lambda x : re.sub(r\"\\d+\", \" \", x))\n",
        "\n",
        "# 테스트 데이터 셋을 로딩하고 동일하게 Null 및 숫자를 공백으로 변환\n",
        "test_df = pd.read_csv('/content/mydrive/MyDrive/Colab_Notebooks/학회 OB/데이터/ratings_test.txt', sep='\\t')\n",
        "test_df = test_df.fillna(' ')\n",
        "test_df['document'] = test_df['document'].apply(lambda x : re.sub(r\"\\d+\", \" \", x))\n",
        "\n",
        "# id 칼럼 삭제\n",
        "train_df.drop('id', axis = 1, inplace = True)\n",
        "test_df.drop('id', axis = 1, inplace = True)"
      ],
      "metadata": {
        "id": "w597sfbHVwiM"
      },
      "execution_count": 36,
      "outputs": []
    },
    {
      "cell_type": "code",
      "source": [
        "# 문장을 형태소 단어 형태로 반환하는 함수 생성\n",
        "from konlpy.tag import Twitter\n",
        "\n",
        "# \"Twitter\" has changed to \"Okt\"\n",
        "twitter = Twitter()\n",
        "def tw_tokenizer(text):\n",
        "  # 입력 인자로 들어온 텍스트를 형태소 단어로 토큰화해 리스트 형태로 반환\n",
        "  tokens_ko = twitter.morphs(text)\n",
        "  return tokens_ko"
      ],
      "metadata": {
        "colab": {
          "base_uri": "https://localhost:8080/"
        },
        "id": "gXnHWp9NVwf8",
        "outputId": "f7747516-a247-4aa3-c6af-a01c95ebaa32"
      },
      "execution_count": 37,
      "outputs": [
        {
          "output_type": "stream",
          "name": "stderr",
          "text": [
            "/usr/local/lib/python3.10/dist-packages/konlpy/tag/_okt.py:17: UserWarning: \"Twitter\" has changed to \"Okt\" since KoNLPy v0.4.5.\n",
            "  warn('\"Twitter\" has changed to \"Okt\" since KoNLPy v0.4.5.')\n"
          ]
        }
      ]
    },
    {
      "cell_type": "code",
      "source": [
        "#TF-IDF 피처 모델 생성\n",
        "\n",
        "from sklearn.feature_extraction.text import TfidfVectorizer\n",
        "from sklearn.linear_model import LogisticRegression\n",
        "from sklearn.model_selection import GridSearchCV\n",
        "\n",
        "# Twitter 객체의 morphs() 객체를 이용한 tokenizer를 사용. ngram_range는 (1,2)\n",
        "tfidf_vect = TfidfVectorizer(tokenizer=tw_tokenizer, ngram_range=(1,2), min_df=3, max_df=0.9)\n",
        "tfidf_vect.fit(train_df['document'])\n",
        "tfidf_matrix_train = tfidf_vect.transform(train_df['document'])"
      ],
      "metadata": {
        "id": "AQO0vxzDfOIB"
      },
      "execution_count": null,
      "outputs": []
    },
    {
      "cell_type": "code",
      "source": [
        "#로지스틱 회귀를 이용해 분류 기반의 감성 분석 수행\n",
        "\n",
        "lg_clf = LogisticRegression(random_state=0)\n",
        "\n",
        "# 파라미터 C 최적화를 위해 GridSearchCV를 이용.\n",
        "params = {'C' : [1, 3.5, 4.5, 5.5, 10]}\n",
        "grid_cv = GridSearchCV(lg_clf, param_grid=params, cv=3, scoring='accuracy', verbose=1)\n",
        "grid_cv.fit(tfidf_matrix_train, train_df['label'])\n",
        "print(grid_cv.best_params_, round(grid_cv.best_score_, 4))"
      ],
      "metadata": {
        "id": "b9PCTbb6Vwa8"
      },
      "execution_count": null,
      "outputs": []
    },
    {
      "cell_type": "code",
      "source": [
        "# 테스트 세트를 이용해 최종 감성 분석 예측 수행\n",
        "\n",
        "from sklearn.metrics import accuracy_score\n",
        "\n",
        "# 학습 데이터를 적용한 TfidfVectorizer를 이용해 테스트 데이터를 TF-IDF 값으로 피처 변환함.\n",
        "tfidf_matrix_test = tfidf_vect.transform(test_df['document'])\n",
        "\n",
        "# classifier는 GridSearchCV에서 최적 파라미터로 학습된 classifier를 그대로 이용\n",
        "best_estimator = grid_cv.best_estimator_\n",
        "preds = best_estimator.predict(tfidf_matrix_test)\n",
        "\n",
        "print('Logistic Regression 정확도: ', accuracy_score(test_df['label'], preds))"
      ],
      "metadata": {
        "id": "-pUbEGRQV17s"
      },
      "execution_count": null,
      "outputs": []
    }
  ]
}