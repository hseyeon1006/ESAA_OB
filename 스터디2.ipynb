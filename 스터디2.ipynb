{
  "cells": [
    {
      "cell_type": "markdown",
      "metadata": {
        "id": "view-in-github",
        "colab_type": "text"
      },
      "source": [
        "<a href=\"https://colab.research.google.com/github/hseyeon1006/ESAA_OB/blob/main/%EC%8A%A4%ED%84%B0%EB%94%942.ipynb\" target=\"_parent\"><img src=\"https://colab.research.google.com/assets/colab-badge.svg\" alt=\"Open In Colab\"/></a>"
      ]
    },
    {
      "cell_type": "code",
      "execution_count": null,
      "metadata": {
        "id": "GNpWDhWhkwJV"
      },
      "outputs": [],
      "source": [
        "# 필요 패키지 로드\n",
        "import pandas as pd\n",
        "import numpy as np\n",
        "import bisect\n",
        "from tqdm import tqdm\n",
        "from sklearn.metrics import mean_absolute_error\n",
        "from sklearn.preprocessing import LabelEncoder, MinMaxScaler\n",
        "from supervised.automl import AutoML"
      ]
    },
    {
      "cell_type": "code",
      "source": [
        "# 데이터 불러오기\n",
        "train = pd.read_csv('./data/train.csv').drop(columns=['SAMPLE_ID'])\n",
        "test = pd.read_csv('./data/test.csv').drop(columns=['SAMPLE_ID'])"
      ],
      "metadata": {
        "id": "EQJS5tFPk4QR"
      },
      "execution_count": null,
      "outputs": []
    },
    {
      "cell_type": "code",
      "source": [
        "# datetime 형 변환\n",
        "train['ATA'] = pd.to_datetime(train['ATA'])\n",
        "test['ATA'] = pd.to_datetime(test['ATA'])"
      ],
      "metadata": {
        "id": "8sI7nTobk-_B"
      },
      "execution_count": null,
      "outputs": []
    },
    {
      "cell_type": "code",
      "source": [
        "# 날짜 관련 변수 만들기\n",
        "for df in [train, test]:\n",
        "    df['year'] = df['ATA'].dt.year\n",
        "    df['month'] = df['ATA'].dt.month\n",
        "    df['day'] = df['ATA'].dt.day\n",
        "    df['hour'] = df['ATA'].dt.hour\n",
        "    df['minute'] = df['ATA'].dt.minute\n",
        "    df['weekday'] = df['ATA'].dt.weekday"
      ],
      "metadata": {
        "id": "QZbfTqEek-85"
      },
      "execution_count": null,
      "outputs": []
    },
    {
      "cell_type": "code",
      "source": [
        "# 전처리\n",
        "train.drop(columns='ATA', inplace=True)\n",
        "test.drop(columns='ATA', inplace=True)\n",
        "categorical_features = ['ARI_CO', 'ARI_PO', 'SHIP_TYPE_CATEGORY', 'ID', 'SHIPMANAGER', 'FLAG']\n",
        "encoders = {}"
      ],
      "metadata": {
        "id": "G5ag-UJ-k-6x"
      },
      "execution_count": null,
      "outputs": []
    },
    {
      "cell_type": "code",
      "source": [
        "# feature encoding\n",
        "for feature in tqdm(categorical_features, desc=\"Encoding features\"):\n",
        "    le = LabelEncoder()\n",
        "    train[feature] = le.fit_transform(train[feature].astype(str))\n",
        "    le_classes_set = set(le.classes_)\n",
        "    test[feature] = test[feature].map(lambda s: '-1' if s not in le_classes_set else s)\n",
        "    le_classes = le.classes_.tolist()\n",
        "    bisect.insort_left(le_classes, '-1')\n",
        "    le.classes_ = np.array(le_classes)\n",
        "    test[feature] = le.transform(test[feature].astype(str))\n",
        "    encoders[feature] = le"
      ],
      "metadata": {
        "id": "F0mO0BKzk-4p"
      },
      "execution_count": null,
      "outputs": []
    },
    {
      "cell_type": "code",
      "source": [
        "# fillna\n",
        "train.fillna(train.mean(), inplace=True)\n",
        "test.fillna(train.mean(), inplace=True)"
      ],
      "metadata": {
        "id": "T9aAOhpMk-2r"
      },
      "execution_count": null,
      "outputs": []
    },
    {
      "cell_type": "code",
      "source": [
        "# 계절 변수 생성\n",
        "def get_season(month):\n",
        "    if month in [3, 4, 5]:\n",
        "        return 2\n",
        "    elif month in [6, 7, 8]:\n",
        "        return 3\n",
        "    elif month in [9, 10, 11]:\n",
        "        return 4\n",
        "    else:\n",
        "        return 1"
      ],
      "metadata": {
        "id": "TxuQVtvik-0x"
      },
      "execution_count": null,
      "outputs": []
    },
    {
      "cell_type": "code",
      "source": [
        "train['WIND_INTENSITY'] = np.sqrt(train['U_WIND']**2 + train['V_WIND']**2)\n",
        "test['WIND_INTENSITY'] = np.sqrt(test['U_WIND']**2 + test['V_WIND']**2)\n",
        "train['U_WIND_SQUARE'] = train['U_WIND'] ** 2\n",
        "test['U_WIND_SQUARE'] = test['U_WIND'] ** 2\n",
        "train['V_WIND_SQUARE'] = train['V_WIND'] ** 2\n",
        "test['V_WIND_SQUARE'] = test['V_WIND'] ** 2\n",
        "train['SEASON'] = train['month'].apply(get_season)\n",
        "test['SEASON'] = test['month'].apply(get_season)\n",
        "train['WEEKEND'] = train['weekday'].apply(lambda x: 1 if x >= 5 else 0)\n",
        "test['WEEKEND'] = test['weekday'].apply(lambda x: 1 if x >= 5 else 0)\n",
        "train['VOLUME'] = train['BREADTH'] * train['LENGTH'] * train['DEPTH']\n",
        "test['VOLUME'] = test['BREADTH'] * test['LENGTH'] * test['DEPTH']\n",
        "train['WIND_DIRECTION'] = np.arctan2(train['V_WIND'], train['U_WIND']) * (180/np.pi)\n",
        "test['WIND_DIRECTION'] = np.arctan2(test['V_WIND'], test['U_WIND']) * (180/np.pi)\n",
        "train['WIND_DIRECTION'] = train['WIND_DIRECTION'].apply(lambda x: x+360 if x < 0 else x)\n",
        "test['WIND_DIRECTION'] = test['WIND_DIRECTION'].apply(lambda x: x+360 if x < 0 else x)\n",
        "train['WIND_SPEED_DIR'] = train['WIND_INTENSITY'] * train['WIND_DIRECTION']\n",
        "test['WIND_SPEED_DIR'] = test['WIND_INTENSITY'] * test['WIND_DIRECTION']"
      ],
      "metadata": {
        "id": "QxWFKsawk4NV"
      },
      "execution_count": null,
      "outputs": []
    },
    {
      "cell_type": "code",
      "source": [
        "X_train = train.drop(columns='CI_HOUR')\n",
        "Y_train = train['CI_HOUR']"
      ],
      "metadata": {
        "id": "4x0nSusFk4LO"
      },
      "execution_count": null,
      "outputs": []
    },
    {
      "cell_type": "code",
      "source": [
        "# min max scaling\n",
        "scaler = MinMaxScaler()\n",
        "train_scaled = scaler.fit_transform(X_train)\n",
        "test_scaled = scaler.transform(test)"
      ],
      "metadata": {
        "id": "JDk9Shesk4JE"
      },
      "execution_count": null,
      "outputs": []
    },
    {
      "cell_type": "code",
      "source": [
        "X_train = pd.DataFrame(train_scaled, columns = X_train.columns)\n",
        "test = pd.DataFrame(test_scaled, columns = test.columns)"
      ],
      "metadata": {
        "id": "ifV6jf33k4G1"
      },
      "execution_count": null,
      "outputs": []
    },
    {
      "cell_type": "code",
      "source": [
        "# 모델 지정\n",
        "automl = AutoML(\n",
        "    algorithms=[\"CatBoost\", \"Xgboost\", \"LightGBM\", \"Random Forest\"],\n",
        "    mode=\"Compete\",\n",
        "    ml_task=\"regression\",\n",
        "    eval_metric='mae',\n",
        "    random_state=42,\n",
        "    total_time_limit=None,\n",
        "    model_time_limit=None\n",
        ")"
      ],
      "metadata": {
        "id": "GRGjm9jFk4E1"
      },
      "execution_count": null,
      "outputs": []
    },
    {
      "cell_type": "code",
      "source": [
        "# 모델 fitting\n",
        "automl.fit(X_train, Y_train)"
      ],
      "metadata": {
        "id": "QErcLY9vk4Co"
      },
      "execution_count": null,
      "outputs": []
    },
    {
      "cell_type": "code",
      "source": [
        "pred = automl.predict(test)"
      ],
      "metadata": {
        "id": "UWPG4510k4Af"
      },
      "execution_count": null,
      "outputs": []
    },
    {
      "cell_type": "code",
      "source": [
        "submit = pd.read_csv('./data/sample_submission.csv')\n",
        "submit['CI_HOUR'] = pred\n",
        "submit.to_csv('./csv/submit.csv', index=False)"
      ],
      "metadata": {
        "id": "zYxxkWDhk3-l"
      },
      "execution_count": null,
      "outputs": []
    }
  ],
  "metadata": {
    "language_info": {
      "name": "python"
    },
    "colab": {
      "provenance": [],
      "include_colab_link": true
    }
  },
  "nbformat": 4,
  "nbformat_minor": 0
}