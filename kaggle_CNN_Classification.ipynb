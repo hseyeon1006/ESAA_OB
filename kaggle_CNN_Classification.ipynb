{
  "nbformat": 4,
  "nbformat_minor": 0,
  "metadata": {
    "colab": {
      "provenance": [],
      "authorship_tag": "ABX9TyO/xTrTcEDd3GIlz1WJ4ZpT",
      "include_colab_link": true
    },
    "kernelspec": {
      "name": "python3",
      "display_name": "Python 3"
    },
    "language_info": {
      "name": "python"
    }
  },
  "cells": [
    {
      "cell_type": "markdown",
      "metadata": {
        "id": "view-in-github",
        "colab_type": "text"
      },
      "source": [
        "<a href=\"https://colab.research.google.com/github/hseyeon1006/ESAA_OB/blob/%ED%95%84%EC%82%AC/kaggle_CNN_Classification.ipynb\" target=\"_parent\"><img src=\"https://colab.research.google.com/assets/colab-badge.svg\" alt=\"Open In Colab\"/></a>"
      ]
    },
    {
      "cell_type": "markdown",
      "source": [
        "https://www.kaggle.com/code/uysimty/keras-cnn-dog-or-cat-classification"
      ],
      "metadata": {
        "id": "IimDhBwHcFax"
      }
    },
    {
      "cell_type": "markdown",
      "source": [
        "##Import Library"
      ],
      "metadata": {
        "id": "2jcLzyOkct1j"
      }
    },
    {
      "cell_type": "code",
      "source": [
        "#drive mount\n",
        "from google.colab import drive\n",
        "drive.mount('/content/mydrive')"
      ],
      "metadata": {
        "colab": {
          "base_uri": "https://localhost:8080/"
        },
        "id": "CoNm3vTKe7oS",
        "outputId": "9b4828da-365e-45a2-d25b-d0208290fbaf"
      },
      "execution_count": null,
      "outputs": [
        {
          "output_type": "stream",
          "name": "stdout",
          "text": [
            "Mounted at /content/mydrive\n"
          ]
        }
      ]
    },
    {
      "cell_type": "code",
      "execution_count": null,
      "metadata": {
        "colab": {
          "base_uri": "https://localhost:8080/"
        },
        "id": "DFEZzQgTcCBm",
        "outputId": "3e0dc7f2-66aa-46a4-ad2e-50fd067f4a5f"
      },
      "outputs": [
        {
          "output_type": "stream",
          "name": "stdout",
          "text": [
            "['test1.zip', 'sampleSubmission.csv', 'train.zip']\n"
          ]
        }
      ],
      "source": [
        "import numpy as np\n",
        "import pandas as pd\n",
        "from keras.preprocessing.image import ImageDataGenerator, load_img\n",
        "from keras.utils import to_categorical\n",
        "from sklearn.model_selection import train_test_split\n",
        "import matplotlib.pyplot as plt\n",
        "import random\n",
        "import os\n",
        "print(os.listdir(\"/content/mydrive/MyDrive/Colab_Notebooks/학회 OB/데이터/input\"))"
      ]
    },
    {
      "cell_type": "markdown",
      "source": [
        "## Define Constants"
      ],
      "metadata": {
        "id": "z0bt0uw9c9f6"
      }
    },
    {
      "cell_type": "code",
      "source": [
        "FAST_RUN = False\n",
        "IMAGE_WIDTH=128\n",
        "IMAGE_HEIGHT=128\n",
        "IMAGE_SIZE=(IMAGE_WIDTH, IMAGE_HEIGHT)\n",
        "IMAGE_CHANNELS=3"
      ],
      "metadata": {
        "id": "6XV4rqkWc-hd"
      },
      "execution_count": null,
      "outputs": []
    },
    {
      "cell_type": "markdown",
      "source": [
        "## Prepare Traning Data"
      ],
      "metadata": {
        "id": "AGrEbvz1dABv"
      }
    },
    {
      "cell_type": "code",
      "source": [
        "filenames = os.listdir(\"/content/mydrive/MyDrive/Colab_Notebooks/학회 OB/데이터/input/train.zip\")\n",
        "categories = []\n",
        "for filename in filenames:\n",
        "    category = filename.split('.')[0]\n",
        "    if category == 'dog':\n",
        "        categories.append(1)\n",
        "    else:\n",
        "        categories.append(0)\n",
        "\n",
        "df = pd.DataFrame({\n",
        "    'filename': filenames,\n",
        "    'category': categories\n",
        "})"
      ],
      "metadata": {
        "colab": {
          "base_uri": "https://localhost:8080/",
          "height": 291
        },
        "id": "FQzy798jdBRk",
        "outputId": "ef0f7997-efdf-4896-bdff-b6b83c6e8f92"
      },
      "execution_count": null,
      "outputs": [
        {
          "output_type": "error",
          "ename": "NotADirectoryError",
          "evalue": "ignored",
          "traceback": [
            "\u001b[0;31m---------------------------------------------------------------------------\u001b[0m",
            "\u001b[0;31mNotADirectoryError\u001b[0m                        Traceback (most recent call last)",
            "\u001b[0;32m<ipython-input-12-98435bee482c>\u001b[0m in \u001b[0;36m<cell line: 1>\u001b[0;34m()\u001b[0m\n\u001b[0;32m----> 1\u001b[0;31m \u001b[0mfilenames\u001b[0m \u001b[0;34m=\u001b[0m \u001b[0mos\u001b[0m\u001b[0;34m.\u001b[0m\u001b[0mlistdir\u001b[0m\u001b[0;34m(\u001b[0m\u001b[0;34m\"/content/mydrive/MyDrive/Colab_Notebooks/학회 OB/데이터/input/train.zip\"\u001b[0m\u001b[0;34m)\u001b[0m\u001b[0;34m\u001b[0m\u001b[0;34m\u001b[0m\u001b[0m\n\u001b[0m\u001b[1;32m      2\u001b[0m \u001b[0mcategories\u001b[0m \u001b[0;34m=\u001b[0m \u001b[0;34m[\u001b[0m\u001b[0;34m]\u001b[0m\u001b[0;34m\u001b[0m\u001b[0;34m\u001b[0m\u001b[0m\n\u001b[1;32m      3\u001b[0m \u001b[0;32mfor\u001b[0m \u001b[0mfilename\u001b[0m \u001b[0;32min\u001b[0m \u001b[0mfilenames\u001b[0m\u001b[0;34m:\u001b[0m\u001b[0;34m\u001b[0m\u001b[0;34m\u001b[0m\u001b[0m\n\u001b[1;32m      4\u001b[0m     \u001b[0mcategory\u001b[0m \u001b[0;34m=\u001b[0m \u001b[0mfilename\u001b[0m\u001b[0;34m.\u001b[0m\u001b[0msplit\u001b[0m\u001b[0;34m(\u001b[0m\u001b[0;34m'.'\u001b[0m\u001b[0;34m)\u001b[0m\u001b[0;34m[\u001b[0m\u001b[0;36m0\u001b[0m\u001b[0;34m]\u001b[0m\u001b[0;34m\u001b[0m\u001b[0;34m\u001b[0m\u001b[0m\n\u001b[1;32m      5\u001b[0m     \u001b[0;32mif\u001b[0m \u001b[0mcategory\u001b[0m \u001b[0;34m==\u001b[0m \u001b[0;34m'dog'\u001b[0m\u001b[0;34m:\u001b[0m\u001b[0;34m\u001b[0m\u001b[0;34m\u001b[0m\u001b[0m\n",
            "\u001b[0;31mNotADirectoryError\u001b[0m: [Errno 20] Not a directory: '/content/mydrive/MyDrive/Colab_Notebooks/학회 OB/데이터/input/train.zip'"
          ]
        }
      ]
    },
    {
      "cell_type": "code",
      "source": [
        "df.head()"
      ],
      "metadata": {
        "id": "YVE6BVbGdB_T"
      },
      "execution_count": null,
      "outputs": []
    },
    {
      "cell_type": "code",
      "source": [
        "df.tail()"
      ],
      "metadata": {
        "id": "zqjz4FJ4dDBr"
      },
      "execution_count": null,
      "outputs": []
    },
    {
      "cell_type": "markdown",
      "source": [
        "### See Total In count"
      ],
      "metadata": {
        "id": "DVqHhD9GdJMN"
      }
    },
    {
      "cell_type": "code",
      "source": [
        "df['category'].value_counts().plot.bar()"
      ],
      "metadata": {
        "id": "SEHuGGCDdK9W"
      },
      "execution_count": null,
      "outputs": []
    },
    {
      "cell_type": "markdown",
      "source": [
        "-> From our data we have 12000 cats and 12000 dogs"
      ],
      "metadata": {
        "id": "kTVcAzDddL4Y"
      }
    },
    {
      "cell_type": "markdown",
      "source": [
        "## See sample image"
      ],
      "metadata": {
        "id": "LToif8VkdNi-"
      }
    },
    {
      "cell_type": "code",
      "source": [
        "sample = random.choice(filenames)\n",
        "image = load_img(\"../input/train/train/\"+sample)\n",
        "plt.imshow(image)"
      ],
      "metadata": {
        "id": "i1AV3NPGdOmO"
      },
      "execution_count": null,
      "outputs": []
    },
    {
      "cell_type": "markdown",
      "source": [
        "## Build Model"
      ],
      "metadata": {
        "id": "Hj9OSfL9dP4q"
      }
    },
    {
      "cell_type": "markdown",
      "source": [
        "![image.png](data:image/png;base64,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)"
      ],
      "metadata": {
        "id": "X0umbT9tdSRj"
      }
    },
    {
      "cell_type": "markdown",
      "source": [
        "* Input Layer: It represent input image data. It will reshape image into single diminsion array. Example your image is 64x64 = 4096, it will convert to (4096,1) array.\n",
        "* Conv Layer: This layer will extract features from image.\n",
        "* Pooling Layer: This layerreduce the spatial volume of input image after convolution.\n",
        "* Fully Connected Layer: It connect the network from a layer to another layer\n",
        "Output Layer: It is the predicted values layer."
      ],
      "metadata": {
        "id": "dzIMKdFmdThP"
      }
    },
    {
      "cell_type": "code",
      "source": [
        "from keras.models import Sequential\n",
        "from keras.layers import Conv2D, MaxPooling2D, Dropout, Flatten, Dense, Activation, BatchNormalization\n",
        "\n",
        "model = Sequential()\n",
        "\n",
        "model.add(Conv2D(32, (3, 3), activation='relu', input_shape=(IMAGE_WIDTH, IMAGE_HEIGHT, IMAGE_CHANNELS)))\n",
        "model.add(BatchNormalization())\n",
        "model.add(MaxPooling2D(pool_size=(2, 2)))\n",
        "model.add(Dropout(0.25))\n",
        "\n",
        "model.add(Conv2D(64, (3, 3), activation='relu'))\n",
        "model.add(BatchNormalization())\n",
        "model.add(MaxPooling2D(pool_size=(2, 2)))\n",
        "model.add(Dropout(0.25))\n",
        "\n",
        "model.add(Conv2D(128, (3, 3), activation='relu'))\n",
        "model.add(BatchNormalization())\n",
        "model.add(MaxPooling2D(pool_size=(2, 2)))\n",
        "model.add(Dropout(0.25))\n",
        "\n",
        "model.add(Flatten())\n",
        "model.add(Dense(512, activation='relu'))\n",
        "model.add(BatchNormalization())\n",
        "model.add(Dropout(0.5))\n",
        "model.add(Dense(2, activation='softmax')) # 2 because we have cat and dog classes\n",
        "\n",
        "model.compile(loss='categorical_crossentropy', optimizer='rmsprop', metrics=['accuracy'])\n",
        "\n",
        "model.summary()"
      ],
      "metadata": {
        "id": "3-FyR-H2dWpX"
      },
      "execution_count": null,
      "outputs": []
    },
    {
      "cell_type": "markdown",
      "source": [
        "## Callbacks"
      ],
      "metadata": {
        "id": "dyN8G5r3dYJy"
      }
    },
    {
      "cell_type": "code",
      "source": [
        "from keras.callbacks import EarlyStopping, ReduceLROnPlateau"
      ],
      "metadata": {
        "id": "FzeTFMB_dZVQ"
      },
      "execution_count": null,
      "outputs": []
    },
    {
      "cell_type": "markdown",
      "source": [
        "### Early Stop"
      ],
      "metadata": {
        "id": "_xviiTASdaNw"
      }
    },
    {
      "cell_type": "markdown",
      "source": [
        "To prevent over fitting we will stop the learning after 10 epochs and val_loss value not decreased\n",
        "\n"
      ],
      "metadata": {
        "id": "iDQdaon9dcOs"
      }
    },
    {
      "cell_type": "code",
      "source": [
        "earlystop = EarlyStopping(patience=10)"
      ],
      "metadata": {
        "id": "qDCxDSDGdfJg"
      },
      "execution_count": null,
      "outputs": []
    },
    {
      "cell_type": "markdown",
      "source": [
        "Learning Rate Reduction"
      ],
      "metadata": {
        "id": "fxe5YOESdhrq"
      }
    },
    {
      "cell_type": "code",
      "source": [
        "learning_rate_reduction = ReduceLROnPlateau(monitor='val_acc',\n",
        "                                            patience=2,\n",
        "                                            verbose=1,\n",
        "                                            factor=0.5,\n",
        "                                            min_lr=0.00001)"
      ],
      "metadata": {
        "id": "1lb5r0eydi8P"
      },
      "execution_count": null,
      "outputs": []
    },
    {
      "cell_type": "code",
      "source": [
        "callbacks = [earlystop, learning_rate_reduction]"
      ],
      "metadata": {
        "id": "RIGZPgwfdjsD"
      },
      "execution_count": null,
      "outputs": []
    },
    {
      "cell_type": "markdown",
      "source": [
        "## Prepare data"
      ],
      "metadata": {
        "id": "3MT-vw0PdklC"
      }
    },
    {
      "cell_type": "markdown",
      "source": [
        "We need to convert column category into string. So we will convert 1 to dog and 0 to cat"
      ],
      "metadata": {
        "id": "mjkKcyBOdnQ1"
      }
    },
    {
      "cell_type": "code",
      "source": [
        "df[\"category\"] = df[\"category\"].replace({0: 'cat', 1: 'dog'})"
      ],
      "metadata": {
        "id": "eZ1qdOwedqf8"
      },
      "execution_count": null,
      "outputs": []
    },
    {
      "cell_type": "code",
      "source": [
        "train_df, validate_df = train_test_split(df, test_size=0.20, random_state=42)\n",
        "train_df = train_df.reset_index(drop=True)\n",
        "validate_df = validate_df.reset_index(drop=True)"
      ],
      "metadata": {
        "id": "oBhOSLFSdrDr"
      },
      "execution_count": null,
      "outputs": []
    },
    {
      "cell_type": "code",
      "source": [
        "train_df['category'].value_counts().plot.bar()"
      ],
      "metadata": {
        "id": "_7kc6LNEdrpd"
      },
      "execution_count": null,
      "outputs": []
    },
    {
      "cell_type": "code",
      "source": [
        "validate_df['category'].value_counts().plot.bar()"
      ],
      "metadata": {
        "id": "35GUk1__dsiI"
      },
      "execution_count": null,
      "outputs": []
    },
    {
      "cell_type": "code",
      "source": [
        "total_train = train_df.shape[0]\n",
        "total_validate = validate_df.shape[0]\n",
        "batch_size=15"
      ],
      "metadata": {
        "id": "6ixEvJVpdtWP"
      },
      "execution_count": null,
      "outputs": []
    },
    {
      "cell_type": "markdown",
      "source": [
        "## Traning Generator"
      ],
      "metadata": {
        "id": "T75LVJfxduxD"
      }
    },
    {
      "cell_type": "code",
      "source": [
        "train_datagen = ImageDataGenerator(\n",
        "    rotation_range=15,\n",
        "    rescale=1./255,\n",
        "    shear_range=0.1,\n",
        "    zoom_range=0.2,\n",
        "    horizontal_flip=True,\n",
        "    width_shift_range=0.1,\n",
        "    height_shift_range=0.1\n",
        ")\n",
        "\n",
        "train_generator = train_datagen.flow_from_dataframe(\n",
        "    train_df,\n",
        "    \"../input/train/train/\",\n",
        "    x_col='filename',\n",
        "    y_col='category',\n",
        "    target_size=IMAGE_SIZE,\n",
        "    class_mode='categorical',\n",
        "    batch_size=batch_size\n",
        ")"
      ],
      "metadata": {
        "id": "v2-YLUf_dwM_"
      },
      "execution_count": null,
      "outputs": []
    },
    {
      "cell_type": "markdown",
      "source": [
        "### Validation Generator"
      ],
      "metadata": {
        "id": "LLHztF4Qdw90"
      }
    },
    {
      "cell_type": "code",
      "source": [
        "validation_datagen = ImageDataGenerator(rescale=1./255)\n",
        "validation_generator = validation_datagen.flow_from_dataframe(\n",
        "    validate_df,\n",
        "    \"../input/train/train/\",\n",
        "    x_col='filename',\n",
        "    y_col='category',\n",
        "    target_size=IMAGE_SIZE,\n",
        "    class_mode='categorical',\n",
        "    batch_size=batch_size\n",
        ")"
      ],
      "metadata": {
        "id": "NMSsvfBPdx_A"
      },
      "execution_count": null,
      "outputs": []
    },
    {
      "cell_type": "markdown",
      "source": [
        "## See how our generator work"
      ],
      "metadata": {
        "id": "_fV9LMOqdzIJ"
      }
    },
    {
      "cell_type": "code",
      "source": [
        "example_df = train_df.sample(n=1).reset_index(drop=True)\n",
        "example_generator = train_datagen.flow_from_dataframe(\n",
        "    example_df,\n",
        "    \"../input/train/train/\",\n",
        "    x_col='filename',\n",
        "    y_col='category',\n",
        "    target_size=IMAGE_SIZE,\n",
        "    class_mode='categorical'\n",
        ")"
      ],
      "metadata": {
        "id": "_8gREpr9d0lw"
      },
      "execution_count": null,
      "outputs": []
    },
    {
      "cell_type": "code",
      "source": [
        "plt.figure(figsize=(12, 12))\n",
        "for i in range(0, 15):\n",
        "    plt.subplot(5, 3, i+1)\n",
        "    for X_batch, Y_batch in example_generator:\n",
        "        image = X_batch[0]\n",
        "        plt.imshow(image)\n",
        "        break\n",
        "plt.tight_layout()\n",
        "plt.show()"
      ],
      "metadata": {
        "id": "sgEhqpY5d1Sg"
      },
      "execution_count": null,
      "outputs": []
    },
    {
      "cell_type": "markdown",
      "source": [
        "-> Seem to be nice"
      ],
      "metadata": {
        "id": "nT5fzP-pd2MT"
      }
    },
    {
      "cell_type": "markdown",
      "source": [
        "## Fit Model"
      ],
      "metadata": {
        "id": "zcGXiHFBd4RM"
      }
    },
    {
      "cell_type": "code",
      "source": [
        "epochs=3 if FAST_RUN else 50\n",
        "history = model.fit_generator(\n",
        "    train_generator,\n",
        "    epochs=epochs,\n",
        "    validation_data=validation_generator,\n",
        "    validation_steps=total_validate//batch_size,\n",
        "    steps_per_epoch=total_train//batch_size,\n",
        "    callbacks=callbacks\n",
        ")"
      ],
      "metadata": {
        "id": "EXdiV66_d5Sc"
      },
      "execution_count": null,
      "outputs": []
    },
    {
      "cell_type": "markdown",
      "source": [
        "## Save Model"
      ],
      "metadata": {
        "id": "sxomA7_Ld8GD"
      }
    },
    {
      "cell_type": "code",
      "source": [
        "model.save_weights(\"model.h5\")"
      ],
      "metadata": {
        "id": "PlXDpcZGd7d7"
      },
      "execution_count": null,
      "outputs": []
    },
    {
      "cell_type": "markdown",
      "source": [
        "## Virtualize Training"
      ],
      "metadata": {
        "id": "_nqUAUqtd9VD"
      }
    },
    {
      "cell_type": "code",
      "source": [
        "fig, (ax1, ax2) = plt.subplots(2, 1, figsize=(12, 12))\n",
        "ax1.plot(history.history['loss'], color='b', label=\"Training loss\")\n",
        "ax1.plot(history.history['val_loss'], color='r', label=\"validation loss\")\n",
        "ax1.set_xticks(np.arange(1, epochs, 1))\n",
        "ax1.set_yticks(np.arange(0, 1, 0.1))\n",
        "\n",
        "ax2.plot(history.history['acc'], color='b', label=\"Training accuracy\")\n",
        "ax2.plot(history.history['val_acc'], color='r',label=\"Validation accuracy\")\n",
        "ax2.set_xticks(np.arange(1, epochs, 1))\n",
        "\n",
        "legend = plt.legend(loc='best', shadow=True)\n",
        "plt.tight_layout()\n",
        "plt.show()"
      ],
      "metadata": {
        "id": "OqGhUhwxd-1C"
      },
      "execution_count": null,
      "outputs": []
    },
    {
      "cell_type": "markdown",
      "source": [
        "## Prepare Testing Data"
      ],
      "metadata": {
        "id": "4bKTr0_-eAdi"
      }
    },
    {
      "cell_type": "code",
      "source": [
        "test_filenames = os.listdir(\"../input/test1/test1\")\n",
        "test_df = pd.DataFrame({\n",
        "    'filename': test_filenames\n",
        "})\n",
        "nb_samples = test_df.shape[0]"
      ],
      "metadata": {
        "id": "gsdt9se8eB6X"
      },
      "execution_count": null,
      "outputs": []
    },
    {
      "cell_type": "markdown",
      "source": [
        "## Create Testing Generator"
      ],
      "metadata": {
        "id": "cFE_q55yeDGI"
      }
    },
    {
      "cell_type": "code",
      "source": [
        "test_gen = ImageDataGenerator(rescale=1./255)\n",
        "test_generator = test_gen.flow_from_dataframe(\n",
        "    test_df,\n",
        "    \"../input/test1/test1/\",\n",
        "    x_col='filename',\n",
        "    y_col=None,\n",
        "    class_mode=None,\n",
        "    target_size=IMAGE_SIZE,\n",
        "    batch_size=batch_size,\n",
        "    shuffle=False\n",
        ")"
      ],
      "metadata": {
        "id": "uCWoDFVceEZE"
      },
      "execution_count": null,
      "outputs": []
    },
    {
      "cell_type": "markdown",
      "source": [
        "## Predict"
      ],
      "metadata": {
        "id": "c1BtyrfSeIcM"
      }
    },
    {
      "cell_type": "code",
      "source": [
        "predict = model.predict_generator(test_generator, steps=np.ceil(nb_samples/batch_size))"
      ],
      "metadata": {
        "id": "bsh1ae9HeHUR"
      },
      "execution_count": null,
      "outputs": []
    },
    {
      "cell_type": "markdown",
      "source": [
        "-> For categoral classication the prediction will come with probability of each category. So we will pick the category that have the highest probability with numpy average max"
      ],
      "metadata": {
        "id": "SvgLk2Y0eJsi"
      }
    },
    {
      "cell_type": "code",
      "source": [
        "test_df['category'] = np.argmax(predict, axis=-1)"
      ],
      "metadata": {
        "id": "DRxOT7qneK8o"
      },
      "execution_count": null,
      "outputs": []
    },
    {
      "cell_type": "markdown",
      "source": [
        "-> We will convert the predict category back into our generator classes by using train_generator.class_indices. It is the classes that image generator map while converting data into computer vision"
      ],
      "metadata": {
        "id": "S9u5d-iceL-f"
      }
    },
    {
      "cell_type": "code",
      "source": [
        "label_map = dict((v,k) for k,v in train_generator.class_indices.items())\n",
        "test_df['category'] = test_df['category'].replace(label_map)"
      ],
      "metadata": {
        "id": "IyRonWpMeNVo"
      },
      "execution_count": null,
      "outputs": []
    },
    {
      "cell_type": "markdown",
      "source": [
        "-> From our prepare data part. We map data with {1: 'dog', 0: 'cat'}. Now we will map the result back to dog is 1 and cat is 0"
      ],
      "metadata": {
        "id": "lFY7wE6LeN8V"
      }
    },
    {
      "cell_type": "code",
      "source": [
        "test_df['category'] = test_df['category'].replace({ 'dog': 1, 'cat': 0 })"
      ],
      "metadata": {
        "id": "l5YLNe_WePCw"
      },
      "execution_count": null,
      "outputs": []
    },
    {
      "cell_type": "markdown",
      "source": [
        "### Virtaulize Result"
      ],
      "metadata": {
        "id": "FRdjKNaAeQFs"
      }
    },
    {
      "cell_type": "code",
      "source": [
        "test_df['category'].value_counts().plot.bar()"
      ],
      "metadata": {
        "id": "oZgbkn2neRbu"
      },
      "execution_count": null,
      "outputs": []
    },
    {
      "cell_type": "markdown",
      "source": [
        "### See predicted result with images"
      ],
      "metadata": {
        "id": "-5fyMQnqeTAh"
      }
    },
    {
      "cell_type": "code",
      "source": [
        "sample_test = test_df.head(18)\n",
        "sample_test.head()\n",
        "plt.figure(figsize=(12, 24))\n",
        "for index, row in sample_test.iterrows():\n",
        "    filename = row['filename']\n",
        "    category = row['category']\n",
        "    img = load_img(\"../input/test1/test1/\"+filename, target_size=IMAGE_SIZE)\n",
        "    plt.subplot(6, 3, index+1)\n",
        "    plt.imshow(img)\n",
        "    plt.xlabel(filename + '(' + \"{}\".format(category) + ')' )\n",
        "plt.tight_layout()\n",
        "plt.show()"
      ],
      "metadata": {
        "id": "9XGoHKtteUsf"
      },
      "execution_count": null,
      "outputs": []
    },
    {
      "cell_type": "markdown",
      "source": [
        "### Submission"
      ],
      "metadata": {
        "id": "gFzakOZ8eYxO"
      }
    },
    {
      "cell_type": "code",
      "source": [
        "submission_df = test_df.copy()\n",
        "submission_df['id'] = submission_df['filename'].str.split('.').str[0]\n",
        "submission_df['label'] = submission_df['category']\n",
        "submission_df.drop(['filename', 'category'], axis=1, inplace=True)\n",
        "submission_df.to_csv('submission.csv', index=False)"
      ],
      "metadata": {
        "id": "PvH6B28ZeZ_X"
      },
      "execution_count": null,
      "outputs": []
    }
  ]
}